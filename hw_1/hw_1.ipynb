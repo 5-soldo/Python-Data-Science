import numpy as np

**Тема “Вычисления с помощью Numpy”**
**задание 1**


a = np.array([[1, 6],
              [2, 8],
              [3, 11],
              [3, 10],
              [1, 7]])
a

mean_a = a.mean(axis=0)
mean_a

**задание 2**

a_centered = a - mean_a
a_centered


**задание 3**

a_centered_sp = np.dot(a_centered.T[0], a_centered.T[1])
a_centered_sp

N = a.shape[0] - 1
N

a_centered_sp / (a.shape[0] - 1)

##Тема “Работа с данными в Pandas”##
**Задание 1**

import pandas as pd

authors = pd.DataFrame({'author_id':[1, 2, 3], 
                           'author_name':['Тургенев', 'Чехов', 'Островский']}, columns=['author_id', 'author_name'])



authors

book  = pd.DataFrame({'author_id':[1, 1, 1, 2, 2, 3, 3],
                      'book_title':['Отцы и дети', 'Рудин', 'Дворянское гнездо', 'Толстый и тонкий', 'Дама с собачкой', 'Гроза', 'Таланты и поклонники'],
                      'price':[450, 300, 350, 500, 450, 370, 290]}, columns=['author_id', 'book_title', 'price'])

book

**задание 2**

authors_price = pd.merge(authors, book, on = 'author_id', how = 'outer')
authors_price

**задание 3**

top5 = authors_price.nlargest(5, 'price', keep='first')
top5

**задание 4**

authors_stat = authors_price['author_name'].value_counts()
authors_stat

stat_min = authors_price.groupby('author_name').agg({'price':['min', 'max', 'mean']})
stat_min

authors_stat = stat_min.rename(columns={'min':'min_price', 'max':'max_price', 'mean':'mean_price'})
authors_stat