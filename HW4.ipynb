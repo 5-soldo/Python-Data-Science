{
  "nbformat": 4,
  "nbformat_minor": 0,
  "metadata": {
    "colab": {
      "name": "HW4.ipynb",
      "provenance": [],
      "authorship_tag": "ABX9TyOD+g1JP73XUTaAgq/X7pqH",
      "include_colab_link": true
    },
    "kernelspec": {
      "name": "python3",
      "display_name": "Python 3"
    },
    "language_info": {
      "name": "python"
    }
  },
  "cells": [
    {
      "cell_type": "markdown",
      "metadata": {
        "id": "view-in-github",
        "colab_type": "text"
      },
      "source": [
        "<a href=\"https://colab.research.google.com/github/5-soldo/Python-Data-Science/blob/pds/HW4.ipynb\" target=\"_parent\"><img src=\"https://colab.research.google.com/assets/colab-badge.svg\" alt=\"Open In Colab\"/></a>"
      ]
    },
    {
      "cell_type": "markdown",
      "metadata": {
        "id": "nnD6h5eJAMvd"
      },
      "source": [
        "##Тема “Обучение без учителя”##\n",
        "**Задание 1**\n",
        "Импортируйте библиотеки pandas, numpy и matplotlib.\n",
        "Загрузите \"Boston House Prices dataset\" из встроенных наборов \n",
        "данных библиотеки sklearn.\n",
        "Создайте датафреймы X и y из этих данных.\n",
        "Разбейте эти датафреймы на тренировочные (X_train, y_train) и тестовые (X_test, y_test)\n",
        "с помощью функции train_test_split так, чтобы размер тестовой выборки\n",
        "составлял 20% от всех данных, при этом аргумент random_state должен быть равен 42.\n",
        "Масштабируйте данные с помощью StandardScaler.\n",
        "Постройте модель TSNE на тренировочный данных с параметрами:\n",
        "n_components=2, learning_rate=250, random_state=42.\n",
        "Постройте диаграмму рассеяния на этих данных.\n"
      ]
    },
    {
      "cell_type": "code",
      "metadata": {
        "id": "2gn0SL34_u8S"
      },
      "source": [
        "import numpy as np\n",
        "import pandas as pd\n",
        "import matplotlib.pyplot as plt"
      ],
      "execution_count": 68,
      "outputs": []
    },
    {
      "cell_type": "code",
      "metadata": {
        "id": "Ju3nxkwpAK-y"
      },
      "source": [
        "%config InlineBackend.figure_format = 'svg'\n",
        "%matplotlib inline"
      ],
      "execution_count": 69,
      "outputs": []
    },
    {
      "cell_type": "code",
      "metadata": {
        "id": "NieYRa11AaDY"
      },
      "source": [
        "from sklearn.datasets import load_boston"
      ],
      "execution_count": 70,
      "outputs": []
    },
    {
      "cell_type": "code",
      "metadata": {
        "id": "eVmh33oQA_SH",
        "colab": {
          "base_uri": "https://localhost:8080/",
          "height": 215
        },
        "outputId": "5162a4b2-e434-4827-81d5-bbe276bbe80f"
      },
      "source": [
        "boston = load_boston()\n",
        "data = boston['data']\n",
        "feature_names = boston['feature_names']\n",
        "\n",
        "X = pd.DataFrame(boston.data, columns=boston.feature_names)\n",
        "X.head()"
      ],
      "execution_count": 71,
      "outputs": [
        {
          "output_type": "execute_result",
          "data": {
            "text/html": [
              "<div>\n",
              "<style scoped>\n",
              "    .dataframe tbody tr th:only-of-type {\n",
              "        vertical-align: middle;\n",
              "    }\n",
              "\n",
              "    .dataframe tbody tr th {\n",
              "        vertical-align: top;\n",
              "    }\n",
              "\n",
              "    .dataframe thead th {\n",
              "        text-align: right;\n",
              "    }\n",
              "</style>\n",
              "<table border=\"1\" class=\"dataframe\">\n",
              "  <thead>\n",
              "    <tr style=\"text-align: right;\">\n",
              "      <th></th>\n",
              "      <th>CRIM</th>\n",
              "      <th>ZN</th>\n",
              "      <th>INDUS</th>\n",
              "      <th>CHAS</th>\n",
              "      <th>NOX</th>\n",
              "      <th>RM</th>\n",
              "      <th>AGE</th>\n",
              "      <th>DIS</th>\n",
              "      <th>RAD</th>\n",
              "      <th>TAX</th>\n",
              "      <th>PTRATIO</th>\n",
              "      <th>B</th>\n",
              "      <th>LSTAT</th>\n",
              "    </tr>\n",
              "  </thead>\n",
              "  <tbody>\n",
              "    <tr>\n",
              "      <th>0</th>\n",
              "      <td>0.00632</td>\n",
              "      <td>18.0</td>\n",
              "      <td>2.31</td>\n",
              "      <td>0.0</td>\n",
              "      <td>0.538</td>\n",
              "      <td>6.575</td>\n",
              "      <td>65.2</td>\n",
              "      <td>4.0900</td>\n",
              "      <td>1.0</td>\n",
              "      <td>296.0</td>\n",
              "      <td>15.3</td>\n",
              "      <td>396.90</td>\n",
              "      <td>4.98</td>\n",
              "    </tr>\n",
              "    <tr>\n",
              "      <th>1</th>\n",
              "      <td>0.02731</td>\n",
              "      <td>0.0</td>\n",
              "      <td>7.07</td>\n",
              "      <td>0.0</td>\n",
              "      <td>0.469</td>\n",
              "      <td>6.421</td>\n",
              "      <td>78.9</td>\n",
              "      <td>4.9671</td>\n",
              "      <td>2.0</td>\n",
              "      <td>242.0</td>\n",
              "      <td>17.8</td>\n",
              "      <td>396.90</td>\n",
              "      <td>9.14</td>\n",
              "    </tr>\n",
              "    <tr>\n",
              "      <th>2</th>\n",
              "      <td>0.02729</td>\n",
              "      <td>0.0</td>\n",
              "      <td>7.07</td>\n",
              "      <td>0.0</td>\n",
              "      <td>0.469</td>\n",
              "      <td>7.185</td>\n",
              "      <td>61.1</td>\n",
              "      <td>4.9671</td>\n",
              "      <td>2.0</td>\n",
              "      <td>242.0</td>\n",
              "      <td>17.8</td>\n",
              "      <td>392.83</td>\n",
              "      <td>4.03</td>\n",
              "    </tr>\n",
              "    <tr>\n",
              "      <th>3</th>\n",
              "      <td>0.03237</td>\n",
              "      <td>0.0</td>\n",
              "      <td>2.18</td>\n",
              "      <td>0.0</td>\n",
              "      <td>0.458</td>\n",
              "      <td>6.998</td>\n",
              "      <td>45.8</td>\n",
              "      <td>6.0622</td>\n",
              "      <td>3.0</td>\n",
              "      <td>222.0</td>\n",
              "      <td>18.7</td>\n",
              "      <td>394.63</td>\n",
              "      <td>2.94</td>\n",
              "    </tr>\n",
              "    <tr>\n",
              "      <th>4</th>\n",
              "      <td>0.06905</td>\n",
              "      <td>0.0</td>\n",
              "      <td>2.18</td>\n",
              "      <td>0.0</td>\n",
              "      <td>0.458</td>\n",
              "      <td>7.147</td>\n",
              "      <td>54.2</td>\n",
              "      <td>6.0622</td>\n",
              "      <td>3.0</td>\n",
              "      <td>222.0</td>\n",
              "      <td>18.7</td>\n",
              "      <td>396.90</td>\n",
              "      <td>5.33</td>\n",
              "    </tr>\n",
              "  </tbody>\n",
              "</table>\n",
              "</div>"
            ],
            "text/plain": [
              "      CRIM    ZN  INDUS  CHAS    NOX  ...  RAD    TAX  PTRATIO       B  LSTAT\n",
              "0  0.00632  18.0   2.31   0.0  0.538  ...  1.0  296.0     15.3  396.90   4.98\n",
              "1  0.02731   0.0   7.07   0.0  0.469  ...  2.0  242.0     17.8  396.90   9.14\n",
              "2  0.02729   0.0   7.07   0.0  0.469  ...  2.0  242.0     17.8  392.83   4.03\n",
              "3  0.03237   0.0   2.18   0.0  0.458  ...  3.0  222.0     18.7  394.63   2.94\n",
              "4  0.06905   0.0   2.18   0.0  0.458  ...  3.0  222.0     18.7  396.90   5.33\n",
              "\n",
              "[5 rows x 13 columns]"
            ]
          },
          "metadata": {
            "tags": []
          },
          "execution_count": 71
        }
      ]
    },
    {
      "cell_type": "code",
      "metadata": {
        "id": "T3RiC9bnEB1o"
      },
      "source": [
        "target = boston['target']"
      ],
      "execution_count": 72,
      "outputs": []
    },
    {
      "cell_type": "code",
      "metadata": {
        "id": "M-0KyGpdHPxE",
        "colab": {
          "base_uri": "https://localhost:8080/",
          "height": 195
        },
        "outputId": "863b70e3-5c62-4c58-c7d9-25f052339aa4"
      },
      "source": [
        "y = pd.DataFrame(boston.target, columns=['Price'])\n",
        "y.head()"
      ],
      "execution_count": 73,
      "outputs": [
        {
          "output_type": "execute_result",
          "data": {
            "text/html": [
              "<div>\n",
              "<style scoped>\n",
              "    .dataframe tbody tr th:only-of-type {\n",
              "        vertical-align: middle;\n",
              "    }\n",
              "\n",
              "    .dataframe tbody tr th {\n",
              "        vertical-align: top;\n",
              "    }\n",
              "\n",
              "    .dataframe thead th {\n",
              "        text-align: right;\n",
              "    }\n",
              "</style>\n",
              "<table border=\"1\" class=\"dataframe\">\n",
              "  <thead>\n",
              "    <tr style=\"text-align: right;\">\n",
              "      <th></th>\n",
              "      <th>Price</th>\n",
              "    </tr>\n",
              "  </thead>\n",
              "  <tbody>\n",
              "    <tr>\n",
              "      <th>0</th>\n",
              "      <td>24.0</td>\n",
              "    </tr>\n",
              "    <tr>\n",
              "      <th>1</th>\n",
              "      <td>21.6</td>\n",
              "    </tr>\n",
              "    <tr>\n",
              "      <th>2</th>\n",
              "      <td>34.7</td>\n",
              "    </tr>\n",
              "    <tr>\n",
              "      <th>3</th>\n",
              "      <td>33.4</td>\n",
              "    </tr>\n",
              "    <tr>\n",
              "      <th>4</th>\n",
              "      <td>36.2</td>\n",
              "    </tr>\n",
              "  </tbody>\n",
              "</table>\n",
              "</div>"
            ],
            "text/plain": [
              "   Price\n",
              "0   24.0\n",
              "1   21.6\n",
              "2   34.7\n",
              "3   33.4\n",
              "4   36.2"
            ]
          },
          "metadata": {
            "tags": []
          },
          "execution_count": 73
        }
      ]
    },
    {
      "cell_type": "code",
      "metadata": {
        "id": "W7hSHoVSIgQD"
      },
      "source": [
        "from sklearn.model_selection import train_test_split"
      ],
      "execution_count": 74,
      "outputs": []
    },
    {
      "cell_type": "code",
      "metadata": {
        "id": "YYFPsovvIOcH"
      },
      "source": [
        "X_train, X_test, y_train, y_test = train_test_split(X, y, test_size=0.20, random_state=42)"
      ],
      "execution_count": 75,
      "outputs": []
    },
    {
      "cell_type": "code",
      "metadata": {
        "id": "nG685vYVKJYd",
        "colab": {
          "base_uri": "https://localhost:8080/",
          "height": 304
        },
        "outputId": "0e4df4bb-f4c0-4f33-e934-f60a97d2fca3"
      },
      "source": [
        "X_train.describe()"
      ],
      "execution_count": 76,
      "outputs": [
        {
          "output_type": "execute_result",
          "data": {
            "text/html": [
              "<div>\n",
              "<style scoped>\n",
              "    .dataframe tbody tr th:only-of-type {\n",
              "        vertical-align: middle;\n",
              "    }\n",
              "\n",
              "    .dataframe tbody tr th {\n",
              "        vertical-align: top;\n",
              "    }\n",
              "\n",
              "    .dataframe thead th {\n",
              "        text-align: right;\n",
              "    }\n",
              "</style>\n",
              "<table border=\"1\" class=\"dataframe\">\n",
              "  <thead>\n",
              "    <tr style=\"text-align: right;\">\n",
              "      <th></th>\n",
              "      <th>CRIM</th>\n",
              "      <th>ZN</th>\n",
              "      <th>INDUS</th>\n",
              "      <th>CHAS</th>\n",
              "      <th>NOX</th>\n",
              "      <th>RM</th>\n",
              "      <th>AGE</th>\n",
              "      <th>DIS</th>\n",
              "      <th>RAD</th>\n",
              "      <th>TAX</th>\n",
              "      <th>PTRATIO</th>\n",
              "      <th>B</th>\n",
              "      <th>LSTAT</th>\n",
              "    </tr>\n",
              "  </thead>\n",
              "  <tbody>\n",
              "    <tr>\n",
              "      <th>count</th>\n",
              "      <td>404.000000</td>\n",
              "      <td>404.000000</td>\n",
              "      <td>404.000000</td>\n",
              "      <td>404.000000</td>\n",
              "      <td>404.000000</td>\n",
              "      <td>404.000000</td>\n",
              "      <td>404.000000</td>\n",
              "      <td>404.000000</td>\n",
              "      <td>404.000000</td>\n",
              "      <td>404.000000</td>\n",
              "      <td>404.000000</td>\n",
              "      <td>404.000000</td>\n",
              "      <td>404.000000</td>\n",
              "    </tr>\n",
              "    <tr>\n",
              "      <th>mean</th>\n",
              "      <td>3.609125</td>\n",
              "      <td>11.569307</td>\n",
              "      <td>10.985050</td>\n",
              "      <td>0.071782</td>\n",
              "      <td>0.556484</td>\n",
              "      <td>6.315891</td>\n",
              "      <td>68.556436</td>\n",
              "      <td>3.808195</td>\n",
              "      <td>9.356436</td>\n",
              "      <td>404.032178</td>\n",
              "      <td>18.318317</td>\n",
              "      <td>356.278342</td>\n",
              "      <td>12.457351</td>\n",
              "    </tr>\n",
              "    <tr>\n",
              "      <th>std</th>\n",
              "      <td>8.875058</td>\n",
              "      <td>23.152481</td>\n",
              "      <td>6.894618</td>\n",
              "      <td>0.258447</td>\n",
              "      <td>0.117704</td>\n",
              "      <td>0.709452</td>\n",
              "      <td>27.994922</td>\n",
              "      <td>2.131226</td>\n",
              "      <td>8.589721</td>\n",
              "      <td>166.172655</td>\n",
              "      <td>2.228701</td>\n",
              "      <td>91.566533</td>\n",
              "      <td>7.110381</td>\n",
              "    </tr>\n",
              "    <tr>\n",
              "      <th>min</th>\n",
              "      <td>0.009060</td>\n",
              "      <td>0.000000</td>\n",
              "      <td>0.740000</td>\n",
              "      <td>0.000000</td>\n",
              "      <td>0.385000</td>\n",
              "      <td>3.863000</td>\n",
              "      <td>2.900000</td>\n",
              "      <td>1.129600</td>\n",
              "      <td>1.000000</td>\n",
              "      <td>187.000000</td>\n",
              "      <td>12.600000</td>\n",
              "      <td>0.320000</td>\n",
              "      <td>1.730000</td>\n",
              "    </tr>\n",
              "    <tr>\n",
              "      <th>25%</th>\n",
              "      <td>0.081437</td>\n",
              "      <td>0.000000</td>\n",
              "      <td>5.130000</td>\n",
              "      <td>0.000000</td>\n",
              "      <td>0.452000</td>\n",
              "      <td>5.890500</td>\n",
              "      <td>45.550000</td>\n",
              "      <td>2.087875</td>\n",
              "      <td>4.000000</td>\n",
              "      <td>279.000000</td>\n",
              "      <td>16.800000</td>\n",
              "      <td>375.472500</td>\n",
              "      <td>6.772500</td>\n",
              "    </tr>\n",
              "    <tr>\n",
              "      <th>50%</th>\n",
              "      <td>0.261390</td>\n",
              "      <td>0.000000</td>\n",
              "      <td>8.560000</td>\n",
              "      <td>0.000000</td>\n",
              "      <td>0.538000</td>\n",
              "      <td>6.210000</td>\n",
              "      <td>77.700000</td>\n",
              "      <td>3.175750</td>\n",
              "      <td>5.000000</td>\n",
              "      <td>330.000000</td>\n",
              "      <td>18.700000</td>\n",
              "      <td>391.305000</td>\n",
              "      <td>10.925000</td>\n",
              "    </tr>\n",
              "    <tr>\n",
              "      <th>75%</th>\n",
              "      <td>3.202962</td>\n",
              "      <td>20.000000</td>\n",
              "      <td>18.100000</td>\n",
              "      <td>0.000000</td>\n",
              "      <td>0.631000</td>\n",
              "      <td>6.636750</td>\n",
              "      <td>93.650000</td>\n",
              "      <td>5.400800</td>\n",
              "      <td>12.000000</td>\n",
              "      <td>666.000000</td>\n",
              "      <td>20.200000</td>\n",
              "      <td>395.755000</td>\n",
              "      <td>16.372500</td>\n",
              "    </tr>\n",
              "    <tr>\n",
              "      <th>max</th>\n",
              "      <td>88.976200</td>\n",
              "      <td>100.000000</td>\n",
              "      <td>27.740000</td>\n",
              "      <td>1.000000</td>\n",
              "      <td>0.871000</td>\n",
              "      <td>8.780000</td>\n",
              "      <td>100.000000</td>\n",
              "      <td>12.126500</td>\n",
              "      <td>24.000000</td>\n",
              "      <td>711.000000</td>\n",
              "      <td>22.000000</td>\n",
              "      <td>396.900000</td>\n",
              "      <td>37.970000</td>\n",
              "    </tr>\n",
              "  </tbody>\n",
              "</table>\n",
              "</div>"
            ],
            "text/plain": [
              "             CRIM          ZN       INDUS  ...     PTRATIO           B       LSTAT\n",
              "count  404.000000  404.000000  404.000000  ...  404.000000  404.000000  404.000000\n",
              "mean     3.609125   11.569307   10.985050  ...   18.318317  356.278342   12.457351\n",
              "std      8.875058   23.152481    6.894618  ...    2.228701   91.566533    7.110381\n",
              "min      0.009060    0.000000    0.740000  ...   12.600000    0.320000    1.730000\n",
              "25%      0.081437    0.000000    5.130000  ...   16.800000  375.472500    6.772500\n",
              "50%      0.261390    0.000000    8.560000  ...   18.700000  391.305000   10.925000\n",
              "75%      3.202962   20.000000   18.100000  ...   20.200000  395.755000   16.372500\n",
              "max     88.976200  100.000000   27.740000  ...   22.000000  396.900000   37.970000\n",
              "\n",
              "[8 rows x 13 columns]"
            ]
          },
          "metadata": {
            "tags": []
          },
          "execution_count": 76
        }
      ]
    },
    {
      "cell_type": "code",
      "metadata": {
        "id": "3yKNq5SZLUHD"
      },
      "source": [
        "from sklearn.preprocessing import StandardScaler\n",
        "scaler = StandardScaler()"
      ],
      "execution_count": 77,
      "outputs": []
    },
    {
      "cell_type": "code",
      "metadata": {
        "id": "K2lXhDQJLwxk"
      },
      "source": [
        "X_train_scaled = scaler.fit_transform(X_train)\n",
        "X_train_scaled = pd.DataFrame(X_train_scaled, columns=boston.feature_names)\n",
        "\n",
        "X_test_scaled = scaler.fit_transform(X_test)\n",
        "X_test_scaled = pd.DataFrame(X_test_scaled, columns=boston.feature_names)\n"
      ],
      "execution_count": 78,
      "outputs": []
    },
    {
      "cell_type": "code",
      "metadata": {
        "id": "EFeNI5cBQqI0"
      },
      "source": [
        "from sklearn.manifold import TSNE"
      ],
      "execution_count": 79,
      "outputs": []
    },
    {
      "cell_type": "code",
      "metadata": {
        "id": "L-xGYn6WQysp"
      },
      "source": [
        "tsne = TSNE(n_components=2, learning_rate=250, random_state=42)\n"
      ],
      "execution_count": 85,
      "outputs": []
    },
    {
      "cell_type": "code",
      "metadata": {
        "id": "uPPPsS9bfHxf"
      },
      "source": [
        "X_train_tsne = tsne.fit_transform(X_train_scaled)\n"
      ],
      "execution_count": 89,
      "outputs": []
    },
    {
      "cell_type": "code",
      "metadata": {
        "colab": {
          "base_uri": "https://localhost:8080/",
          "height": 369
        },
        "id": "4EJblHaIjrW7",
        "outputId": "2aea4272-b683-4b5c-d494-60908cf524cf"
      },
      "source": [
        "plt.scatter(X_train_tsne[:, 0], X_train_tsne[:, 1])"
      ],
      "execution_count": 90,
      "outputs": [
        {
          "output_type": "execute_result",
          "data": {
            "text/plain": [
              "<matplotlib.collections.PathCollection at 0x7fa13be19a10>"
            ]
          },
          "metadata": {
            "tags": []
          },
          "execution_count": 90
        },
        {
          "output_type": "display_data",
          "data": {
            "text/plain": [
              "<Figure size 432x288 with 1 Axes>"
            ],
            "image/svg+xml": "<?xml version=\"1.0\" encoding=\"utf-8\" standalone=\"no\"?>\n<!DOCTYPE svg PUBLIC \"-//W3C//DTD SVG 1.1//EN\"\n  \"http://www.w3.org/Graphics/SVG/1.1/DTD/svg11.dtd\">\n<!-- Created with matplotlib (https://matplotlib.org/) -->\n<svg height=\"248.518125pt\" version=\"1.1\" viewBox=\"0 0 377.304688 248.518125\" width=\"377.304688pt\" xmlns=\"http://www.w3.org/2000/svg\" xmlns:xlink=\"http://www.w3.org/1999/xlink\">\n <defs>\n  <style type=\"text/css\">\n*{stroke-linecap:butt;stroke-linejoin:round;}\n  </style>\n </defs>\n <g id=\"figure_1\">\n  <g id=\"patch_1\">\n   <path d=\"M 0 248.518125 \nL 377.304688 248.518125 \nL 377.304688 0 \nL 0 0 \nz\n\" style=\"fill:none;\"/>\n  </g>\n  <g id=\"axes_1\">\n   <g id=\"patch_2\">\n    <path d=\"M 35.304688 224.64 \nL 370.104688 224.64 \nL 370.104688 7.2 \nL 35.304688 7.2 \nz\n\" style=\"fill:#ffffff;\"/>\n   </g>\n   <g id=\"PathCollection_1\">\n    <defs>\n     <path d=\"M 0 3 \nC 0.795609 3 1.55874 2.683901 2.12132 2.12132 \nC 2.683901 1.55874 3 0.795609 3 0 \nC 3 -0.795609 2.683901 -1.55874 2.12132 -2.12132 \nC 1.55874 -2.683901 0.795609 -3 0 -3 \nC -0.795609 -3 -1.55874 -2.683901 -2.12132 -2.12132 \nC -2.683901 -1.55874 -3 -0.795609 -3 0 \nC -3 0.795609 -2.683901 1.55874 -2.12132 2.12132 \nC -1.55874 2.683901 -0.795609 3 0 3 \nz\n\" id=\"m96b0a51cfd\" style=\"stroke:#1f77b4;\"/>\n    </defs>\n    <g clip-path=\"url(#pfffa2adf91)\">\n     <use style=\"fill:#1f77b4;stroke:#1f77b4;\" x=\"299.620138\" xlink:href=\"#m96b0a51cfd\" y=\"24.961808\"/>\n     <use style=\"fill:#1f77b4;stroke:#1f77b4;\" x=\"112.152844\" xlink:href=\"#m96b0a51cfd\" y=\"122.07917\"/>\n     <use style=\"fill:#1f77b4;stroke:#1f77b4;\" x=\"82.937194\" xlink:href=\"#m96b0a51cfd\" y=\"177.219442\"/>\n     <use style=\"fill:#1f77b4;stroke:#1f77b4;\" x=\"347.99885\" xlink:href=\"#m96b0a51cfd\" y=\"45.555671\"/>\n     <use style=\"fill:#1f77b4;stroke:#1f77b4;\" x=\"117.092093\" xlink:href=\"#m96b0a51cfd\" y=\"85.918176\"/>\n     <use style=\"fill:#1f77b4;stroke:#1f77b4;\" x=\"91.378243\" xlink:href=\"#m96b0a51cfd\" y=\"135.75871\"/>\n     <use style=\"fill:#1f77b4;stroke:#1f77b4;\" x=\"101.400356\" xlink:href=\"#m96b0a51cfd\" y=\"134.548633\"/>\n     <use style=\"fill:#1f77b4;stroke:#1f77b4;\" x=\"68.065068\" xlink:href=\"#m96b0a51cfd\" y=\"203.794461\"/>\n     <use style=\"fill:#1f77b4;stroke:#1f77b4;\" x=\"351.661618\" xlink:href=\"#m96b0a51cfd\" y=\"49.622223\"/>\n     <use style=\"fill:#1f77b4;stroke:#1f77b4;\" x=\"336.181473\" xlink:href=\"#m96b0a51cfd\" y=\"54.836075\"/>\n     <use style=\"fill:#1f77b4;stroke:#1f77b4;\" x=\"100.928301\" xlink:href=\"#m96b0a51cfd\" y=\"137.26011\"/>\n     <use style=\"fill:#1f77b4;stroke:#1f77b4;\" x=\"132.150932\" xlink:href=\"#m96b0a51cfd\" y=\"127.517384\"/>\n     <use style=\"fill:#1f77b4;stroke:#1f77b4;\" x=\"150.503115\" xlink:href=\"#m96b0a51cfd\" y=\"137.969501\"/>\n     <use style=\"fill:#1f77b4;stroke:#1f77b4;\" x=\"337.306658\" xlink:href=\"#m96b0a51cfd\" y=\"49.929716\"/>\n     <use style=\"fill:#1f77b4;stroke:#1f77b4;\" x=\"149.172537\" xlink:href=\"#m96b0a51cfd\" y=\"145.748893\"/>\n     <use style=\"fill:#1f77b4;stroke:#1f77b4;\" x=\"109.967973\" xlink:href=\"#m96b0a51cfd\" y=\"72.59353\"/>\n     <use style=\"fill:#1f77b4;stroke:#1f77b4;\" x=\"124.631815\" xlink:href=\"#m96b0a51cfd\" y=\"98.053621\"/>\n     <use style=\"fill:#1f77b4;stroke:#1f77b4;\" x=\"89.332689\" xlink:href=\"#m96b0a51cfd\" y=\"180.074429\"/>\n     <use style=\"fill:#1f77b4;stroke:#1f77b4;\" x=\"94.591\" xlink:href=\"#m96b0a51cfd\" y=\"154.121465\"/>\n     <use style=\"fill:#1f77b4;stroke:#1f77b4;\" x=\"75.669728\" xlink:href=\"#m96b0a51cfd\" y=\"157.294136\"/>\n     <use style=\"fill:#1f77b4;stroke:#1f77b4;\" x=\"328.734761\" xlink:href=\"#m96b0a51cfd\" y=\"30.537222\"/>\n     <use style=\"fill:#1f77b4;stroke:#1f77b4;\" x=\"138.660583\" xlink:href=\"#m96b0a51cfd\" y=\"101.909274\"/>\n     <use style=\"fill:#1f77b4;stroke:#1f77b4;\" x=\"83.915657\" xlink:href=\"#m96b0a51cfd\" y=\"136.380283\"/>\n     <use style=\"fill:#1f77b4;stroke:#1f77b4;\" x=\"107.467548\" xlink:href=\"#m96b0a51cfd\" y=\"126.254414\"/>\n     <use style=\"fill:#1f77b4;stroke:#1f77b4;\" x=\"69.867432\" xlink:href=\"#m96b0a51cfd\" y=\"203.905954\"/>\n     <use style=\"fill:#1f77b4;stroke:#1f77b4;\" x=\"145.261219\" xlink:href=\"#m96b0a51cfd\" y=\"138.853586\"/>\n     <use style=\"fill:#1f77b4;stroke:#1f77b4;\" x=\"201.553923\" xlink:href=\"#m96b0a51cfd\" y=\"92.70715\"/>\n     <use style=\"fill:#1f77b4;stroke:#1f77b4;\" x=\"152.6929\" xlink:href=\"#m96b0a51cfd\" y=\"155.915339\"/>\n     <use style=\"fill:#1f77b4;stroke:#1f77b4;\" x=\"151.873421\" xlink:href=\"#m96b0a51cfd\" y=\"44.587889\"/>\n     <use style=\"fill:#1f77b4;stroke:#1f77b4;\" x=\"72.3541\" xlink:href=\"#m96b0a51cfd\" y=\"136.768641\"/>\n     <use style=\"fill:#1f77b4;stroke:#1f77b4;\" x=\"118.725204\" xlink:href=\"#m96b0a51cfd\" y=\"72.573663\"/>\n     <use style=\"fill:#1f77b4;stroke:#1f77b4;\" x=\"140.89862\" xlink:href=\"#m96b0a51cfd\" y=\"95.358985\"/>\n     <use style=\"fill:#1f77b4;stroke:#1f77b4;\" x=\"186.763896\" xlink:href=\"#m96b0a51cfd\" y=\"74.787997\"/>\n     <use style=\"fill:#1f77b4;stroke:#1f77b4;\" x=\"336.691464\" xlink:href=\"#m96b0a51cfd\" y=\"45.819318\"/>\n     <use style=\"fill:#1f77b4;stroke:#1f77b4;\" x=\"103.301804\" xlink:href=\"#m96b0a51cfd\" y=\"131.368243\"/>\n     <use style=\"fill:#1f77b4;stroke:#1f77b4;\" x=\"72.85735\" xlink:href=\"#m96b0a51cfd\" y=\"210.77821\"/>\n     <use style=\"fill:#1f77b4;stroke:#1f77b4;\" x=\"85.759049\" xlink:href=\"#m96b0a51cfd\" y=\"198.235953\"/>\n     <use style=\"fill:#1f77b4;stroke:#1f77b4;\" x=\"115.301657\" xlink:href=\"#m96b0a51cfd\" y=\"76.04391\"/>\n     <use style=\"fill:#1f77b4;stroke:#1f77b4;\" x=\"117.719969\" xlink:href=\"#m96b0a51cfd\" y=\"76.866222\"/>\n     <use style=\"fill:#1f77b4;stroke:#1f77b4;\" x=\"79.831267\" xlink:href=\"#m96b0a51cfd\" y=\"200.862706\"/>\n     <use style=\"fill:#1f77b4;stroke:#1f77b4;\" x=\"73.729991\" xlink:href=\"#m96b0a51cfd\" y=\"197.189288\"/>\n     <use style=\"fill:#1f77b4;stroke:#1f77b4;\" x=\"192.56017\" xlink:href=\"#m96b0a51cfd\" y=\"108.308295\"/>\n     <use style=\"fill:#1f77b4;stroke:#1f77b4;\" x=\"314.630081\" xlink:href=\"#m96b0a51cfd\" y=\"27.408595\"/>\n     <use style=\"fill:#1f77b4;stroke:#1f77b4;\" x=\"111.838279\" xlink:href=\"#m96b0a51cfd\" y=\"147.212911\"/>\n     <use style=\"fill:#1f77b4;stroke:#1f77b4;\" x=\"204.404642\" xlink:href=\"#m96b0a51cfd\" y=\"93.797617\"/>\n     <use style=\"fill:#1f77b4;stroke:#1f77b4;\" x=\"285.534269\" xlink:href=\"#m96b0a51cfd\" y=\"36.349752\"/>\n     <use style=\"fill:#1f77b4;stroke:#1f77b4;\" x=\"112.290288\" xlink:href=\"#m96b0a51cfd\" y=\"77.984903\"/>\n     <use style=\"fill:#1f77b4;stroke:#1f77b4;\" x=\"159.481502\" xlink:href=\"#m96b0a51cfd\" y=\"149.086508\"/>\n     <use style=\"fill:#1f77b4;stroke:#1f77b4;\" x=\"339.871094\" xlink:href=\"#m96b0a51cfd\" y=\"49.827201\"/>\n     <use style=\"fill:#1f77b4;stroke:#1f77b4;\" x=\"282.472307\" xlink:href=\"#m96b0a51cfd\" y=\"38.294566\"/>\n     <use style=\"fill:#1f77b4;stroke:#1f77b4;\" x=\"120.987991\" xlink:href=\"#m96b0a51cfd\" y=\"142.821217\"/>\n     <use style=\"fill:#1f77b4;stroke:#1f77b4;\" x=\"136.704885\" xlink:href=\"#m96b0a51cfd\" y=\"101.921495\"/>\n     <use style=\"fill:#1f77b4;stroke:#1f77b4;\" x=\"91.235777\" xlink:href=\"#m96b0a51cfd\" y=\"124.601455\"/>\n     <use style=\"fill:#1f77b4;stroke:#1f77b4;\" x=\"98.841285\" xlink:href=\"#m96b0a51cfd\" y=\"130.575198\"/>\n     <use style=\"fill:#1f77b4;stroke:#1f77b4;\" x=\"290.999693\" xlink:href=\"#m96b0a51cfd\" y=\"51.414039\"/>\n     <use style=\"fill:#1f77b4;stroke:#1f77b4;\" x=\"270.18651\" xlink:href=\"#m96b0a51cfd\" y=\"45.3703\"/>\n     <use style=\"fill:#1f77b4;stroke:#1f77b4;\" x=\"123.171419\" xlink:href=\"#m96b0a51cfd\" y=\"146.135745\"/>\n     <use style=\"fill:#1f77b4;stroke:#1f77b4;\" x=\"323.324145\" xlink:href=\"#m96b0a51cfd\" y=\"27.561201\"/>\n     <use style=\"fill:#1f77b4;stroke:#1f77b4;\" x=\"129.962399\" xlink:href=\"#m96b0a51cfd\" y=\"126.073146\"/>\n     <use style=\"fill:#1f77b4;stroke:#1f77b4;\" x=\"93.31047\" xlink:href=\"#m96b0a51cfd\" y=\"154.134619\"/>\n     <use style=\"fill:#1f77b4;stroke:#1f77b4;\" x=\"122.587105\" xlink:href=\"#m96b0a51cfd\" y=\"90.771225\"/>\n     <use style=\"fill:#1f77b4;stroke:#1f77b4;\" x=\"110.772149\" xlink:href=\"#m96b0a51cfd\" y=\"126.51491\"/>\n     <use style=\"fill:#1f77b4;stroke:#1f77b4;\" x=\"170.557987\" xlink:href=\"#m96b0a51cfd\" y=\"127.575572\"/>\n     <use style=\"fill:#1f77b4;stroke:#1f77b4;\" x=\"125.603155\" xlink:href=\"#m96b0a51cfd\" y=\"71.267836\"/>\n     <use style=\"fill:#1f77b4;stroke:#1f77b4;\" x=\"174.470467\" xlink:href=\"#m96b0a51cfd\" y=\"141.77061\"/>\n     <use style=\"fill:#1f77b4;stroke:#1f77b4;\" x=\"289.50934\" xlink:href=\"#m96b0a51cfd\" y=\"42.72135\"/>\n     <use style=\"fill:#1f77b4;stroke:#1f77b4;\" x=\"115.358214\" xlink:href=\"#m96b0a51cfd\" y=\"74.241624\"/>\n     <use style=\"fill:#1f77b4;stroke:#1f77b4;\" x=\"86.391686\" xlink:href=\"#m96b0a51cfd\" y=\"101.266152\"/>\n     <use style=\"fill:#1f77b4;stroke:#1f77b4;\" x=\"171.223764\" xlink:href=\"#m96b0a51cfd\" y=\"45.23215\"/>\n     <use style=\"fill:#1f77b4;stroke:#1f77b4;\" x=\"128.624689\" xlink:href=\"#m96b0a51cfd\" y=\"76.651287\"/>\n     <use style=\"fill:#1f77b4;stroke:#1f77b4;\" x=\"103.583859\" xlink:href=\"#m96b0a51cfd\" y=\"124.781478\"/>\n     <use style=\"fill:#1f77b4;stroke:#1f77b4;\" x=\"169.53605\" xlink:href=\"#m96b0a51cfd\" y=\"99.016361\"/>\n     <use style=\"fill:#1f77b4;stroke:#1f77b4;\" x=\"279.441403\" xlink:href=\"#m96b0a51cfd\" y=\"52.976582\"/>\n     <use style=\"fill:#1f77b4;stroke:#1f77b4;\" x=\"135.311665\" xlink:href=\"#m96b0a51cfd\" y=\"97.166961\"/>\n     <use style=\"fill:#1f77b4;stroke:#1f77b4;\" x=\"140.922638\" xlink:href=\"#m96b0a51cfd\" y=\"102.267222\"/>\n     <use style=\"fill:#1f77b4;stroke:#1f77b4;\" x=\"132.860252\" xlink:href=\"#m96b0a51cfd\" y=\"143.346219\"/>\n     <use style=\"fill:#1f77b4;stroke:#1f77b4;\" x=\"95.732289\" xlink:href=\"#m96b0a51cfd\" y=\"193.542616\"/>\n     <use style=\"fill:#1f77b4;stroke:#1f77b4;\" x=\"114.935994\" xlink:href=\"#m96b0a51cfd\" y=\"155.433839\"/>\n     <use style=\"fill:#1f77b4;stroke:#1f77b4;\" x=\"186.278405\" xlink:href=\"#m96b0a51cfd\" y=\"73.146964\"/>\n     <use style=\"fill:#1f77b4;stroke:#1f77b4;\" x=\"301.860373\" xlink:href=\"#m96b0a51cfd\" y=\"18.351364\"/>\n     <use style=\"fill:#1f77b4;stroke:#1f77b4;\" x=\"293.412187\" xlink:href=\"#m96b0a51cfd\" y=\"25.196778\"/>\n     <use style=\"fill:#1f77b4;stroke:#1f77b4;\" x=\"250.001835\" xlink:href=\"#m96b0a51cfd\" y=\"62.934004\"/>\n     <use style=\"fill:#1f77b4;stroke:#1f77b4;\" x=\"53.198571\" xlink:href=\"#m96b0a51cfd\" y=\"171.647351\"/>\n     <use style=\"fill:#1f77b4;stroke:#1f77b4;\" x=\"200.867104\" xlink:href=\"#m96b0a51cfd\" y=\"111.405555\"/>\n     <use style=\"fill:#1f77b4;stroke:#1f77b4;\" x=\"345.149842\" xlink:href=\"#m96b0a51cfd\" y=\"48.099499\"/>\n     <use style=\"fill:#1f77b4;stroke:#1f77b4;\" x=\"162.128271\" xlink:href=\"#m96b0a51cfd\" y=\"40.347968\"/>\n     <use style=\"fill:#1f77b4;stroke:#1f77b4;\" x=\"248.609237\" xlink:href=\"#m96b0a51cfd\" y=\"68.050851\"/>\n     <use style=\"fill:#1f77b4;stroke:#1f77b4;\" x=\"80.012041\" xlink:href=\"#m96b0a51cfd\" y=\"148.68347\"/>\n     <use style=\"fill:#1f77b4;stroke:#1f77b4;\" x=\"274.084455\" xlink:href=\"#m96b0a51cfd\" y=\"40.449291\"/>\n     <use style=\"fill:#1f77b4;stroke:#1f77b4;\" x=\"172.563086\" xlink:href=\"#m96b0a51cfd\" y=\"92.447726\"/>\n     <use style=\"fill:#1f77b4;stroke:#1f77b4;\" x=\"129.376834\" xlink:href=\"#m96b0a51cfd\" y=\"95.735839\"/>\n     <use style=\"fill:#1f77b4;stroke:#1f77b4;\" x=\"289.494047\" xlink:href=\"#m96b0a51cfd\" y=\"34.005973\"/>\n     <use style=\"fill:#1f77b4;stroke:#1f77b4;\" x=\"305.075134\" xlink:href=\"#m96b0a51cfd\" y=\"31.336483\"/>\n     <use style=\"fill:#1f77b4;stroke:#1f77b4;\" x=\"86.772576\" xlink:href=\"#m96b0a51cfd\" y=\"199.074265\"/>\n     <use style=\"fill:#1f77b4;stroke:#1f77b4;\" x=\"74.869668\" xlink:href=\"#m96b0a51cfd\" y=\"158.971985\"/>\n     <use style=\"fill:#1f77b4;stroke:#1f77b4;\" x=\"125.202005\" xlink:href=\"#m96b0a51cfd\" y=\"79.074843\"/>\n     <use style=\"fill:#1f77b4;stroke:#1f77b4;\" x=\"278.335019\" xlink:href=\"#m96b0a51cfd\" y=\"34.551435\"/>\n     <use style=\"fill:#1f77b4;stroke:#1f77b4;\" x=\"189.580534\" xlink:href=\"#m96b0a51cfd\" y=\"80.037704\"/>\n     <use style=\"fill:#1f77b4;stroke:#1f77b4;\" x=\"111.690929\" xlink:href=\"#m96b0a51cfd\" y=\"147.608818\"/>\n     <use style=\"fill:#1f77b4;stroke:#1f77b4;\" x=\"205.0494\" xlink:href=\"#m96b0a51cfd\" y=\"93.654529\"/>\n     <use style=\"fill:#1f77b4;stroke:#1f77b4;\" x=\"200.032561\" xlink:href=\"#m96b0a51cfd\" y=\"111.71566\"/>\n     <use style=\"fill:#1f77b4;stroke:#1f77b4;\" x=\"118.743453\" xlink:href=\"#m96b0a51cfd\" y=\"163.896543\"/>\n     <use style=\"fill:#1f77b4;stroke:#1f77b4;\" x=\"104.633154\" xlink:href=\"#m96b0a51cfd\" y=\"160.331313\"/>\n     <use style=\"fill:#1f77b4;stroke:#1f77b4;\" x=\"86.232471\" xlink:href=\"#m96b0a51cfd\" y=\"158.621075\"/>\n     <use style=\"fill:#1f77b4;stroke:#1f77b4;\" x=\"174.858695\" xlink:href=\"#m96b0a51cfd\" y=\"91.448673\"/>\n     <use style=\"fill:#1f77b4;stroke:#1f77b4;\" x=\"209.746283\" xlink:href=\"#m96b0a51cfd\" y=\"106.767692\"/>\n     <use style=\"fill:#1f77b4;stroke:#1f77b4;\" x=\"74.99552\" xlink:href=\"#m96b0a51cfd\" y=\"207.526358\"/>\n     <use style=\"fill:#1f77b4;stroke:#1f77b4;\" x=\"151.831925\" xlink:href=\"#m96b0a51cfd\" y=\"141.282444\"/>\n     <use style=\"fill:#1f77b4;stroke:#1f77b4;\" x=\"83.784633\" xlink:href=\"#m96b0a51cfd\" y=\"129.857922\"/>\n     <use style=\"fill:#1f77b4;stroke:#1f77b4;\" x=\"128.199122\" xlink:href=\"#m96b0a51cfd\" y=\"113.123327\"/>\n     <use style=\"fill:#1f77b4;stroke:#1f77b4;\" x=\"342.783726\" xlink:href=\"#m96b0a51cfd\" y=\"48.714876\"/>\n     <use style=\"fill:#1f77b4;stroke:#1f77b4;\" x=\"67.336326\" xlink:href=\"#m96b0a51cfd\" y=\"160.699989\"/>\n     <use style=\"fill:#1f77b4;stroke:#1f77b4;\" x=\"131.907199\" xlink:href=\"#m96b0a51cfd\" y=\"99.722472\"/>\n     <use style=\"fill:#1f77b4;stroke:#1f77b4;\" x=\"79.291511\" xlink:href=\"#m96b0a51cfd\" y=\"208.977302\"/>\n     <use style=\"fill:#1f77b4;stroke:#1f77b4;\" x=\"92.269755\" xlink:href=\"#m96b0a51cfd\" y=\"181.88043\"/>\n     <use style=\"fill:#1f77b4;stroke:#1f77b4;\" x=\"282.194872\" xlink:href=\"#m96b0a51cfd\" y=\"60.5684\"/>\n     <use style=\"fill:#1f77b4;stroke:#1f77b4;\" x=\"248.722587\" xlink:href=\"#m96b0a51cfd\" y=\"64.274567\"/>\n     <use style=\"fill:#1f77b4;stroke:#1f77b4;\" x=\"306.598864\" xlink:href=\"#m96b0a51cfd\" y=\"28.552653\"/>\n     <use style=\"fill:#1f77b4;stroke:#1f77b4;\" x=\"141.513477\" xlink:href=\"#m96b0a51cfd\" y=\"154.14454\"/>\n     <use style=\"fill:#1f77b4;stroke:#1f77b4;\" x=\"174.322292\" xlink:href=\"#m96b0a51cfd\" y=\"137.857922\"/>\n     <use style=\"fill:#1f77b4;stroke:#1f77b4;\" x=\"151.292429\" xlink:href=\"#m96b0a51cfd\" y=\"141.411288\"/>\n     <use style=\"fill:#1f77b4;stroke:#1f77b4;\" x=\"307.705164\" xlink:href=\"#m96b0a51cfd\" y=\"22.477451\"/>\n     <use style=\"fill:#1f77b4;stroke:#1f77b4;\" x=\"286.199643\" xlink:href=\"#m96b0a51cfd\" y=\"44.642132\"/>\n     <use style=\"fill:#1f77b4;stroke:#1f77b4;\" x=\"121.554667\" xlink:href=\"#m96b0a51cfd\" y=\"118.080295\"/>\n     <use style=\"fill:#1f77b4;stroke:#1f77b4;\" x=\"81.805532\" xlink:href=\"#m96b0a51cfd\" y=\"214.283515\"/>\n     <use style=\"fill:#1f77b4;stroke:#1f77b4;\" x=\"164.619236\" xlink:href=\"#m96b0a51cfd\" y=\"49.532422\"/>\n     <use style=\"fill:#1f77b4;stroke:#1f77b4;\" x=\"273.887502\" xlink:href=\"#m96b0a51cfd\" y=\"22.762038\"/>\n     <use style=\"fill:#1f77b4;stroke:#1f77b4;\" x=\"94.087011\" xlink:href=\"#m96b0a51cfd\" y=\"157.026588\"/>\n     <use style=\"fill:#1f77b4;stroke:#1f77b4;\" x=\"80.80322\" xlink:href=\"#m96b0a51cfd\" y=\"190.104976\"/>\n     <use style=\"fill:#1f77b4;stroke:#1f77b4;\" x=\"302.680582\" xlink:href=\"#m96b0a51cfd\" y=\"34.426868\"/>\n     <use style=\"fill:#1f77b4;stroke:#1f77b4;\" x=\"88.145732\" xlink:href=\"#m96b0a51cfd\" y=\"156.170032\"/>\n     <use style=\"fill:#1f77b4;stroke:#1f77b4;\" x=\"143.267038\" xlink:href=\"#m96b0a51cfd\" y=\"105.540891\"/>\n     <use style=\"fill:#1f77b4;stroke:#1f77b4;\" x=\"141.549657\" xlink:href=\"#m96b0a51cfd\" y=\"142.437389\"/>\n     <use style=\"fill:#1f77b4;stroke:#1f77b4;\" x=\"176.159365\" xlink:href=\"#m96b0a51cfd\" y=\"132.817011\"/>\n     <use style=\"fill:#1f77b4;stroke:#1f77b4;\" x=\"81.085812\" xlink:href=\"#m96b0a51cfd\" y=\"109.26437\"/>\n     <use style=\"fill:#1f77b4;stroke:#1f77b4;\" x=\"245.776371\" xlink:href=\"#m96b0a51cfd\" y=\"71.142614\"/>\n     <use style=\"fill:#1f77b4;stroke:#1f77b4;\" x=\"138.565253\" xlink:href=\"#m96b0a51cfd\" y=\"72.796899\"/>\n     <use style=\"fill:#1f77b4;stroke:#1f77b4;\" x=\"101.053399\" xlink:href=\"#m96b0a51cfd\" y=\"193.875019\"/>\n     <use style=\"fill:#1f77b4;stroke:#1f77b4;\" x=\"168.962366\" xlink:href=\"#m96b0a51cfd\" y=\"93.278446\"/>\n     <use style=\"fill:#1f77b4;stroke:#1f77b4;\" x=\"180.292868\" xlink:href=\"#m96b0a51cfd\" y=\"80.53415\"/>\n     <use style=\"fill:#1f77b4;stroke:#1f77b4;\" x=\"139.818089\" xlink:href=\"#m96b0a51cfd\" y=\"128.02951\"/>\n     <use style=\"fill:#1f77b4;stroke:#1f77b4;\" x=\"289.740368\" xlink:href=\"#m96b0a51cfd\" y=\"30.190137\"/>\n     <use style=\"fill:#1f77b4;stroke:#1f77b4;\" x=\"127.824789\" xlink:href=\"#m96b0a51cfd\" y=\"123.551799\"/>\n     <use style=\"fill:#1f77b4;stroke:#1f77b4;\" x=\"132.843969\" xlink:href=\"#m96b0a51cfd\" y=\"111.560431\"/>\n     <use style=\"fill:#1f77b4;stroke:#1f77b4;\" x=\"86.396292\" xlink:href=\"#m96b0a51cfd\" y=\"101.136468\"/>\n     <use style=\"fill:#1f77b4;stroke:#1f77b4;\" x=\"308.755732\" xlink:href=\"#m96b0a51cfd\" y=\"19.162979\"/>\n     <use style=\"fill:#1f77b4;stroke:#1f77b4;\" x=\"126.045512\" xlink:href=\"#m96b0a51cfd\" y=\"78.852218\"/>\n     <use style=\"fill:#1f77b4;stroke:#1f77b4;\" x=\"108.876222\" xlink:href=\"#m96b0a51cfd\" y=\"158.164182\"/>\n     <use style=\"fill:#1f77b4;stroke:#1f77b4;\" x=\"99.785221\" xlink:href=\"#m96b0a51cfd\" y=\"125.071454\"/>\n     <use style=\"fill:#1f77b4;stroke:#1f77b4;\" x=\"121.849644\" xlink:href=\"#m96b0a51cfd\" y=\"106.671863\"/>\n     <use style=\"fill:#1f77b4;stroke:#1f77b4;\" x=\"175.612922\" xlink:href=\"#m96b0a51cfd\" y=\"90.064575\"/>\n     <use style=\"fill:#1f77b4;stroke:#1f77b4;\" x=\"284.68585\" xlink:href=\"#m96b0a51cfd\" y=\"29.541461\"/>\n     <use style=\"fill:#1f77b4;stroke:#1f77b4;\" x=\"83.118812\" xlink:href=\"#m96b0a51cfd\" y=\"204.751098\"/>\n     <use style=\"fill:#1f77b4;stroke:#1f77b4;\" x=\"74.680456\" xlink:href=\"#m96b0a51cfd\" y=\"120.18058\"/>\n     <use style=\"fill:#1f77b4;stroke:#1f77b4;\" x=\"80.534232\" xlink:href=\"#m96b0a51cfd\" y=\"214.539149\"/>\n     <use style=\"fill:#1f77b4;stroke:#1f77b4;\" x=\"292.195291\" xlink:href=\"#m96b0a51cfd\" y=\"39.686109\"/>\n     <use style=\"fill:#1f77b4;stroke:#1f77b4;\" x=\"187.852765\" xlink:href=\"#m96b0a51cfd\" y=\"82.387271\"/>\n     <use style=\"fill:#1f77b4;stroke:#1f77b4;\" x=\"286.160571\" xlink:href=\"#m96b0a51cfd\" y=\"39.784703\"/>\n     <use style=\"fill:#1f77b4;stroke:#1f77b4;\" x=\"186.405135\" xlink:href=\"#m96b0a51cfd\" y=\"73.230816\"/>\n     <use style=\"fill:#1f77b4;stroke:#1f77b4;\" x=\"342.585274\" xlink:href=\"#m96b0a51cfd\" y=\"50.86559\"/>\n     <use style=\"fill:#1f77b4;stroke:#1f77b4;\" x=\"82.580276\" xlink:href=\"#m96b0a51cfd\" y=\"191.240836\"/>\n     <use style=\"fill:#1f77b4;stroke:#1f77b4;\" x=\"151.468682\" xlink:href=\"#m96b0a51cfd\" y=\"45.36403\"/>\n     <use style=\"fill:#1f77b4;stroke:#1f77b4;\" x=\"167.395427\" xlink:href=\"#m96b0a51cfd\" y=\"40.345753\"/>\n     <use style=\"fill:#1f77b4;stroke:#1f77b4;\" x=\"129.098486\" xlink:href=\"#m96b0a51cfd\" y=\"128.225908\"/>\n     <use style=\"fill:#1f77b4;stroke:#1f77b4;\" x=\"184.811517\" xlink:href=\"#m96b0a51cfd\" y=\"74.804258\"/>\n     <use style=\"fill:#1f77b4;stroke:#1f77b4;\" x=\"94.980244\" xlink:href=\"#m96b0a51cfd\" y=\"177.478876\"/>\n     <use style=\"fill:#1f77b4;stroke:#1f77b4;\" x=\"111.989404\" xlink:href=\"#m96b0a51cfd\" y=\"168.462791\"/>\n     <use style=\"fill:#1f77b4;stroke:#1f77b4;\" x=\"150.898315\" xlink:href=\"#m96b0a51cfd\" y=\"149.076353\"/>\n     <use style=\"fill:#1f77b4;stroke:#1f77b4;\" x=\"64.699498\" xlink:href=\"#m96b0a51cfd\" y=\"207.468671\"/>\n     <use style=\"fill:#1f77b4;stroke:#1f77b4;\" x=\"150.320423\" xlink:href=\"#m96b0a51cfd\" y=\"48.586728\"/>\n     <use style=\"fill:#1f77b4;stroke:#1f77b4;\" x=\"141.578573\" xlink:href=\"#m96b0a51cfd\" y=\"134.277154\"/>\n     <use style=\"fill:#1f77b4;stroke:#1f77b4;\" x=\"83.670114\" xlink:href=\"#m96b0a51cfd\" y=\"210.789901\"/>\n     <use style=\"fill:#1f77b4;stroke:#1f77b4;\" x=\"83.200048\" xlink:href=\"#m96b0a51cfd\" y=\"156.628768\"/>\n     <use style=\"fill:#1f77b4;stroke:#1f77b4;\" x=\"284.009096\" xlink:href=\"#m96b0a51cfd\" y=\"59.667829\"/>\n     <use style=\"fill:#1f77b4;stroke:#1f77b4;\" x=\"96.214461\" xlink:href=\"#m96b0a51cfd\" y=\"179.420045\"/>\n     <use style=\"fill:#1f77b4;stroke:#1f77b4;\" x=\"60.080494\" xlink:href=\"#m96b0a51cfd\" y=\"196.492983\"/>\n     <use style=\"fill:#1f77b4;stroke:#1f77b4;\" x=\"331.768248\" xlink:href=\"#m96b0a51cfd\" y=\"33.033627\"/>\n     <use style=\"fill:#1f77b4;stroke:#1f77b4;\" x=\"294.988623\" xlink:href=\"#m96b0a51cfd\" y=\"21.353112\"/>\n     <use style=\"fill:#1f77b4;stroke:#1f77b4;\" x=\"65.632387\" xlink:href=\"#m96b0a51cfd\" y=\"200.159051\"/>\n     <use style=\"fill:#1f77b4;stroke:#1f77b4;\" x=\"149.573247\" xlink:href=\"#m96b0a51cfd\" y=\"50.084719\"/>\n     <use style=\"fill:#1f77b4;stroke:#1f77b4;\" x=\"118.256684\" xlink:href=\"#m96b0a51cfd\" y=\"160.786039\"/>\n     <use style=\"fill:#1f77b4;stroke:#1f77b4;\" x=\"144.385126\" xlink:href=\"#m96b0a51cfd\" y=\"128.264346\"/>\n     <use style=\"fill:#1f77b4;stroke:#1f77b4;\" x=\"278.11819\" xlink:href=\"#m96b0a51cfd\" y=\"27.544182\"/>\n     <use style=\"fill:#1f77b4;stroke:#1f77b4;\" x=\"200.897577\" xlink:href=\"#m96b0a51cfd\" y=\"107.71945\"/>\n     <use style=\"fill:#1f77b4;stroke:#1f77b4;\" x=\"161.381643\" xlink:href=\"#m96b0a51cfd\" y=\"47.783675\"/>\n     <use style=\"fill:#1f77b4;stroke:#1f77b4;\" x=\"343.65072\" xlink:href=\"#m96b0a51cfd\" y=\"41.751477\"/>\n     <use style=\"fill:#1f77b4;stroke:#1f77b4;\" x=\"93.498084\" xlink:href=\"#m96b0a51cfd\" y=\"207.48113\"/>\n     <use style=\"fill:#1f77b4;stroke:#1f77b4;\" x=\"81.747117\" xlink:href=\"#m96b0a51cfd\" y=\"174.3684\"/>\n     <use style=\"fill:#1f77b4;stroke:#1f77b4;\" x=\"324.458759\" xlink:href=\"#m96b0a51cfd\" y=\"27.633045\"/>\n     <use style=\"fill:#1f77b4;stroke:#1f77b4;\" x=\"279.770403\" xlink:href=\"#m96b0a51cfd\" y=\"56.532188\"/>\n     <use style=\"fill:#1f77b4;stroke:#1f77b4;\" x=\"249.289772\" xlink:href=\"#m96b0a51cfd\" y=\"64.231206\"/>\n     <use style=\"fill:#1f77b4;stroke:#1f77b4;\" x=\"79.683937\" xlink:href=\"#m96b0a51cfd\" y=\"114.731395\"/>\n     <use style=\"fill:#1f77b4;stroke:#1f77b4;\" x=\"77.470394\" xlink:href=\"#m96b0a51cfd\" y=\"118.720551\"/>\n     <use style=\"fill:#1f77b4;stroke:#1f77b4;\" x=\"248.003311\" xlink:href=\"#m96b0a51cfd\" y=\"68.672741\"/>\n     <use style=\"fill:#1f77b4;stroke:#1f77b4;\" x=\"354.886506\" xlink:href=\"#m96b0a51cfd\" y=\"51.250854\"/>\n     <use style=\"fill:#1f77b4;stroke:#1f77b4;\" x=\"139.975598\" xlink:href=\"#m96b0a51cfd\" y=\"95.736192\"/>\n     <use style=\"fill:#1f77b4;stroke:#1f77b4;\" x=\"139.473065\" xlink:href=\"#m96b0a51cfd\" y=\"142.547083\"/>\n     <use style=\"fill:#1f77b4;stroke:#1f77b4;\" x=\"116.038956\" xlink:href=\"#m96b0a51cfd\" y=\"101.114474\"/>\n     <use style=\"fill:#1f77b4;stroke:#1f77b4;\" x=\"66.10688\" xlink:href=\"#m96b0a51cfd\" y=\"135.086927\"/>\n     <use style=\"fill:#1f77b4;stroke:#1f77b4;\" x=\"100.526056\" xlink:href=\"#m96b0a51cfd\" y=\"137.582548\"/>\n     <use style=\"fill:#1f77b4;stroke:#1f77b4;\" x=\"283.256349\" xlink:href=\"#m96b0a51cfd\" y=\"57.22399\"/>\n     <use style=\"fill:#1f77b4;stroke:#1f77b4;\" x=\"345.139772\" xlink:href=\"#m96b0a51cfd\" y=\"44.701476\"/>\n     <use style=\"fill:#1f77b4;stroke:#1f77b4;\" x=\"155.125137\" xlink:href=\"#m96b0a51cfd\" y=\"149.357456\"/>\n     <use style=\"fill:#1f77b4;stroke:#1f77b4;\" x=\"141.051018\" xlink:href=\"#m96b0a51cfd\" y=\"111.796826\"/>\n     <use style=\"fill:#1f77b4;stroke:#1f77b4;\" x=\"168.182016\" xlink:href=\"#m96b0a51cfd\" y=\"90.142148\"/>\n     <use style=\"fill:#1f77b4;stroke:#1f77b4;\" x=\"161.793622\" xlink:href=\"#m96b0a51cfd\" y=\"50.606083\"/>\n     <use style=\"fill:#1f77b4;stroke:#1f77b4;\" x=\"79.038854\" xlink:href=\"#m96b0a51cfd\" y=\"214.756364\"/>\n     <use style=\"fill:#1f77b4;stroke:#1f77b4;\" x=\"176.32197\" xlink:href=\"#m96b0a51cfd\" y=\"136.846007\"/>\n     <use style=\"fill:#1f77b4;stroke:#1f77b4;\" x=\"156.336572\" xlink:href=\"#m96b0a51cfd\" y=\"150.071269\"/>\n     <use style=\"fill:#1f77b4;stroke:#1f77b4;\" x=\"137.993074\" xlink:href=\"#m96b0a51cfd\" y=\"96.015607\"/>\n     <use style=\"fill:#1f77b4;stroke:#1f77b4;\" x=\"148.089615\" xlink:href=\"#m96b0a51cfd\" y=\"50.534934\"/>\n     <use style=\"fill:#1f77b4;stroke:#1f77b4;\" x=\"61.712851\" xlink:href=\"#m96b0a51cfd\" y=\"199.384741\"/>\n     <use style=\"fill:#1f77b4;stroke:#1f77b4;\" x=\"156.953612\" xlink:href=\"#m96b0a51cfd\" y=\"147.601962\"/>\n     <use style=\"fill:#1f77b4;stroke:#1f77b4;\" x=\"310.109192\" xlink:href=\"#m96b0a51cfd\" y=\"21.384838\"/>\n     <use style=\"fill:#1f77b4;stroke:#1f77b4;\" x=\"110.311465\" xlink:href=\"#m96b0a51cfd\" y=\"129.438424\"/>\n     <use style=\"fill:#1f77b4;stroke:#1f77b4;\" x=\"160.932538\" xlink:href=\"#m96b0a51cfd\" y=\"48.860986\"/>\n     <use style=\"fill:#1f77b4;stroke:#1f77b4;\" x=\"82.078055\" xlink:href=\"#m96b0a51cfd\" y=\"195.552888\"/>\n     <use style=\"fill:#1f77b4;stroke:#1f77b4;\" x=\"352.008759\" xlink:href=\"#m96b0a51cfd\" y=\"52.830392\"/>\n     <use style=\"fill:#1f77b4;stroke:#1f77b4;\" x=\"126.953506\" xlink:href=\"#m96b0a51cfd\" y=\"80.916367\"/>\n     <use style=\"fill:#1f77b4;stroke:#1f77b4;\" x=\"305.740536\" xlink:href=\"#m96b0a51cfd\" y=\"17.083636\"/>\n     <use style=\"fill:#1f77b4;stroke:#1f77b4;\" x=\"279.777249\" xlink:href=\"#m96b0a51cfd\" y=\"34.108905\"/>\n     <use style=\"fill:#1f77b4;stroke:#1f77b4;\" x=\"161.198871\" xlink:href=\"#m96b0a51cfd\" y=\"51.270173\"/>\n     <use style=\"fill:#1f77b4;stroke:#1f77b4;\" x=\"318.830834\" xlink:href=\"#m96b0a51cfd\" y=\"37.933514\"/>\n     <use style=\"fill:#1f77b4;stroke:#1f77b4;\" x=\"90.894652\" xlink:href=\"#m96b0a51cfd\" y=\"125.588691\"/>\n     <use style=\"fill:#1f77b4;stroke:#1f77b4;\" x=\"117.398436\" xlink:href=\"#m96b0a51cfd\" y=\"98.696012\"/>\n     <use style=\"fill:#1f77b4;stroke:#1f77b4;\" x=\"76.943423\" xlink:href=\"#m96b0a51cfd\" y=\"201.13008\"/>\n     <use style=\"fill:#1f77b4;stroke:#1f77b4;\" x=\"52.225639\" xlink:href=\"#m96b0a51cfd\" y=\"177.223411\"/>\n     <use style=\"fill:#1f77b4;stroke:#1f77b4;\" x=\"126.882096\" xlink:href=\"#m96b0a51cfd\" y=\"139.531397\"/>\n     <use style=\"fill:#1f77b4;stroke:#1f77b4;\" x=\"94.207357\" xlink:href=\"#m96b0a51cfd\" y=\"171.327318\"/>\n     <use style=\"fill:#1f77b4;stroke:#1f77b4;\" x=\"146.37463\" xlink:href=\"#m96b0a51cfd\" y=\"150.060779\"/>\n     <use style=\"fill:#1f77b4;stroke:#1f77b4;\" x=\"350.998715\" xlink:href=\"#m96b0a51cfd\" y=\"47.116246\"/>\n     <use style=\"fill:#1f77b4;stroke:#1f77b4;\" x=\"178.34743\" xlink:href=\"#m96b0a51cfd\" y=\"82.316361\"/>\n     <use style=\"fill:#1f77b4;stroke:#1f77b4;\" x=\"80.297538\" xlink:href=\"#m96b0a51cfd\" y=\"110.36637\"/>\n     <use style=\"fill:#1f77b4;stroke:#1f77b4;\" x=\"122.601951\" xlink:href=\"#m96b0a51cfd\" y=\"118.492644\"/>\n     <use style=\"fill:#1f77b4;stroke:#1f77b4;\" x=\"123.225999\" xlink:href=\"#m96b0a51cfd\" y=\"71.372718\"/>\n     <use style=\"fill:#1f77b4;stroke:#1f77b4;\" x=\"172.693993\" xlink:href=\"#m96b0a51cfd\" y=\"89.179773\"/>\n     <use style=\"fill:#1f77b4;stroke:#1f77b4;\" x=\"205.994057\" xlink:href=\"#m96b0a51cfd\" y=\"92.429247\"/>\n     <use style=\"fill:#1f77b4;stroke:#1f77b4;\" x=\"288.71554\" xlink:href=\"#m96b0a51cfd\" y=\"37.576532\"/>\n     <use style=\"fill:#1f77b4;stroke:#1f77b4;\" x=\"74.628259\" xlink:href=\"#m96b0a51cfd\" y=\"166.181551\"/>\n     <use style=\"fill:#1f77b4;stroke:#1f77b4;\" x=\"194.994131\" xlink:href=\"#m96b0a51cfd\" y=\"109.071076\"/>\n     <use style=\"fill:#1f77b4;stroke:#1f77b4;\" x=\"132.423328\" xlink:href=\"#m96b0a51cfd\" y=\"138.692123\"/>\n     <use style=\"fill:#1f77b4;stroke:#1f77b4;\" x=\"94.07449\" xlink:href=\"#m96b0a51cfd\" y=\"167.285293\"/>\n     <use style=\"fill:#1f77b4;stroke:#1f77b4;\" x=\"97.27986\" xlink:href=\"#m96b0a51cfd\" y=\"174.813178\"/>\n     <use style=\"fill:#1f77b4;stroke:#1f77b4;\" x=\"296.770262\" xlink:href=\"#m96b0a51cfd\" y=\"38.022309\"/>\n     <use style=\"fill:#1f77b4;stroke:#1f77b4;\" x=\"293.919576\" xlink:href=\"#m96b0a51cfd\" y=\"26.515288\"/>\n     <use style=\"fill:#1f77b4;stroke:#1f77b4;\" x=\"145.961662\" xlink:href=\"#m96b0a51cfd\" y=\"133.535414\"/>\n     <use style=\"fill:#1f77b4;stroke:#1f77b4;\" x=\"83.889573\" xlink:href=\"#m96b0a51cfd\" y=\"138.552319\"/>\n     <use style=\"fill:#1f77b4;stroke:#1f77b4;\" x=\"302.978525\" xlink:href=\"#m96b0a51cfd\" y=\"30.52634\"/>\n     <use style=\"fill:#1f77b4;stroke:#1f77b4;\" x=\"281.677301\" xlink:href=\"#m96b0a51cfd\" y=\"41.628309\"/>\n     <use style=\"fill:#1f77b4;stroke:#1f77b4;\" x=\"105.987269\" xlink:href=\"#m96b0a51cfd\" y=\"118.706124\"/>\n     <use style=\"fill:#1f77b4;stroke:#1f77b4;\" x=\"50.522869\" xlink:href=\"#m96b0a51cfd\" y=\"172.190508\"/>\n     <use style=\"fill:#1f77b4;stroke:#1f77b4;\" x=\"69.19394\" xlink:href=\"#m96b0a51cfd\" y=\"201.182439\"/>\n     <use style=\"fill:#1f77b4;stroke:#1f77b4;\" x=\"348.567581\" xlink:href=\"#m96b0a51cfd\" y=\"53.687853\"/>\n     <use style=\"fill:#1f77b4;stroke:#1f77b4;\" x=\"123.807111\" xlink:href=\"#m96b0a51cfd\" y=\"146.241316\"/>\n     <use style=\"fill:#1f77b4;stroke:#1f77b4;\" x=\"84.248985\" xlink:href=\"#m96b0a51cfd\" y=\"209.648536\"/>\n     <use style=\"fill:#1f77b4;stroke:#1f77b4;\" x=\"268.211491\" xlink:href=\"#m96b0a51cfd\" y=\"37.903429\"/>\n     <use style=\"fill:#1f77b4;stroke:#1f77b4;\" x=\"131.077027\" xlink:href=\"#m96b0a51cfd\" y=\"74.183237\"/>\n     <use style=\"fill:#1f77b4;stroke:#1f77b4;\" x=\"155.900976\" xlink:href=\"#m96b0a51cfd\" y=\"146.050249\"/>\n     <use style=\"fill:#1f77b4;stroke:#1f77b4;\" x=\"339.418825\" xlink:href=\"#m96b0a51cfd\" y=\"53.412385\"/>\n     <use style=\"fill:#1f77b4;stroke:#1f77b4;\" x=\"100.067851\" xlink:href=\"#m96b0a51cfd\" y=\"120.746464\"/>\n     <use style=\"fill:#1f77b4;stroke:#1f77b4;\" x=\"340.417931\" xlink:href=\"#m96b0a51cfd\" y=\"42.212239\"/>\n     <use style=\"fill:#1f77b4;stroke:#1f77b4;\" x=\"170.061851\" xlink:href=\"#m96b0a51cfd\" y=\"89.963349\"/>\n     <use style=\"fill:#1f77b4;stroke:#1f77b4;\" x=\"143.592793\" xlink:href=\"#m96b0a51cfd\" y=\"152.142317\"/>\n     <use style=\"fill:#1f77b4;stroke:#1f77b4;\" x=\"93.665262\" xlink:href=\"#m96b0a51cfd\" y=\"207.134788\"/>\n     <use style=\"fill:#1f77b4;stroke:#1f77b4;\" x=\"102.692988\" xlink:href=\"#m96b0a51cfd\" y=\"120.194763\"/>\n     <use style=\"fill:#1f77b4;stroke:#1f77b4;\" x=\"96.605897\" xlink:href=\"#m96b0a51cfd\" y=\"153.444617\"/>\n     <use style=\"fill:#1f77b4;stroke:#1f77b4;\" x=\"96.556845\" xlink:href=\"#m96b0a51cfd\" y=\"104.87361\"/>\n     <use style=\"fill:#1f77b4;stroke:#1f77b4;\" x=\"104.483513\" xlink:href=\"#m96b0a51cfd\" y=\"70.604001\"/>\n     <use style=\"fill:#1f77b4;stroke:#1f77b4;\" x=\"171.818563\" xlink:href=\"#m96b0a51cfd\" y=\"142.27337\"/>\n     <use style=\"fill:#1f77b4;stroke:#1f77b4;\" x=\"103.018664\" xlink:href=\"#m96b0a51cfd\" y=\"127.809755\"/>\n     <use style=\"fill:#1f77b4;stroke:#1f77b4;\" x=\"75.787802\" xlink:href=\"#m96b0a51cfd\" y=\"208.216373\"/>\n     <use style=\"fill:#1f77b4;stroke:#1f77b4;\" x=\"278.366529\" xlink:href=\"#m96b0a51cfd\" y=\"38.647178\"/>\n     <use style=\"fill:#1f77b4;stroke:#1f77b4;\" x=\"110.986706\" xlink:href=\"#m96b0a51cfd\" y=\"71.168865\"/>\n     <use style=\"fill:#1f77b4;stroke:#1f77b4;\" x=\"283.418086\" xlink:href=\"#m96b0a51cfd\" y=\"41.774706\"/>\n     <use style=\"fill:#1f77b4;stroke:#1f77b4;\" x=\"130.902723\" xlink:href=\"#m96b0a51cfd\" y=\"118.669427\"/>\n     <use style=\"fill:#1f77b4;stroke:#1f77b4;\" x=\"174.635642\" xlink:href=\"#m96b0a51cfd\" y=\"134.984701\"/>\n     <use style=\"fill:#1f77b4;stroke:#1f77b4;\" x=\"81.120434\" xlink:href=\"#m96b0a51cfd\" y=\"189.159512\"/>\n     <use style=\"fill:#1f77b4;stroke:#1f77b4;\" x=\"209.130721\" xlink:href=\"#m96b0a51cfd\" y=\"106.526886\"/>\n     <use style=\"fill:#1f77b4;stroke:#1f77b4;\" x=\"346.230807\" xlink:href=\"#m96b0a51cfd\" y=\"51.069088\"/>\n     <use style=\"fill:#1f77b4;stroke:#1f77b4;\" x=\"162.589918\" xlink:href=\"#m96b0a51cfd\" y=\"46.829895\"/>\n     <use style=\"fill:#1f77b4;stroke:#1f77b4;\" x=\"92.246311\" xlink:href=\"#m96b0a51cfd\" y=\"159.032679\"/>\n     <use style=\"fill:#1f77b4;stroke:#1f77b4;\" x=\"165.130636\" xlink:href=\"#m96b0a51cfd\" y=\"51.372563\"/>\n     <use style=\"fill:#1f77b4;stroke:#1f77b4;\" x=\"165.308901\" xlink:href=\"#m96b0a51cfd\" y=\"52.631951\"/>\n     <use style=\"fill:#1f77b4;stroke:#1f77b4;\" x=\"274.696925\" xlink:href=\"#m96b0a51cfd\" y=\"55.756426\"/>\n     <use style=\"fill:#1f77b4;stroke:#1f77b4;\" x=\"89.750275\" xlink:href=\"#m96b0a51cfd\" y=\"97.771565\"/>\n     <use style=\"fill:#1f77b4;stroke:#1f77b4;\" x=\"95.272223\" xlink:href=\"#m96b0a51cfd\" y=\"134.332902\"/>\n     <use style=\"fill:#1f77b4;stroke:#1f77b4;\" x=\"288.528675\" xlink:href=\"#m96b0a51cfd\" y=\"54.390173\"/>\n     <use style=\"fill:#1f77b4;stroke:#1f77b4;\" x=\"81.181833\" xlink:href=\"#m96b0a51cfd\" y=\"164.781551\"/>\n     <use style=\"fill:#1f77b4;stroke:#1f77b4;\" x=\"80.270959\" xlink:href=\"#m96b0a51cfd\" y=\"204.51262\"/>\n     <use style=\"fill:#1f77b4;stroke:#1f77b4;\" x=\"121.207905\" xlink:href=\"#m96b0a51cfd\" y=\"73.474117\"/>\n     <use style=\"fill:#1f77b4;stroke:#1f77b4;\" x=\"189.040336\" xlink:href=\"#m96b0a51cfd\" y=\"83.245648\"/>\n     <use style=\"fill:#1f77b4;stroke:#1f77b4;\" x=\"92.195472\" xlink:href=\"#m96b0a51cfd\" y=\"206.604842\"/>\n     <use style=\"fill:#1f77b4;stroke:#1f77b4;\" x=\"298.219092\" xlink:href=\"#m96b0a51cfd\" y=\"34.549907\"/>\n     <use style=\"fill:#1f77b4;stroke:#1f77b4;\" x=\"286.467376\" xlink:href=\"#m96b0a51cfd\" y=\"58.773354\"/>\n     <use style=\"fill:#1f77b4;stroke:#1f77b4;\" x=\"278.022707\" xlink:href=\"#m96b0a51cfd\" y=\"26.771626\"/>\n     <use style=\"fill:#1f77b4;stroke:#1f77b4;\" x=\"197.904038\" xlink:href=\"#m96b0a51cfd\" y=\"106.92361\"/>\n     <use style=\"fill:#1f77b4;stroke:#1f77b4;\" x=\"104.571623\" xlink:href=\"#m96b0a51cfd\" y=\"181.583416\"/>\n     <use style=\"fill:#1f77b4;stroke:#1f77b4;\" x=\"292.968385\" xlink:href=\"#m96b0a51cfd\" y=\"28.083224\"/>\n     <use style=\"fill:#1f77b4;stroke:#1f77b4;\" x=\"138.152742\" xlink:href=\"#m96b0a51cfd\" y=\"73.290828\"/>\n     <use style=\"fill:#1f77b4;stroke:#1f77b4;\" x=\"109.569579\" xlink:href=\"#m96b0a51cfd\" y=\"131.333394\"/>\n     <use style=\"fill:#1f77b4;stroke:#1f77b4;\" x=\"199.039934\" xlink:href=\"#m96b0a51cfd\" y=\"111.656442\"/>\n     <use style=\"fill:#1f77b4;stroke:#1f77b4;\" x=\"117.91158\" xlink:href=\"#m96b0a51cfd\" y=\"106.975631\"/>\n     <use style=\"fill:#1f77b4;stroke:#1f77b4;\" x=\"108.286569\" xlink:href=\"#m96b0a51cfd\" y=\"92.802004\"/>\n     <use style=\"fill:#1f77b4;stroke:#1f77b4;\" x=\"74.640139\" xlink:href=\"#m96b0a51cfd\" y=\"121.577166\"/>\n     <use style=\"fill:#1f77b4;stroke:#1f77b4;\" x=\"278.194712\" xlink:href=\"#m96b0a51cfd\" y=\"45.682009\"/>\n     <use style=\"fill:#1f77b4;stroke:#1f77b4;\" x=\"74.298486\" xlink:href=\"#m96b0a51cfd\" y=\"156.728458\"/>\n     <use style=\"fill:#1f77b4;stroke:#1f77b4;\" x=\"121.931592\" xlink:href=\"#m96b0a51cfd\" y=\"97.869113\"/>\n     <use style=\"fill:#1f77b4;stroke:#1f77b4;\" x=\"281.284686\" xlink:href=\"#m96b0a51cfd\" y=\"50.843736\"/>\n     <use style=\"fill:#1f77b4;stroke:#1f77b4;\" x=\"95.097356\" xlink:href=\"#m96b0a51cfd\" y=\"184.655383\"/>\n     <use style=\"fill:#1f77b4;stroke:#1f77b4;\" x=\"75.165008\" xlink:href=\"#m96b0a51cfd\" y=\"166.444495\"/>\n     <use style=\"fill:#1f77b4;stroke:#1f77b4;\" x=\"194.398593\" xlink:href=\"#m96b0a51cfd\" y=\"112.190188\"/>\n     <use style=\"fill:#1f77b4;stroke:#1f77b4;\" x=\"76.203092\" xlink:href=\"#m96b0a51cfd\" y=\"198.984116\"/>\n     <use style=\"fill:#1f77b4;stroke:#1f77b4;\" x=\"169.116077\" xlink:href=\"#m96b0a51cfd\" y=\"102.191755\"/>\n     <use style=\"fill:#1f77b4;stroke:#1f77b4;\" x=\"83.922215\" xlink:href=\"#m96b0a51cfd\" y=\"136.147915\"/>\n     <use style=\"fill:#1f77b4;stroke:#1f77b4;\" x=\"147.153054\" xlink:href=\"#m96b0a51cfd\" y=\"110.917216\"/>\n     <use style=\"fill:#1f77b4;stroke:#1f77b4;\" x=\"293.223098\" xlink:href=\"#m96b0a51cfd\" y=\"36.178647\"/>\n     <use style=\"fill:#1f77b4;stroke:#1f77b4;\" x=\"93.880624\" xlink:href=\"#m96b0a51cfd\" y=\"192.822468\"/>\n     <use style=\"fill:#1f77b4;stroke:#1f77b4;\" x=\"131.792581\" xlink:href=\"#m96b0a51cfd\" y=\"108.458544\"/>\n     <use style=\"fill:#1f77b4;stroke:#1f77b4;\" x=\"173.284078\" xlink:href=\"#m96b0a51cfd\" y=\"133.329068\"/>\n     <use style=\"fill:#1f77b4;stroke:#1f77b4;\" x=\"123.225308\" xlink:href=\"#m96b0a51cfd\" y=\"81.613036\"/>\n     <use style=\"fill:#1f77b4;stroke:#1f77b4;\" x=\"85.276047\" xlink:href=\"#m96b0a51cfd\" y=\"174.167817\"/>\n     <use style=\"fill:#1f77b4;stroke:#1f77b4;\" x=\"290.378483\" xlink:href=\"#m96b0a51cfd\" y=\"26.205782\"/>\n     <use style=\"fill:#1f77b4;stroke:#1f77b4;\" x=\"129.154671\" xlink:href=\"#m96b0a51cfd\" y=\"133.036473\"/>\n     <use style=\"fill:#1f77b4;stroke:#1f77b4;\" x=\"277.174391\" xlink:href=\"#m96b0a51cfd\" y=\"36.290201\"/>\n     <use style=\"fill:#1f77b4;stroke:#1f77b4;\" x=\"170.275121\" xlink:href=\"#m96b0a51cfd\" y=\"43.955338\"/>\n     <use style=\"fill:#1f77b4;stroke:#1f77b4;\" x=\"96.283596\" xlink:href=\"#m96b0a51cfd\" y=\"107.565867\"/>\n     <use style=\"fill:#1f77b4;stroke:#1f77b4;\" x=\"345.663566\" xlink:href=\"#m96b0a51cfd\" y=\"53.835628\"/>\n     <use style=\"fill:#1f77b4;stroke:#1f77b4;\" x=\"106.348006\" xlink:href=\"#m96b0a51cfd\" y=\"163.171758\"/>\n     <use style=\"fill:#1f77b4;stroke:#1f77b4;\" x=\"96.297131\" xlink:href=\"#m96b0a51cfd\" y=\"123.19928\"/>\n     <use style=\"fill:#1f77b4;stroke:#1f77b4;\" x=\"106.933284\" xlink:href=\"#m96b0a51cfd\" y=\"69.141541\"/>\n     <use style=\"fill:#1f77b4;stroke:#1f77b4;\" x=\"339.083659\" xlink:href=\"#m96b0a51cfd\" y=\"47.347738\"/>\n     <use style=\"fill:#1f77b4;stroke:#1f77b4;\" x=\"176.910935\" xlink:href=\"#m96b0a51cfd\" y=\"135.625927\"/>\n     <use style=\"fill:#1f77b4;stroke:#1f77b4;\" x=\"333.686752\" xlink:href=\"#m96b0a51cfd\" y=\"34.774859\"/>\n     <use style=\"fill:#1f77b4;stroke:#1f77b4;\" x=\"279.004295\" xlink:href=\"#m96b0a51cfd\" y=\"22.665785\"/>\n     <use style=\"fill:#1f77b4;stroke:#1f77b4;\" x=\"135.443132\" xlink:href=\"#m96b0a51cfd\" y=\"130.469259\"/>\n     <use style=\"fill:#1f77b4;stroke:#1f77b4;\" x=\"106.046881\" xlink:href=\"#m96b0a51cfd\" y=\"130.131851\"/>\n     <use style=\"fill:#1f77b4;stroke:#1f77b4;\" x=\"289.915135\" xlink:href=\"#m96b0a51cfd\" y=\"46.905354\"/>\n     <use style=\"fill:#1f77b4;stroke:#1f77b4;\" x=\"87.809958\" xlink:href=\"#m96b0a51cfd\" y=\"176.81272\"/>\n     <use style=\"fill:#1f77b4;stroke:#1f77b4;\" x=\"85.678439\" xlink:href=\"#m96b0a51cfd\" y=\"151.320224\"/>\n     <use style=\"fill:#1f77b4;stroke:#1f77b4;\" x=\"173.650297\" xlink:href=\"#m96b0a51cfd\" y=\"135.646335\"/>\n     <use style=\"fill:#1f77b4;stroke:#1f77b4;\" x=\"94.915456\" xlink:href=\"#m96b0a51cfd\" y=\"168.560815\"/>\n     <use style=\"fill:#1f77b4;stroke:#1f77b4;\" x=\"112.670457\" xlink:href=\"#m96b0a51cfd\" y=\"121.954482\"/>\n     <use style=\"fill:#1f77b4;stroke:#1f77b4;\" x=\"126.938651\" xlink:href=\"#m96b0a51cfd\" y=\"107.132066\"/>\n     <use style=\"fill:#1f77b4;stroke:#1f77b4;\" x=\"144.417329\" xlink:href=\"#m96b0a51cfd\" y=\"137.618858\"/>\n     <use style=\"fill:#1f77b4;stroke:#1f77b4;\" x=\"305.300797\" xlink:href=\"#m96b0a51cfd\" y=\"21.53193\"/>\n     <use style=\"fill:#1f77b4;stroke:#1f77b4;\" x=\"51.153442\" xlink:href=\"#m96b0a51cfd\" y=\"169.402704\"/>\n     <use style=\"fill:#1f77b4;stroke:#1f77b4;\" x=\"169.092168\" xlink:href=\"#m96b0a51cfd\" y=\"103.05745\"/>\n     <use style=\"fill:#1f77b4;stroke:#1f77b4;\" x=\"71.742093\" xlink:href=\"#m96b0a51cfd\" y=\"136.40019\"/>\n     <use style=\"fill:#1f77b4;stroke:#1f77b4;\" x=\"127.809034\" xlink:href=\"#m96b0a51cfd\" y=\"97.641097\"/>\n     <use style=\"fill:#1f77b4;stroke:#1f77b4;\" x=\"158.785013\" xlink:href=\"#m96b0a51cfd\" y=\"53.533642\"/>\n     <use style=\"fill:#1f77b4;stroke:#1f77b4;\" x=\"123.687588\" xlink:href=\"#m96b0a51cfd\" y=\"161.629618\"/>\n     <use style=\"fill:#1f77b4;stroke:#1f77b4;\" x=\"282.782007\" xlink:href=\"#m96b0a51cfd\" y=\"52.445864\"/>\n     <use style=\"fill:#1f77b4;stroke:#1f77b4;\" x=\"123.52643\" xlink:href=\"#m96b0a51cfd\" y=\"110.801803\"/>\n     <use style=\"fill:#1f77b4;stroke:#1f77b4;\" x=\"86.176371\" xlink:href=\"#m96b0a51cfd\" y=\"180.005083\"/>\n     <use style=\"fill:#1f77b4;stroke:#1f77b4;\" x=\"61.262666\" xlink:href=\"#m96b0a51cfd\" y=\"193.458579\"/>\n     <use style=\"fill:#1f77b4;stroke:#1f77b4;\" x=\"250.796267\" xlink:href=\"#m96b0a51cfd\" y=\"63.484179\"/>\n     <use style=\"fill:#1f77b4;stroke:#1f77b4;\" x=\"90.870251\" xlink:href=\"#m96b0a51cfd\" y=\"168.291492\"/>\n     <use style=\"fill:#1f77b4;stroke:#1f77b4;\" x=\"277.132614\" xlink:href=\"#m96b0a51cfd\" y=\"43.386552\"/>\n     <use style=\"fill:#1f77b4;stroke:#1f77b4;\" x=\"135.001612\" xlink:href=\"#m96b0a51cfd\" y=\"122.589104\"/>\n     <use style=\"fill:#1f77b4;stroke:#1f77b4;\" x=\"348.136564\" xlink:href=\"#m96b0a51cfd\" y=\"50.661304\"/>\n     <use style=\"fill:#1f77b4;stroke:#1f77b4;\" x=\"100.295282\" xlink:href=\"#m96b0a51cfd\" y=\"189.308804\"/>\n     <use style=\"fill:#1f77b4;stroke:#1f77b4;\" x=\"137.075501\" xlink:href=\"#m96b0a51cfd\" y=\"78.34124\"/>\n     <use style=\"fill:#1f77b4;stroke:#1f77b4;\" x=\"273.802051\" xlink:href=\"#m96b0a51cfd\" y=\"46.935172\"/>\n     <use style=\"fill:#1f77b4;stroke:#1f77b4;\" x=\"101.097751\" xlink:href=\"#m96b0a51cfd\" y=\"187.24969\"/>\n     <use style=\"fill:#1f77b4;stroke:#1f77b4;\" x=\"171.152287\" xlink:href=\"#m96b0a51cfd\" y=\"93.090549\"/>\n     <use style=\"fill:#1f77b4;stroke:#1f77b4;\" x=\"80.964363\" xlink:href=\"#m96b0a51cfd\" y=\"157.073501\"/>\n     <use style=\"fill:#1f77b4;stroke:#1f77b4;\" x=\"92.097392\" xlink:href=\"#m96b0a51cfd\" y=\"96.590354\"/>\n     <use style=\"fill:#1f77b4;stroke:#1f77b4;\" x=\"89.161848\" xlink:href=\"#m96b0a51cfd\" y=\"191.137355\"/>\n     <use style=\"fill:#1f77b4;stroke:#1f77b4;\" x=\"130.826102\" xlink:href=\"#m96b0a51cfd\" y=\"118.897989\"/>\n     <use style=\"fill:#1f77b4;stroke:#1f77b4;\" x=\"71.061577\" xlink:href=\"#m96b0a51cfd\" y=\"159.4933\"/>\n     <use style=\"fill:#1f77b4;stroke:#1f77b4;\" x=\"118.96756\" xlink:href=\"#m96b0a51cfd\" y=\"75.875089\"/>\n     <use style=\"fill:#1f77b4;stroke:#1f77b4;\" x=\"138.136878\" xlink:href=\"#m96b0a51cfd\" y=\"111.095589\"/>\n     <use style=\"fill:#1f77b4;stroke:#1f77b4;\" x=\"279.850631\" xlink:href=\"#m96b0a51cfd\" y=\"44.724034\"/>\n     <use style=\"fill:#1f77b4;stroke:#1f77b4;\" x=\"204.250759\" xlink:href=\"#m96b0a51cfd\" y=\"103.865527\"/>\n     <use style=\"fill:#1f77b4;stroke:#1f77b4;\" x=\"195.788916\" xlink:href=\"#m96b0a51cfd\" y=\"118.705662\"/>\n     <use style=\"fill:#1f77b4;stroke:#1f77b4;\" x=\"284.961965\" xlink:href=\"#m96b0a51cfd\" y=\"36.546139\"/>\n     <use style=\"fill:#1f77b4;stroke:#1f77b4;\" x=\"93.899882\" xlink:href=\"#m96b0a51cfd\" y=\"191.375768\"/>\n     <use style=\"fill:#1f77b4;stroke:#1f77b4;\" x=\"301.90366\" xlink:href=\"#m96b0a51cfd\" y=\"21.911275\"/>\n     <use style=\"fill:#1f77b4;stroke:#1f77b4;\" x=\"77.23583\" xlink:href=\"#m96b0a51cfd\" y=\"122.442949\"/>\n     <use style=\"fill:#1f77b4;stroke:#1f77b4;\" x=\"314.660055\" xlink:href=\"#m96b0a51cfd\" y=\"31.242445\"/>\n     <use style=\"fill:#1f77b4;stroke:#1f77b4;\" x=\"88.830585\" xlink:href=\"#m96b0a51cfd\" y=\"188.113155\"/>\n     <use style=\"fill:#1f77b4;stroke:#1f77b4;\" x=\"173.909428\" xlink:href=\"#m96b0a51cfd\" y=\"143.279832\"/>\n     <use style=\"fill:#1f77b4;stroke:#1f77b4;\" x=\"142.527659\" xlink:href=\"#m96b0a51cfd\" y=\"114.352583\"/>\n     <use style=\"fill:#1f77b4;stroke:#1f77b4;\" x=\"184.209051\" xlink:href=\"#m96b0a51cfd\" y=\"77.32528\"/>\n     <use style=\"fill:#1f77b4;stroke:#1f77b4;\" x=\"164.742453\" xlink:href=\"#m96b0a51cfd\" y=\"54.056429\"/>\n     <use style=\"fill:#1f77b4;stroke:#1f77b4;\" x=\"182.09915\" xlink:href=\"#m96b0a51cfd\" y=\"79.866524\"/>\n     <use style=\"fill:#1f77b4;stroke:#1f77b4;\" x=\"273.524163\" xlink:href=\"#m96b0a51cfd\" y=\"43.812758\"/>\n     <use style=\"fill:#1f77b4;stroke:#1f77b4;\" x=\"143.937359\" xlink:href=\"#m96b0a51cfd\" y=\"145.911585\"/>\n     <use style=\"fill:#1f77b4;stroke:#1f77b4;\" x=\"250.975673\" xlink:href=\"#m96b0a51cfd\" y=\"66.022824\"/>\n     <use style=\"fill:#1f77b4;stroke:#1f77b4;\" x=\"123.88081\" xlink:href=\"#m96b0a51cfd\" y=\"129.563008\"/>\n     <use style=\"fill:#1f77b4;stroke:#1f77b4;\" x=\"274.165767\" xlink:href=\"#m96b0a51cfd\" y=\"34.304653\"/>\n     <use style=\"fill:#1f77b4;stroke:#1f77b4;\" x=\"70.760127\" xlink:href=\"#m96b0a51cfd\" y=\"136.412433\"/>\n     <use style=\"fill:#1f77b4;stroke:#1f77b4;\" x=\"110.191774\" xlink:href=\"#m96b0a51cfd\" y=\"101.451428\"/>\n     <use style=\"fill:#1f77b4;stroke:#1f77b4;\" x=\"342.583407\" xlink:href=\"#m96b0a51cfd\" y=\"45.197028\"/>\n     <use style=\"fill:#1f77b4;stroke:#1f77b4;\" x=\"149.115305\" xlink:href=\"#m96b0a51cfd\" y=\"50.368959\"/>\n     <use style=\"fill:#1f77b4;stroke:#1f77b4;\" x=\"137.188721\" xlink:href=\"#m96b0a51cfd\" y=\"78.348302\"/>\n     <use style=\"fill:#1f77b4;stroke:#1f77b4;\" x=\"110.190601\" xlink:href=\"#m96b0a51cfd\" y=\"77.630915\"/>\n     <use style=\"fill:#1f77b4;stroke:#1f77b4;\" x=\"97.860202\" xlink:href=\"#m96b0a51cfd\" y=\"187.978166\"/>\n     <use style=\"fill:#1f77b4;stroke:#1f77b4;\" x=\"87.391056\" xlink:href=\"#m96b0a51cfd\" y=\"130.169109\"/>\n     <use style=\"fill:#1f77b4;stroke:#1f77b4;\" x=\"121.61495\" xlink:href=\"#m96b0a51cfd\" y=\"81.719335\"/>\n     <use style=\"fill:#1f77b4;stroke:#1f77b4;\" x=\"93.634129\" xlink:href=\"#m96b0a51cfd\" y=\"119.953427\"/>\n     <use style=\"fill:#1f77b4;stroke:#1f77b4;\" x=\"72.180832\" xlink:href=\"#m96b0a51cfd\" y=\"204.1254\"/>\n     <use style=\"fill:#1f77b4;stroke:#1f77b4;\" x=\"343.782776\" xlink:href=\"#m96b0a51cfd\" y=\"54.625494\"/>\n     <use style=\"fill:#1f77b4;stroke:#1f77b4;\" x=\"106.158143\" xlink:href=\"#m96b0a51cfd\" y=\"65.36515\"/>\n    </g>\n   </g>\n   <g id=\"matplotlib.axis_1\">\n    <g id=\"xtick_1\">\n     <g id=\"line2d_1\">\n      <defs>\n       <path d=\"M 0 0 \nL 0 3.5 \n\" id=\"m3fe5bd8885\" style=\"stroke:#000000;stroke-width:0.8;\"/>\n      </defs>\n      <g>\n       <use style=\"stroke:#000000;stroke-width:0.8;\" x=\"61.660098\" xlink:href=\"#m3fe5bd8885\" y=\"224.64\"/>\n      </g>\n     </g>\n     <g id=\"text_1\">\n      <!-- −20 -->\n      <defs>\n       <path d=\"M 10.59375 35.5 \nL 73.1875 35.5 \nL 73.1875 27.203125 \nL 10.59375 27.203125 \nz\n\" id=\"DejaVuSans-8722\"/>\n       <path d=\"M 19.1875 8.296875 \nL 53.609375 8.296875 \nL 53.609375 0 \nL 7.328125 0 \nL 7.328125 8.296875 \nQ 12.9375 14.109375 22.625 23.890625 \nQ 32.328125 33.6875 34.8125 36.53125 \nQ 39.546875 41.84375 41.421875 45.53125 \nQ 43.3125 49.21875 43.3125 52.78125 \nQ 43.3125 58.59375 39.234375 62.25 \nQ 35.15625 65.921875 28.609375 65.921875 \nQ 23.96875 65.921875 18.8125 64.3125 \nQ 13.671875 62.703125 7.8125 59.421875 \nL 7.8125 69.390625 \nQ 13.765625 71.78125 18.9375 73 \nQ 24.125 74.21875 28.421875 74.21875 \nQ 39.75 74.21875 46.484375 68.546875 \nQ 53.21875 62.890625 53.21875 53.421875 \nQ 53.21875 48.921875 51.53125 44.890625 \nQ 49.859375 40.875 45.40625 35.40625 \nQ 44.1875 33.984375 37.640625 27.21875 \nQ 31.109375 20.453125 19.1875 8.296875 \nz\n\" id=\"DejaVuSans-50\"/>\n       <path d=\"M 31.78125 66.40625 \nQ 24.171875 66.40625 20.328125 58.90625 \nQ 16.5 51.421875 16.5 36.375 \nQ 16.5 21.390625 20.328125 13.890625 \nQ 24.171875 6.390625 31.78125 6.390625 \nQ 39.453125 6.390625 43.28125 13.890625 \nQ 47.125 21.390625 47.125 36.375 \nQ 47.125 51.421875 43.28125 58.90625 \nQ 39.453125 66.40625 31.78125 66.40625 \nz\nM 31.78125 74.21875 \nQ 44.046875 74.21875 50.515625 64.515625 \nQ 56.984375 54.828125 56.984375 36.375 \nQ 56.984375 17.96875 50.515625 8.265625 \nQ 44.046875 -1.421875 31.78125 -1.421875 \nQ 19.53125 -1.421875 13.0625 8.265625 \nQ 6.59375 17.96875 6.59375 36.375 \nQ 6.59375 54.828125 13.0625 64.515625 \nQ 19.53125 74.21875 31.78125 74.21875 \nz\n\" id=\"DejaVuSans-48\"/>\n      </defs>\n      <g transform=\"translate(51.107755 239.238437)scale(0.1 -0.1)\">\n       <use xlink:href=\"#DejaVuSans-8722\"/>\n       <use x=\"83.789062\" xlink:href=\"#DejaVuSans-50\"/>\n       <use x=\"147.412109\" xlink:href=\"#DejaVuSans-48\"/>\n      </g>\n     </g>\n    </g>\n    <g id=\"xtick_2\">\n     <g id=\"line2d_2\">\n      <g>\n       <use style=\"stroke:#000000;stroke-width:0.8;\" x=\"111.092895\" xlink:href=\"#m3fe5bd8885\" y=\"224.64\"/>\n      </g>\n     </g>\n     <g id=\"text_2\">\n      <!-- −10 -->\n      <defs>\n       <path d=\"M 12.40625 8.296875 \nL 28.515625 8.296875 \nL 28.515625 63.921875 \nL 10.984375 60.40625 \nL 10.984375 69.390625 \nL 28.421875 72.90625 \nL 38.28125 72.90625 \nL 38.28125 8.296875 \nL 54.390625 8.296875 \nL 54.390625 0 \nL 12.40625 0 \nz\n\" id=\"DejaVuSans-49\"/>\n      </defs>\n      <g transform=\"translate(100.540551 239.238437)scale(0.1 -0.1)\">\n       <use xlink:href=\"#DejaVuSans-8722\"/>\n       <use x=\"83.789062\" xlink:href=\"#DejaVuSans-49\"/>\n       <use x=\"147.412109\" xlink:href=\"#DejaVuSans-48\"/>\n      </g>\n     </g>\n    </g>\n    <g id=\"xtick_3\">\n     <g id=\"line2d_3\">\n      <g>\n       <use style=\"stroke:#000000;stroke-width:0.8;\" x=\"160.525691\" xlink:href=\"#m3fe5bd8885\" y=\"224.64\"/>\n      </g>\n     </g>\n     <g id=\"text_3\">\n      <!-- 0 -->\n      <g transform=\"translate(157.344441 239.238437)scale(0.1 -0.1)\">\n       <use xlink:href=\"#DejaVuSans-48\"/>\n      </g>\n     </g>\n    </g>\n    <g id=\"xtick_4\">\n     <g id=\"line2d_4\">\n      <g>\n       <use style=\"stroke:#000000;stroke-width:0.8;\" x=\"209.958487\" xlink:href=\"#m3fe5bd8885\" y=\"224.64\"/>\n      </g>\n     </g>\n     <g id=\"text_4\">\n      <!-- 10 -->\n      <g transform=\"translate(203.595987 239.238437)scale(0.1 -0.1)\">\n       <use xlink:href=\"#DejaVuSans-49\"/>\n       <use x=\"63.623047\" xlink:href=\"#DejaVuSans-48\"/>\n      </g>\n     </g>\n    </g>\n    <g id=\"xtick_5\">\n     <g id=\"line2d_5\">\n      <g>\n       <use style=\"stroke:#000000;stroke-width:0.8;\" x=\"259.391283\" xlink:href=\"#m3fe5bd8885\" y=\"224.64\"/>\n      </g>\n     </g>\n     <g id=\"text_5\">\n      <!-- 20 -->\n      <g transform=\"translate(253.028783 239.238437)scale(0.1 -0.1)\">\n       <use xlink:href=\"#DejaVuSans-50\"/>\n       <use x=\"63.623047\" xlink:href=\"#DejaVuSans-48\"/>\n      </g>\n     </g>\n    </g>\n    <g id=\"xtick_6\">\n     <g id=\"line2d_6\">\n      <g>\n       <use style=\"stroke:#000000;stroke-width:0.8;\" x=\"308.824079\" xlink:href=\"#m3fe5bd8885\" y=\"224.64\"/>\n      </g>\n     </g>\n     <g id=\"text_6\">\n      <!-- 30 -->\n      <defs>\n       <path d=\"M 40.578125 39.3125 \nQ 47.65625 37.796875 51.625 33 \nQ 55.609375 28.21875 55.609375 21.1875 \nQ 55.609375 10.40625 48.1875 4.484375 \nQ 40.765625 -1.421875 27.09375 -1.421875 \nQ 22.515625 -1.421875 17.65625 -0.515625 \nQ 12.796875 0.390625 7.625 2.203125 \nL 7.625 11.71875 \nQ 11.71875 9.328125 16.59375 8.109375 \nQ 21.484375 6.890625 26.8125 6.890625 \nQ 36.078125 6.890625 40.9375 10.546875 \nQ 45.796875 14.203125 45.796875 21.1875 \nQ 45.796875 27.640625 41.28125 31.265625 \nQ 36.765625 34.90625 28.71875 34.90625 \nL 20.21875 34.90625 \nL 20.21875 43.015625 \nL 29.109375 43.015625 \nQ 36.375 43.015625 40.234375 45.921875 \nQ 44.09375 48.828125 44.09375 54.296875 \nQ 44.09375 59.90625 40.109375 62.90625 \nQ 36.140625 65.921875 28.71875 65.921875 \nQ 24.65625 65.921875 20.015625 65.03125 \nQ 15.375 64.15625 9.8125 62.3125 \nL 9.8125 71.09375 \nQ 15.4375 72.65625 20.34375 73.4375 \nQ 25.25 74.21875 29.59375 74.21875 \nQ 40.828125 74.21875 47.359375 69.109375 \nQ 53.90625 64.015625 53.90625 55.328125 \nQ 53.90625 49.265625 50.4375 45.09375 \nQ 46.96875 40.921875 40.578125 39.3125 \nz\n\" id=\"DejaVuSans-51\"/>\n      </defs>\n      <g transform=\"translate(302.461579 239.238437)scale(0.1 -0.1)\">\n       <use xlink:href=\"#DejaVuSans-51\"/>\n       <use x=\"63.623047\" xlink:href=\"#DejaVuSans-48\"/>\n      </g>\n     </g>\n    </g>\n    <g id=\"xtick_7\">\n     <g id=\"line2d_7\">\n      <g>\n       <use style=\"stroke:#000000;stroke-width:0.8;\" x=\"358.256876\" xlink:href=\"#m3fe5bd8885\" y=\"224.64\"/>\n      </g>\n     </g>\n     <g id=\"text_7\">\n      <!-- 40 -->\n      <defs>\n       <path d=\"M 37.796875 64.3125 \nL 12.890625 25.390625 \nL 37.796875 25.390625 \nz\nM 35.203125 72.90625 \nL 47.609375 72.90625 \nL 47.609375 25.390625 \nL 58.015625 25.390625 \nL 58.015625 17.1875 \nL 47.609375 17.1875 \nL 47.609375 0 \nL 37.796875 0 \nL 37.796875 17.1875 \nL 4.890625 17.1875 \nL 4.890625 26.703125 \nz\n\" id=\"DejaVuSans-52\"/>\n      </defs>\n      <g transform=\"translate(351.894376 239.238437)scale(0.1 -0.1)\">\n       <use xlink:href=\"#DejaVuSans-52\"/>\n       <use x=\"63.623047\" xlink:href=\"#DejaVuSans-48\"/>\n      </g>\n     </g>\n    </g>\n   </g>\n   <g id=\"matplotlib.axis_2\">\n    <g id=\"ytick_1\">\n     <g id=\"line2d_8\">\n      <defs>\n       <path d=\"M 0 0 \nL -3.5 0 \n\" id=\"m78b9798e91\" style=\"stroke:#000000;stroke-width:0.8;\"/>\n      </defs>\n      <g>\n       <use style=\"stroke:#000000;stroke-width:0.8;\" x=\"35.304688\" xlink:href=\"#m78b9798e91\" y=\"187.631816\"/>\n      </g>\n     </g>\n     <g id=\"text_8\">\n      <!-- −20 -->\n      <g transform=\"translate(7.2 191.431035)scale(0.1 -0.1)\">\n       <use xlink:href=\"#DejaVuSans-8722\"/>\n       <use x=\"83.789062\" xlink:href=\"#DejaVuSans-50\"/>\n       <use x=\"147.412109\" xlink:href=\"#DejaVuSans-48\"/>\n      </g>\n     </g>\n    </g>\n    <g id=\"ytick_2\">\n     <g id=\"line2d_9\">\n      <g>\n       <use style=\"stroke:#000000;stroke-width:0.8;\" x=\"35.304688\" xlink:href=\"#m78b9798e91\" y=\"145.242596\"/>\n      </g>\n     </g>\n     <g id=\"text_9\">\n      <!-- −10 -->\n      <g transform=\"translate(7.2 149.041814)scale(0.1 -0.1)\">\n       <use xlink:href=\"#DejaVuSans-8722\"/>\n       <use x=\"83.789062\" xlink:href=\"#DejaVuSans-49\"/>\n       <use x=\"147.412109\" xlink:href=\"#DejaVuSans-48\"/>\n      </g>\n     </g>\n    </g>\n    <g id=\"ytick_3\">\n     <g id=\"line2d_10\">\n      <g>\n       <use style=\"stroke:#000000;stroke-width:0.8;\" x=\"35.304688\" xlink:href=\"#m78b9798e91\" y=\"102.853375\"/>\n      </g>\n     </g>\n     <g id=\"text_10\">\n      <!-- 0 -->\n      <g transform=\"translate(21.942188 106.652594)scale(0.1 -0.1)\">\n       <use xlink:href=\"#DejaVuSans-48\"/>\n      </g>\n     </g>\n    </g>\n    <g id=\"ytick_4\">\n     <g id=\"line2d_11\">\n      <g>\n       <use style=\"stroke:#000000;stroke-width:0.8;\" x=\"35.304688\" xlink:href=\"#m78b9798e91\" y=\"60.464155\"/>\n      </g>\n     </g>\n     <g id=\"text_11\">\n      <!-- 10 -->\n      <g transform=\"translate(15.579688 64.263374)scale(0.1 -0.1)\">\n       <use xlink:href=\"#DejaVuSans-49\"/>\n       <use x=\"63.623047\" xlink:href=\"#DejaVuSans-48\"/>\n      </g>\n     </g>\n    </g>\n    <g id=\"ytick_5\">\n     <g id=\"line2d_12\">\n      <g>\n       <use style=\"stroke:#000000;stroke-width:0.8;\" x=\"35.304688\" xlink:href=\"#m78b9798e91\" y=\"18.074935\"/>\n      </g>\n     </g>\n     <g id=\"text_12\">\n      <!-- 20 -->\n      <g transform=\"translate(15.579688 21.874153)scale(0.1 -0.1)\">\n       <use xlink:href=\"#DejaVuSans-50\"/>\n       <use x=\"63.623047\" xlink:href=\"#DejaVuSans-48\"/>\n      </g>\n     </g>\n    </g>\n   </g>\n   <g id=\"patch_3\">\n    <path d=\"M 35.304688 224.64 \nL 35.304688 7.2 \n\" style=\"fill:none;stroke:#000000;stroke-linecap:square;stroke-linejoin:miter;stroke-width:0.8;\"/>\n   </g>\n   <g id=\"patch_4\">\n    <path d=\"M 370.104688 224.64 \nL 370.104688 7.2 \n\" style=\"fill:none;stroke:#000000;stroke-linecap:square;stroke-linejoin:miter;stroke-width:0.8;\"/>\n   </g>\n   <g id=\"patch_5\">\n    <path d=\"M 35.304687 224.64 \nL 370.104688 224.64 \n\" style=\"fill:none;stroke:#000000;stroke-linecap:square;stroke-linejoin:miter;stroke-width:0.8;\"/>\n   </g>\n   <g id=\"patch_6\">\n    <path d=\"M 35.304687 7.2 \nL 370.104688 7.2 \n\" style=\"fill:none;stroke:#000000;stroke-linecap:square;stroke-linejoin:miter;stroke-width:0.8;\"/>\n   </g>\n  </g>\n </g>\n <defs>\n  <clipPath id=\"pfffa2adf91\">\n   <rect height=\"217.44\" width=\"334.8\" x=\"35.304688\" y=\"7.2\"/>\n  </clipPath>\n </defs>\n</svg>\n"
          },
          "metadata": {
            "tags": [],
            "needs_background": "light"
          }
        }
      ]
    },
    {
      "cell_type": "markdown",
      "metadata": {
        "id": "KWGiacwWkFj2"
      },
      "source": [
        "**Задание 2**\n",
        "С помощью KMeans разбейте данные из тренировочного набора на 3 кластера,\n",
        "используйте все признаки из датафрейма X_train.\n",
        "Параметр max_iter должен быть равен 100, random_state сделайте равным 42.\n",
        "Постройте еще раз диаграмму рассеяния на данных, полученных с помощью TSNE,\n",
        "и раскрасьте точки из разных кластеров разными цветами.\n",
        "Вычислите средние значения price и CRIM в разных кластерах.\n"
      ]
    },
    {
      "cell_type": "code",
      "metadata": {
        "id": "t8dcXoUZkMQf"
      },
      "source": [
        "from sklearn.cluster import KMeans\n",
        "model = KMeans(n_clusters=3, max_iter=100, random_state=42)"
      ],
      "execution_count": 91,
      "outputs": []
    },
    {
      "cell_type": "code",
      "metadata": {
        "id": "FNYhgTz3liMN"
      },
      "source": [
        "train_labels = model.fit_predict(X_train_scaled)\n",
        "train_labels"
      ],
      "execution_count": null,
      "outputs": []
    },
    {
      "cell_type": "code",
      "metadata": {
        "colab": {
          "base_uri": "https://localhost:8080/",
          "height": 390
        },
        "id": "QAnfgWRJmiZS",
        "outputId": "3e1473f6-e0af-42d5-825f-c37350ff9261"
      },
      "source": [
        "plt.scatter(X_train_tsne[:, 0], X_train_tsne[:, 1], c=train_labels)\n",
        "plt.title('Test data')"
      ],
      "execution_count": 108,
      "outputs": [
        {
          "output_type": "execute_result",
          "data": {
            "text/plain": [
              "Text(0.5, 1.0, 'Test data')"
            ]
          },
          "metadata": {
            "tags": []
          },
          "execution_count": 108
        },
        {
          "output_type": "display_data",
          "data": {
            "text/plain": [
              "<Figure size 432x288 with 1 Axes>"
            ],
            "image/svg+xml": "<?xml version=\"1.0\" encoding=\"utf-8\" standalone=\"no\"?>\n<!DOCTYPE svg PUBLIC \"-//W3C//DTD SVG 1.1//EN\"\n  \"http://www.w3.org/Graphics/SVG/1.1/DTD/svg11.dtd\">\n<!-- Created with matplotlib (https://matplotlib.org/) -->\n<svg height=\"263.63625pt\" version=\"1.1\" viewBox=\"0 0 377.304688 263.63625\" width=\"377.304688pt\" xmlns=\"http://www.w3.org/2000/svg\" xmlns:xlink=\"http://www.w3.org/1999/xlink\">\n <defs>\n  <style type=\"text/css\">\n*{stroke-linecap:butt;stroke-linejoin:round;}\n  </style>\n </defs>\n <g id=\"figure_1\">\n  <g id=\"patch_1\">\n   <path d=\"M 0 263.63625 \nL 377.304688 263.63625 \nL 377.304688 0 \nL 0 0 \nz\n\" style=\"fill:none;\"/>\n  </g>\n  <g id=\"axes_1\">\n   <g id=\"patch_2\">\n    <path d=\"M 35.304688 239.758125 \nL 370.104688 239.758125 \nL 370.104688 22.318125 \nL 35.304688 22.318125 \nz\n\" style=\"fill:#ffffff;\"/>\n   </g>\n   <g id=\"PathCollection_1\">\n    <defs>\n     <path d=\"M 0 3 \nC 0.795609 3 1.55874 2.683901 2.12132 2.12132 \nC 2.683901 1.55874 3 0.795609 3 0 \nC 3 -0.795609 2.683901 -1.55874 2.12132 -2.12132 \nC 1.55874 -2.683901 0.795609 -3 0 -3 \nC -0.795609 -3 -1.55874 -2.683901 -2.12132 -2.12132 \nC -2.683901 -1.55874 -3 -0.795609 -3 0 \nC -3 0.795609 -2.683901 1.55874 -2.12132 2.12132 \nC -1.55874 2.683901 -0.795609 3 0 3 \nz\n\" id=\"C0_0_e54178071d\"/>\n    </defs>\n    <g clip-path=\"url(#pf03980fc57)\">\n     <use style=\"fill:#21918c;stroke:#21918c;\" x=\"299.620138\" xlink:href=\"#C0_0_e54178071d\" y=\"40.079933\"/>\n    </g>\n    <g clip-path=\"url(#pf03980fc57)\">\n     <use style=\"fill:#440154;stroke:#440154;\" x=\"112.152844\" xlink:href=\"#C0_0_e54178071d\" y=\"137.197295\"/>\n    </g>\n    <g clip-path=\"url(#pf03980fc57)\">\n     <use style=\"fill:#fde725;stroke:#fde725;\" x=\"82.937194\" xlink:href=\"#C0_0_e54178071d\" y=\"192.337567\"/>\n    </g>\n    <g clip-path=\"url(#pf03980fc57)\">\n     <use style=\"fill:#21918c;stroke:#21918c;\" x=\"347.99885\" xlink:href=\"#C0_0_e54178071d\" y=\"60.673796\"/>\n    </g>\n    <g clip-path=\"url(#pf03980fc57)\">\n     <use style=\"fill:#440154;stroke:#440154;\" x=\"117.092093\" xlink:href=\"#C0_0_e54178071d\" y=\"101.036301\"/>\n    </g>\n    <g clip-path=\"url(#pf03980fc57)\">\n     <use style=\"fill:#440154;stroke:#440154;\" x=\"91.378243\" xlink:href=\"#C0_0_e54178071d\" y=\"150.876835\"/>\n    </g>\n    <g clip-path=\"url(#pf03980fc57)\">\n     <use style=\"fill:#440154;stroke:#440154;\" x=\"101.400356\" xlink:href=\"#C0_0_e54178071d\" y=\"149.666758\"/>\n    </g>\n    <g clip-path=\"url(#pf03980fc57)\">\n     <use style=\"fill:#fde725;stroke:#fde725;\" x=\"68.065068\" xlink:href=\"#C0_0_e54178071d\" y=\"218.912586\"/>\n    </g>\n    <g clip-path=\"url(#pf03980fc57)\">\n     <use style=\"fill:#21918c;stroke:#21918c;\" x=\"351.661618\" xlink:href=\"#C0_0_e54178071d\" y=\"64.740348\"/>\n    </g>\n    <g clip-path=\"url(#pf03980fc57)\">\n     <use style=\"fill:#21918c;stroke:#21918c;\" x=\"336.181473\" xlink:href=\"#C0_0_e54178071d\" y=\"69.9542\"/>\n    </g>\n    <g clip-path=\"url(#pf03980fc57)\">\n     <use style=\"fill:#440154;stroke:#440154;\" x=\"100.928301\" xlink:href=\"#C0_0_e54178071d\" y=\"152.378235\"/>\n    </g>\n    <g clip-path=\"url(#pf03980fc57)\">\n     <use style=\"fill:#440154;stroke:#440154;\" x=\"132.150932\" xlink:href=\"#C0_0_e54178071d\" y=\"142.635509\"/>\n    </g>\n    <g clip-path=\"url(#pf03980fc57)\">\n     <use style=\"fill:#440154;stroke:#440154;\" x=\"150.503115\" xlink:href=\"#C0_0_e54178071d\" y=\"153.087626\"/>\n    </g>\n    <g clip-path=\"url(#pf03980fc57)\">\n     <use style=\"fill:#21918c;stroke:#21918c;\" x=\"337.306658\" xlink:href=\"#C0_0_e54178071d\" y=\"65.047841\"/>\n    </g>\n    <g clip-path=\"url(#pf03980fc57)\">\n     <use style=\"fill:#440154;stroke:#440154;\" x=\"149.172537\" xlink:href=\"#C0_0_e54178071d\" y=\"160.867018\"/>\n    </g>\n    <g clip-path=\"url(#pf03980fc57)\">\n     <use style=\"fill:#440154;stroke:#440154;\" x=\"109.967973\" xlink:href=\"#C0_0_e54178071d\" y=\"87.711655\"/>\n    </g>\n    <g clip-path=\"url(#pf03980fc57)\">\n     <use style=\"fill:#440154;stroke:#440154;\" x=\"124.631815\" xlink:href=\"#C0_0_e54178071d\" y=\"113.171746\"/>\n    </g>\n    <g clip-path=\"url(#pf03980fc57)\">\n     <use style=\"fill:#fde725;stroke:#fde725;\" x=\"89.332689\" xlink:href=\"#C0_0_e54178071d\" y=\"195.192554\"/>\n    </g>\n    <g clip-path=\"url(#pf03980fc57)\">\n     <use style=\"fill:#440154;stroke:#440154;\" x=\"94.591\" xlink:href=\"#C0_0_e54178071d\" y=\"169.23959\"/>\n    </g>\n    <g clip-path=\"url(#pf03980fc57)\">\n     <use style=\"fill:#fde725;stroke:#fde725;\" x=\"75.669728\" xlink:href=\"#C0_0_e54178071d\" y=\"172.412261\"/>\n    </g>\n    <g clip-path=\"url(#pf03980fc57)\">\n     <use style=\"fill:#21918c;stroke:#21918c;\" x=\"328.734761\" xlink:href=\"#C0_0_e54178071d\" y=\"45.655347\"/>\n    </g>\n    <g clip-path=\"url(#pf03980fc57)\">\n     <use style=\"fill:#440154;stroke:#440154;\" x=\"138.660583\" xlink:href=\"#C0_0_e54178071d\" y=\"117.027399\"/>\n    </g>\n    <g clip-path=\"url(#pf03980fc57)\">\n     <use style=\"fill:#fde725;stroke:#fde725;\" x=\"83.915657\" xlink:href=\"#C0_0_e54178071d\" y=\"151.498408\"/>\n    </g>\n    <g clip-path=\"url(#pf03980fc57)\">\n     <use style=\"fill:#440154;stroke:#440154;\" x=\"107.467548\" xlink:href=\"#C0_0_e54178071d\" y=\"141.372539\"/>\n    </g>\n    <g clip-path=\"url(#pf03980fc57)\">\n     <use style=\"fill:#fde725;stroke:#fde725;\" x=\"69.867432\" xlink:href=\"#C0_0_e54178071d\" y=\"219.024079\"/>\n    </g>\n    <g clip-path=\"url(#pf03980fc57)\">\n     <use style=\"fill:#440154;stroke:#440154;\" x=\"145.261219\" xlink:href=\"#C0_0_e54178071d\" y=\"153.971711\"/>\n    </g>\n    <g clip-path=\"url(#pf03980fc57)\">\n     <use style=\"fill:#21918c;stroke:#21918c;\" x=\"201.553923\" xlink:href=\"#C0_0_e54178071d\" y=\"107.825275\"/>\n    </g>\n    <g clip-path=\"url(#pf03980fc57)\">\n     <use style=\"fill:#fde725;stroke:#fde725;\" x=\"152.6929\" xlink:href=\"#C0_0_e54178071d\" y=\"171.033464\"/>\n    </g>\n    <g clip-path=\"url(#pf03980fc57)\">\n     <use style=\"fill:#440154;stroke:#440154;\" x=\"151.873421\" xlink:href=\"#C0_0_e54178071d\" y=\"59.706014\"/>\n    </g>\n    <g clip-path=\"url(#pf03980fc57)\">\n     <use style=\"fill:#fde725;stroke:#fde725;\" x=\"72.3541\" xlink:href=\"#C0_0_e54178071d\" y=\"151.886766\"/>\n    </g>\n    <g clip-path=\"url(#pf03980fc57)\">\n     <use style=\"fill:#440154;stroke:#440154;\" x=\"118.725204\" xlink:href=\"#C0_0_e54178071d\" y=\"87.691788\"/>\n    </g>\n    <g clip-path=\"url(#pf03980fc57)\">\n     <use style=\"fill:#440154;stroke:#440154;\" x=\"140.89862\" xlink:href=\"#C0_0_e54178071d\" y=\"110.47711\"/>\n    </g>\n    <g clip-path=\"url(#pf03980fc57)\">\n     <use style=\"fill:#21918c;stroke:#21918c;\" x=\"186.763896\" xlink:href=\"#C0_0_e54178071d\" y=\"89.906122\"/>\n    </g>\n    <g clip-path=\"url(#pf03980fc57)\">\n     <use style=\"fill:#21918c;stroke:#21918c;\" x=\"336.691464\" xlink:href=\"#C0_0_e54178071d\" y=\"60.937443\"/>\n    </g>\n    <g clip-path=\"url(#pf03980fc57)\">\n     <use style=\"fill:#440154;stroke:#440154;\" x=\"103.301804\" xlink:href=\"#C0_0_e54178071d\" y=\"146.486368\"/>\n    </g>\n    <g clip-path=\"url(#pf03980fc57)\">\n     <use style=\"fill:#fde725;stroke:#fde725;\" x=\"72.85735\" xlink:href=\"#C0_0_e54178071d\" y=\"225.896335\"/>\n    </g>\n    <g clip-path=\"url(#pf03980fc57)\">\n     <use style=\"fill:#fde725;stroke:#fde725;\" x=\"85.759049\" xlink:href=\"#C0_0_e54178071d\" y=\"213.354078\"/>\n    </g>\n    <g clip-path=\"url(#pf03980fc57)\">\n     <use style=\"fill:#440154;stroke:#440154;\" x=\"115.301657\" xlink:href=\"#C0_0_e54178071d\" y=\"91.162035\"/>\n    </g>\n    <g clip-path=\"url(#pf03980fc57)\">\n     <use style=\"fill:#440154;stroke:#440154;\" x=\"117.719969\" xlink:href=\"#C0_0_e54178071d\" y=\"91.984347\"/>\n    </g>\n    <g clip-path=\"url(#pf03980fc57)\">\n     <use style=\"fill:#fde725;stroke:#fde725;\" x=\"79.831267\" xlink:href=\"#C0_0_e54178071d\" y=\"215.980831\"/>\n    </g>\n    <g clip-path=\"url(#pf03980fc57)\">\n     <use style=\"fill:#fde725;stroke:#fde725;\" x=\"73.729991\" xlink:href=\"#C0_0_e54178071d\" y=\"212.307413\"/>\n    </g>\n    <g clip-path=\"url(#pf03980fc57)\">\n     <use style=\"fill:#440154;stroke:#440154;\" x=\"192.56017\" xlink:href=\"#C0_0_e54178071d\" y=\"123.42642\"/>\n    </g>\n    <g clip-path=\"url(#pf03980fc57)\">\n     <use style=\"fill:#21918c;stroke:#21918c;\" x=\"314.630081\" xlink:href=\"#C0_0_e54178071d\" y=\"42.52672\"/>\n    </g>\n    <g clip-path=\"url(#pf03980fc57)\">\n     <use style=\"fill:#440154;stroke:#440154;\" x=\"111.838279\" xlink:href=\"#C0_0_e54178071d\" y=\"162.331036\"/>\n    </g>\n    <g clip-path=\"url(#pf03980fc57)\">\n     <use style=\"fill:#21918c;stroke:#21918c;\" x=\"204.404642\" xlink:href=\"#C0_0_e54178071d\" y=\"108.915742\"/>\n    </g>\n    <g clip-path=\"url(#pf03980fc57)\">\n     <use style=\"fill:#21918c;stroke:#21918c;\" x=\"285.534269\" xlink:href=\"#C0_0_e54178071d\" y=\"51.467877\"/>\n    </g>\n    <g clip-path=\"url(#pf03980fc57)\">\n     <use style=\"fill:#440154;stroke:#440154;\" x=\"112.290288\" xlink:href=\"#C0_0_e54178071d\" y=\"93.103028\"/>\n    </g>\n    <g clip-path=\"url(#pf03980fc57)\">\n     <use style=\"fill:#440154;stroke:#440154;\" x=\"159.481502\" xlink:href=\"#C0_0_e54178071d\" y=\"164.204633\"/>\n    </g>\n    <g clip-path=\"url(#pf03980fc57)\">\n     <use style=\"fill:#21918c;stroke:#21918c;\" x=\"339.871094\" xlink:href=\"#C0_0_e54178071d\" y=\"64.945326\"/>\n    </g>\n    <g clip-path=\"url(#pf03980fc57)\">\n     <use style=\"fill:#21918c;stroke:#21918c;\" x=\"282.472307\" xlink:href=\"#C0_0_e54178071d\" y=\"53.412691\"/>\n    </g>\n    <g clip-path=\"url(#pf03980fc57)\">\n     <use style=\"fill:#440154;stroke:#440154;\" x=\"120.987991\" xlink:href=\"#C0_0_e54178071d\" y=\"157.939342\"/>\n    </g>\n    <g clip-path=\"url(#pf03980fc57)\">\n     <use style=\"fill:#440154;stroke:#440154;\" x=\"136.704885\" xlink:href=\"#C0_0_e54178071d\" y=\"117.03962\"/>\n    </g>\n    <g clip-path=\"url(#pf03980fc57)\">\n     <use style=\"fill:#440154;stroke:#440154;\" x=\"91.235777\" xlink:href=\"#C0_0_e54178071d\" y=\"139.71958\"/>\n    </g>\n    <g clip-path=\"url(#pf03980fc57)\">\n     <use style=\"fill:#440154;stroke:#440154;\" x=\"98.841285\" xlink:href=\"#C0_0_e54178071d\" y=\"145.693323\"/>\n    </g>\n    <g clip-path=\"url(#pf03980fc57)\">\n     <use style=\"fill:#21918c;stroke:#21918c;\" x=\"290.999693\" xlink:href=\"#C0_0_e54178071d\" y=\"66.532164\"/>\n    </g>\n    <g clip-path=\"url(#pf03980fc57)\">\n     <use style=\"fill:#21918c;stroke:#21918c;\" x=\"270.18651\" xlink:href=\"#C0_0_e54178071d\" y=\"60.488425\"/>\n    </g>\n    <g clip-path=\"url(#pf03980fc57)\">\n     <use style=\"fill:#440154;stroke:#440154;\" x=\"123.171419\" xlink:href=\"#C0_0_e54178071d\" y=\"161.25387\"/>\n    </g>\n    <g clip-path=\"url(#pf03980fc57)\">\n     <use style=\"fill:#21918c;stroke:#21918c;\" x=\"323.324145\" xlink:href=\"#C0_0_e54178071d\" y=\"42.679326\"/>\n    </g>\n    <g clip-path=\"url(#pf03980fc57)\">\n     <use style=\"fill:#440154;stroke:#440154;\" x=\"129.962399\" xlink:href=\"#C0_0_e54178071d\" y=\"141.191271\"/>\n    </g>\n    <g clip-path=\"url(#pf03980fc57)\">\n     <use style=\"fill:#440154;stroke:#440154;\" x=\"93.31047\" xlink:href=\"#C0_0_e54178071d\" y=\"169.252744\"/>\n    </g>\n    <g clip-path=\"url(#pf03980fc57)\">\n     <use style=\"fill:#440154;stroke:#440154;\" x=\"122.587105\" xlink:href=\"#C0_0_e54178071d\" y=\"105.88935\"/>\n    </g>\n    <g clip-path=\"url(#pf03980fc57)\">\n     <use style=\"fill:#440154;stroke:#440154;\" x=\"110.772149\" xlink:href=\"#C0_0_e54178071d\" y=\"141.633035\"/>\n    </g>\n    <g clip-path=\"url(#pf03980fc57)\">\n     <use style=\"fill:#440154;stroke:#440154;\" x=\"170.557987\" xlink:href=\"#C0_0_e54178071d\" y=\"142.693697\"/>\n    </g>\n    <g clip-path=\"url(#pf03980fc57)\">\n     <use style=\"fill:#440154;stroke:#440154;\" x=\"125.603155\" xlink:href=\"#C0_0_e54178071d\" y=\"86.385961\"/>\n    </g>\n    <g clip-path=\"url(#pf03980fc57)\">\n     <use style=\"fill:#440154;stroke:#440154;\" x=\"174.470467\" xlink:href=\"#C0_0_e54178071d\" y=\"156.888735\"/>\n    </g>\n    <g clip-path=\"url(#pf03980fc57)\">\n     <use style=\"fill:#21918c;stroke:#21918c;\" x=\"289.50934\" xlink:href=\"#C0_0_e54178071d\" y=\"57.839475\"/>\n    </g>\n    <g clip-path=\"url(#pf03980fc57)\">\n     <use style=\"fill:#440154;stroke:#440154;\" x=\"115.358214\" xlink:href=\"#C0_0_e54178071d\" y=\"89.359749\"/>\n    </g>\n    <g clip-path=\"url(#pf03980fc57)\">\n     <use style=\"fill:#440154;stroke:#440154;\" x=\"86.391686\" xlink:href=\"#C0_0_e54178071d\" y=\"116.384277\"/>\n    </g>\n    <g clip-path=\"url(#pf03980fc57)\">\n     <use style=\"fill:#21918c;stroke:#21918c;\" x=\"171.223764\" xlink:href=\"#C0_0_e54178071d\" y=\"60.350275\"/>\n    </g>\n    <g clip-path=\"url(#pf03980fc57)\">\n     <use style=\"fill:#440154;stroke:#440154;\" x=\"128.624689\" xlink:href=\"#C0_0_e54178071d\" y=\"91.769412\"/>\n    </g>\n    <g clip-path=\"url(#pf03980fc57)\">\n     <use style=\"fill:#440154;stroke:#440154;\" x=\"103.583859\" xlink:href=\"#C0_0_e54178071d\" y=\"139.899603\"/>\n    </g>\n    <g clip-path=\"url(#pf03980fc57)\">\n     <use style=\"fill:#440154;stroke:#440154;\" x=\"169.53605\" xlink:href=\"#C0_0_e54178071d\" y=\"114.134486\"/>\n    </g>\n    <g clip-path=\"url(#pf03980fc57)\">\n     <use style=\"fill:#21918c;stroke:#21918c;\" x=\"279.441403\" xlink:href=\"#C0_0_e54178071d\" y=\"68.094707\"/>\n    </g>\n    <g clip-path=\"url(#pf03980fc57)\">\n     <use style=\"fill:#440154;stroke:#440154;\" x=\"135.311665\" xlink:href=\"#C0_0_e54178071d\" y=\"112.285086\"/>\n    </g>\n    <g clip-path=\"url(#pf03980fc57)\">\n     <use style=\"fill:#440154;stroke:#440154;\" x=\"140.922638\" xlink:href=\"#C0_0_e54178071d\" y=\"117.385347\"/>\n    </g>\n    <g clip-path=\"url(#pf03980fc57)\">\n     <use style=\"fill:#440154;stroke:#440154;\" x=\"132.860252\" xlink:href=\"#C0_0_e54178071d\" y=\"158.464344\"/>\n    </g>\n    <g clip-path=\"url(#pf03980fc57)\">\n     <use style=\"fill:#fde725;stroke:#fde725;\" x=\"95.732289\" xlink:href=\"#C0_0_e54178071d\" y=\"208.660741\"/>\n    </g>\n    <g clip-path=\"url(#pf03980fc57)\">\n     <use style=\"fill:#440154;stroke:#440154;\" x=\"114.935994\" xlink:href=\"#C0_0_e54178071d\" y=\"170.551964\"/>\n    </g>\n    <g clip-path=\"url(#pf03980fc57)\">\n     <use style=\"fill:#21918c;stroke:#21918c;\" x=\"186.278405\" xlink:href=\"#C0_0_e54178071d\" y=\"88.265089\"/>\n    </g>\n    <g clip-path=\"url(#pf03980fc57)\">\n     <use style=\"fill:#21918c;stroke:#21918c;\" x=\"301.860373\" xlink:href=\"#C0_0_e54178071d\" y=\"33.469489\"/>\n    </g>\n    <g clip-path=\"url(#pf03980fc57)\">\n     <use style=\"fill:#21918c;stroke:#21918c;\" x=\"293.412187\" xlink:href=\"#C0_0_e54178071d\" y=\"40.314903\"/>\n    </g>\n    <g clip-path=\"url(#pf03980fc57)\">\n     <use style=\"fill:#21918c;stroke:#21918c;\" x=\"250.001835\" xlink:href=\"#C0_0_e54178071d\" y=\"78.052129\"/>\n    </g>\n    <g clip-path=\"url(#pf03980fc57)\">\n     <use style=\"fill:#fde725;stroke:#fde725;\" x=\"53.198571\" xlink:href=\"#C0_0_e54178071d\" y=\"186.765476\"/>\n    </g>\n    <g clip-path=\"url(#pf03980fc57)\">\n     <use style=\"fill:#440154;stroke:#440154;\" x=\"200.867104\" xlink:href=\"#C0_0_e54178071d\" y=\"126.52368\"/>\n    </g>\n    <g clip-path=\"url(#pf03980fc57)\">\n     <use style=\"fill:#21918c;stroke:#21918c;\" x=\"345.149842\" xlink:href=\"#C0_0_e54178071d\" y=\"63.217624\"/>\n    </g>\n    <g clip-path=\"url(#pf03980fc57)\">\n     <use style=\"fill:#21918c;stroke:#21918c;\" x=\"162.128271\" xlink:href=\"#C0_0_e54178071d\" y=\"55.466093\"/>\n    </g>\n    <g clip-path=\"url(#pf03980fc57)\">\n     <use style=\"fill:#21918c;stroke:#21918c;\" x=\"248.609237\" xlink:href=\"#C0_0_e54178071d\" y=\"83.168976\"/>\n    </g>\n    <g clip-path=\"url(#pf03980fc57)\">\n     <use style=\"fill:#fde725;stroke:#fde725;\" x=\"80.012041\" xlink:href=\"#C0_0_e54178071d\" y=\"163.801595\"/>\n    </g>\n    <g clip-path=\"url(#pf03980fc57)\">\n     <use style=\"fill:#21918c;stroke:#21918c;\" x=\"274.084455\" xlink:href=\"#C0_0_e54178071d\" y=\"55.567416\"/>\n    </g>\n    <g clip-path=\"url(#pf03980fc57)\">\n     <use style=\"fill:#440154;stroke:#440154;\" x=\"172.563086\" xlink:href=\"#C0_0_e54178071d\" y=\"107.565851\"/>\n    </g>\n    <g clip-path=\"url(#pf03980fc57)\">\n     <use style=\"fill:#440154;stroke:#440154;\" x=\"129.376834\" xlink:href=\"#C0_0_e54178071d\" y=\"110.853964\"/>\n    </g>\n    <g clip-path=\"url(#pf03980fc57)\">\n     <use style=\"fill:#21918c;stroke:#21918c;\" x=\"289.494047\" xlink:href=\"#C0_0_e54178071d\" y=\"49.124098\"/>\n    </g>\n    <g clip-path=\"url(#pf03980fc57)\">\n     <use style=\"fill:#21918c;stroke:#21918c;\" x=\"305.075134\" xlink:href=\"#C0_0_e54178071d\" y=\"46.454608\"/>\n    </g>\n    <g clip-path=\"url(#pf03980fc57)\">\n     <use style=\"fill:#fde725;stroke:#fde725;\" x=\"86.772576\" xlink:href=\"#C0_0_e54178071d\" y=\"214.19239\"/>\n    </g>\n    <g clip-path=\"url(#pf03980fc57)\">\n     <use style=\"fill:#fde725;stroke:#fde725;\" x=\"74.869668\" xlink:href=\"#C0_0_e54178071d\" y=\"174.09011\"/>\n    </g>\n    <g clip-path=\"url(#pf03980fc57)\">\n     <use style=\"fill:#440154;stroke:#440154;\" x=\"125.202005\" xlink:href=\"#C0_0_e54178071d\" y=\"94.192968\"/>\n    </g>\n    <g clip-path=\"url(#pf03980fc57)\">\n     <use style=\"fill:#21918c;stroke:#21918c;\" x=\"278.335019\" xlink:href=\"#C0_0_e54178071d\" y=\"49.66956\"/>\n    </g>\n    <g clip-path=\"url(#pf03980fc57)\">\n     <use style=\"fill:#21918c;stroke:#21918c;\" x=\"189.580534\" xlink:href=\"#C0_0_e54178071d\" y=\"95.155829\"/>\n    </g>\n    <g clip-path=\"url(#pf03980fc57)\">\n     <use style=\"fill:#440154;stroke:#440154;\" x=\"111.690929\" xlink:href=\"#C0_0_e54178071d\" y=\"162.726943\"/>\n    </g>\n    <g clip-path=\"url(#pf03980fc57)\">\n     <use style=\"fill:#21918c;stroke:#21918c;\" x=\"205.0494\" xlink:href=\"#C0_0_e54178071d\" y=\"108.772654\"/>\n    </g>\n    <g clip-path=\"url(#pf03980fc57)\">\n     <use style=\"fill:#440154;stroke:#440154;\" x=\"200.032561\" xlink:href=\"#C0_0_e54178071d\" y=\"126.833785\"/>\n    </g>\n    <g clip-path=\"url(#pf03980fc57)\">\n     <use style=\"fill:#fde725;stroke:#fde725;\" x=\"118.743453\" xlink:href=\"#C0_0_e54178071d\" y=\"179.014668\"/>\n    </g>\n    <g clip-path=\"url(#pf03980fc57)\">\n     <use style=\"fill:#fde725;stroke:#fde725;\" x=\"104.633154\" xlink:href=\"#C0_0_e54178071d\" y=\"175.449438\"/>\n    </g>\n    <g clip-path=\"url(#pf03980fc57)\">\n     <use style=\"fill:#fde725;stroke:#fde725;\" x=\"86.232471\" xlink:href=\"#C0_0_e54178071d\" y=\"173.7392\"/>\n    </g>\n    <g clip-path=\"url(#pf03980fc57)\">\n     <use style=\"fill:#440154;stroke:#440154;\" x=\"174.858695\" xlink:href=\"#C0_0_e54178071d\" y=\"106.566798\"/>\n    </g>\n    <g clip-path=\"url(#pf03980fc57)\">\n     <use style=\"fill:#440154;stroke:#440154;\" x=\"209.746283\" xlink:href=\"#C0_0_e54178071d\" y=\"121.885817\"/>\n    </g>\n    <g clip-path=\"url(#pf03980fc57)\">\n     <use style=\"fill:#fde725;stroke:#fde725;\" x=\"74.99552\" xlink:href=\"#C0_0_e54178071d\" y=\"222.644483\"/>\n    </g>\n    <g clip-path=\"url(#pf03980fc57)\">\n     <use style=\"fill:#440154;stroke:#440154;\" x=\"151.831925\" xlink:href=\"#C0_0_e54178071d\" y=\"156.400569\"/>\n    </g>\n    <g clip-path=\"url(#pf03980fc57)\">\n     <use style=\"fill:#440154;stroke:#440154;\" x=\"83.784633\" xlink:href=\"#C0_0_e54178071d\" y=\"144.976047\"/>\n    </g>\n    <g clip-path=\"url(#pf03980fc57)\">\n     <use style=\"fill:#440154;stroke:#440154;\" x=\"128.199122\" xlink:href=\"#C0_0_e54178071d\" y=\"128.241452\"/>\n    </g>\n    <g clip-path=\"url(#pf03980fc57)\">\n     <use style=\"fill:#21918c;stroke:#21918c;\" x=\"342.783726\" xlink:href=\"#C0_0_e54178071d\" y=\"63.833001\"/>\n    </g>\n    <g clip-path=\"url(#pf03980fc57)\">\n     <use style=\"fill:#fde725;stroke:#fde725;\" x=\"67.336326\" xlink:href=\"#C0_0_e54178071d\" y=\"175.818114\"/>\n    </g>\n    <g clip-path=\"url(#pf03980fc57)\">\n     <use style=\"fill:#440154;stroke:#440154;\" x=\"131.907199\" xlink:href=\"#C0_0_e54178071d\" y=\"114.840597\"/>\n    </g>\n    <g clip-path=\"url(#pf03980fc57)\">\n     <use style=\"fill:#fde725;stroke:#fde725;\" x=\"79.291511\" xlink:href=\"#C0_0_e54178071d\" y=\"224.095427\"/>\n    </g>\n    <g clip-path=\"url(#pf03980fc57)\">\n     <use style=\"fill:#fde725;stroke:#fde725;\" x=\"92.269755\" xlink:href=\"#C0_0_e54178071d\" y=\"196.998555\"/>\n    </g>\n    <g clip-path=\"url(#pf03980fc57)\">\n     <use style=\"fill:#21918c;stroke:#21918c;\" x=\"282.194872\" xlink:href=\"#C0_0_e54178071d\" y=\"75.686525\"/>\n    </g>\n    <g clip-path=\"url(#pf03980fc57)\">\n     <use style=\"fill:#21918c;stroke:#21918c;\" x=\"248.722587\" xlink:href=\"#C0_0_e54178071d\" y=\"79.392692\"/>\n    </g>\n    <g clip-path=\"url(#pf03980fc57)\">\n     <use style=\"fill:#21918c;stroke:#21918c;\" x=\"306.598864\" xlink:href=\"#C0_0_e54178071d\" y=\"43.670778\"/>\n    </g>\n    <g clip-path=\"url(#pf03980fc57)\">\n     <use style=\"fill:#440154;stroke:#440154;\" x=\"141.513477\" xlink:href=\"#C0_0_e54178071d\" y=\"169.262665\"/>\n    </g>\n    <g clip-path=\"url(#pf03980fc57)\">\n     <use style=\"fill:#440154;stroke:#440154;\" x=\"174.322292\" xlink:href=\"#C0_0_e54178071d\" y=\"152.976047\"/>\n    </g>\n    <g clip-path=\"url(#pf03980fc57)\">\n     <use style=\"fill:#440154;stroke:#440154;\" x=\"151.292429\" xlink:href=\"#C0_0_e54178071d\" y=\"156.529413\"/>\n    </g>\n    <g clip-path=\"url(#pf03980fc57)\">\n     <use style=\"fill:#21918c;stroke:#21918c;\" x=\"307.705164\" xlink:href=\"#C0_0_e54178071d\" y=\"37.595576\"/>\n    </g>\n    <g clip-path=\"url(#pf03980fc57)\">\n     <use style=\"fill:#21918c;stroke:#21918c;\" x=\"286.199643\" xlink:href=\"#C0_0_e54178071d\" y=\"59.760257\"/>\n    </g>\n    <g clip-path=\"url(#pf03980fc57)\">\n     <use style=\"fill:#440154;stroke:#440154;\" x=\"121.554667\" xlink:href=\"#C0_0_e54178071d\" y=\"133.19842\"/>\n    </g>\n    <g clip-path=\"url(#pf03980fc57)\">\n     <use style=\"fill:#fde725;stroke:#fde725;\" x=\"81.805532\" xlink:href=\"#C0_0_e54178071d\" y=\"229.40164\"/>\n    </g>\n    <g clip-path=\"url(#pf03980fc57)\">\n     <use style=\"fill:#21918c;stroke:#21918c;\" x=\"164.619236\" xlink:href=\"#C0_0_e54178071d\" y=\"64.650547\"/>\n    </g>\n    <g clip-path=\"url(#pf03980fc57)\">\n     <use style=\"fill:#21918c;stroke:#21918c;\" x=\"273.887502\" xlink:href=\"#C0_0_e54178071d\" y=\"37.880163\"/>\n    </g>\n    <g clip-path=\"url(#pf03980fc57)\">\n     <use style=\"fill:#fde725;stroke:#fde725;\" x=\"94.087011\" xlink:href=\"#C0_0_e54178071d\" y=\"172.144713\"/>\n    </g>\n    <g clip-path=\"url(#pf03980fc57)\">\n     <use style=\"fill:#fde725;stroke:#fde725;\" x=\"80.80322\" xlink:href=\"#C0_0_e54178071d\" y=\"205.223101\"/>\n    </g>\n    <g clip-path=\"url(#pf03980fc57)\">\n     <use style=\"fill:#21918c;stroke:#21918c;\" x=\"302.680582\" xlink:href=\"#C0_0_e54178071d\" y=\"49.544993\"/>\n    </g>\n    <g clip-path=\"url(#pf03980fc57)\">\n     <use style=\"fill:#fde725;stroke:#fde725;\" x=\"88.145732\" xlink:href=\"#C0_0_e54178071d\" y=\"171.288157\"/>\n    </g>\n    <g clip-path=\"url(#pf03980fc57)\">\n     <use style=\"fill:#440154;stroke:#440154;\" x=\"143.267038\" xlink:href=\"#C0_0_e54178071d\" y=\"120.659016\"/>\n    </g>\n    <g clip-path=\"url(#pf03980fc57)\">\n     <use style=\"fill:#440154;stroke:#440154;\" x=\"141.549657\" xlink:href=\"#C0_0_e54178071d\" y=\"157.555514\"/>\n    </g>\n    <g clip-path=\"url(#pf03980fc57)\">\n     <use style=\"fill:#440154;stroke:#440154;\" x=\"176.159365\" xlink:href=\"#C0_0_e54178071d\" y=\"147.935136\"/>\n    </g>\n    <g clip-path=\"url(#pf03980fc57)\">\n     <use style=\"fill:#440154;stroke:#440154;\" x=\"81.085812\" xlink:href=\"#C0_0_e54178071d\" y=\"124.382495\"/>\n    </g>\n    <g clip-path=\"url(#pf03980fc57)\">\n     <use style=\"fill:#21918c;stroke:#21918c;\" x=\"245.776371\" xlink:href=\"#C0_0_e54178071d\" y=\"86.260739\"/>\n    </g>\n    <g clip-path=\"url(#pf03980fc57)\">\n     <use style=\"fill:#440154;stroke:#440154;\" x=\"138.565253\" xlink:href=\"#C0_0_e54178071d\" y=\"87.915024\"/>\n    </g>\n    <g clip-path=\"url(#pf03980fc57)\">\n     <use style=\"fill:#fde725;stroke:#fde725;\" x=\"101.053399\" xlink:href=\"#C0_0_e54178071d\" y=\"208.993144\"/>\n    </g>\n    <g clip-path=\"url(#pf03980fc57)\">\n     <use style=\"fill:#440154;stroke:#440154;\" x=\"168.962366\" xlink:href=\"#C0_0_e54178071d\" y=\"108.396571\"/>\n    </g>\n    <g clip-path=\"url(#pf03980fc57)\">\n     <use style=\"fill:#21918c;stroke:#21918c;\" x=\"180.292868\" xlink:href=\"#C0_0_e54178071d\" y=\"95.652275\"/>\n    </g>\n    <g clip-path=\"url(#pf03980fc57)\">\n     <use style=\"fill:#440154;stroke:#440154;\" x=\"139.818089\" xlink:href=\"#C0_0_e54178071d\" y=\"143.147635\"/>\n    </g>\n    <g clip-path=\"url(#pf03980fc57)\">\n     <use style=\"fill:#21918c;stroke:#21918c;\" x=\"289.740368\" xlink:href=\"#C0_0_e54178071d\" y=\"45.308262\"/>\n    </g>\n    <g clip-path=\"url(#pf03980fc57)\">\n     <use style=\"fill:#440154;stroke:#440154;\" x=\"127.824789\" xlink:href=\"#C0_0_e54178071d\" y=\"138.669924\"/>\n    </g>\n    <g clip-path=\"url(#pf03980fc57)\">\n     <use style=\"fill:#440154;stroke:#440154;\" x=\"132.843969\" xlink:href=\"#C0_0_e54178071d\" y=\"126.678556\"/>\n    </g>\n    <g clip-path=\"url(#pf03980fc57)\">\n     <use style=\"fill:#440154;stroke:#440154;\" x=\"86.396292\" xlink:href=\"#C0_0_e54178071d\" y=\"116.254593\"/>\n    </g>\n    <g clip-path=\"url(#pf03980fc57)\">\n     <use style=\"fill:#21918c;stroke:#21918c;\" x=\"308.755732\" xlink:href=\"#C0_0_e54178071d\" y=\"34.281104\"/>\n    </g>\n    <g clip-path=\"url(#pf03980fc57)\">\n     <use style=\"fill:#440154;stroke:#440154;\" x=\"126.045512\" xlink:href=\"#C0_0_e54178071d\" y=\"93.970343\"/>\n    </g>\n    <g clip-path=\"url(#pf03980fc57)\">\n     <use style=\"fill:#440154;stroke:#440154;\" x=\"108.876222\" xlink:href=\"#C0_0_e54178071d\" y=\"173.282307\"/>\n    </g>\n    <g clip-path=\"url(#pf03980fc57)\">\n     <use style=\"fill:#440154;stroke:#440154;\" x=\"99.785221\" xlink:href=\"#C0_0_e54178071d\" y=\"140.189579\"/>\n    </g>\n    <g clip-path=\"url(#pf03980fc57)\">\n     <use style=\"fill:#440154;stroke:#440154;\" x=\"121.849644\" xlink:href=\"#C0_0_e54178071d\" y=\"121.789988\"/>\n    </g>\n    <g clip-path=\"url(#pf03980fc57)\">\n     <use style=\"fill:#440154;stroke:#440154;\" x=\"175.612922\" xlink:href=\"#C0_0_e54178071d\" y=\"105.1827\"/>\n    </g>\n    <g clip-path=\"url(#pf03980fc57)\">\n     <use style=\"fill:#21918c;stroke:#21918c;\" x=\"284.68585\" xlink:href=\"#C0_0_e54178071d\" y=\"44.659586\"/>\n    </g>\n    <g clip-path=\"url(#pf03980fc57)\">\n     <use style=\"fill:#fde725;stroke:#fde725;\" x=\"83.118812\" xlink:href=\"#C0_0_e54178071d\" y=\"219.869223\"/>\n    </g>\n    <g clip-path=\"url(#pf03980fc57)\">\n     <use style=\"fill:#440154;stroke:#440154;\" x=\"74.680456\" xlink:href=\"#C0_0_e54178071d\" y=\"135.298705\"/>\n    </g>\n    <g clip-path=\"url(#pf03980fc57)\">\n     <use style=\"fill:#fde725;stroke:#fde725;\" x=\"80.534232\" xlink:href=\"#C0_0_e54178071d\" y=\"229.657274\"/>\n    </g>\n    <g clip-path=\"url(#pf03980fc57)\">\n     <use style=\"fill:#21918c;stroke:#21918c;\" x=\"292.195291\" xlink:href=\"#C0_0_e54178071d\" y=\"54.804234\"/>\n    </g>\n    <g clip-path=\"url(#pf03980fc57)\">\n     <use style=\"fill:#21918c;stroke:#21918c;\" x=\"187.852765\" xlink:href=\"#C0_0_e54178071d\" y=\"97.505396\"/>\n    </g>\n    <g clip-path=\"url(#pf03980fc57)\">\n     <use style=\"fill:#21918c;stroke:#21918c;\" x=\"286.160571\" xlink:href=\"#C0_0_e54178071d\" y=\"54.902828\"/>\n    </g>\n    <g clip-path=\"url(#pf03980fc57)\">\n     <use style=\"fill:#21918c;stroke:#21918c;\" x=\"186.405135\" xlink:href=\"#C0_0_e54178071d\" y=\"88.348941\"/>\n    </g>\n    <g clip-path=\"url(#pf03980fc57)\">\n     <use style=\"fill:#21918c;stroke:#21918c;\" x=\"342.585274\" xlink:href=\"#C0_0_e54178071d\" y=\"65.983715\"/>\n    </g>\n    <g clip-path=\"url(#pf03980fc57)\">\n     <use style=\"fill:#fde725;stroke:#fde725;\" x=\"82.580276\" xlink:href=\"#C0_0_e54178071d\" y=\"206.358961\"/>\n    </g>\n    <g clip-path=\"url(#pf03980fc57)\">\n     <use style=\"fill:#440154;stroke:#440154;\" x=\"151.468682\" xlink:href=\"#C0_0_e54178071d\" y=\"60.482155\"/>\n    </g>\n    <g clip-path=\"url(#pf03980fc57)\">\n     <use style=\"fill:#21918c;stroke:#21918c;\" x=\"167.395427\" xlink:href=\"#C0_0_e54178071d\" y=\"55.463878\"/>\n    </g>\n    <g clip-path=\"url(#pf03980fc57)\">\n     <use style=\"fill:#440154;stroke:#440154;\" x=\"129.098486\" xlink:href=\"#C0_0_e54178071d\" y=\"143.344033\"/>\n    </g>\n    <g clip-path=\"url(#pf03980fc57)\">\n     <use style=\"fill:#21918c;stroke:#21918c;\" x=\"184.811517\" xlink:href=\"#C0_0_e54178071d\" y=\"89.922383\"/>\n    </g>\n    <g clip-path=\"url(#pf03980fc57)\">\n     <use style=\"fill:#fde725;stroke:#fde725;\" x=\"94.980244\" xlink:href=\"#C0_0_e54178071d\" y=\"192.597001\"/>\n    </g>\n    <g clip-path=\"url(#pf03980fc57)\">\n     <use style=\"fill:#fde725;stroke:#fde725;\" x=\"111.989404\" xlink:href=\"#C0_0_e54178071d\" y=\"183.580916\"/>\n    </g>\n    <g clip-path=\"url(#pf03980fc57)\">\n     <use style=\"fill:#440154;stroke:#440154;\" x=\"150.898315\" xlink:href=\"#C0_0_e54178071d\" y=\"164.194478\"/>\n    </g>\n    <g clip-path=\"url(#pf03980fc57)\">\n     <use style=\"fill:#fde725;stroke:#fde725;\" x=\"64.699498\" xlink:href=\"#C0_0_e54178071d\" y=\"222.586796\"/>\n    </g>\n    <g clip-path=\"url(#pf03980fc57)\">\n     <use style=\"fill:#440154;stroke:#440154;\" x=\"150.320423\" xlink:href=\"#C0_0_e54178071d\" y=\"63.704853\"/>\n    </g>\n    <g clip-path=\"url(#pf03980fc57)\">\n     <use style=\"fill:#440154;stroke:#440154;\" x=\"141.578573\" xlink:href=\"#C0_0_e54178071d\" y=\"149.395279\"/>\n    </g>\n    <g clip-path=\"url(#pf03980fc57)\">\n     <use style=\"fill:#fde725;stroke:#fde725;\" x=\"83.670114\" xlink:href=\"#C0_0_e54178071d\" y=\"225.908026\"/>\n    </g>\n    <g clip-path=\"url(#pf03980fc57)\">\n     <use style=\"fill:#fde725;stroke:#fde725;\" x=\"83.200048\" xlink:href=\"#C0_0_e54178071d\" y=\"171.746893\"/>\n    </g>\n    <g clip-path=\"url(#pf03980fc57)\">\n     <use style=\"fill:#21918c;stroke:#21918c;\" x=\"284.009096\" xlink:href=\"#C0_0_e54178071d\" y=\"74.785954\"/>\n    </g>\n    <g clip-path=\"url(#pf03980fc57)\">\n     <use style=\"fill:#fde725;stroke:#fde725;\" x=\"96.214461\" xlink:href=\"#C0_0_e54178071d\" y=\"194.53817\"/>\n    </g>\n    <g clip-path=\"url(#pf03980fc57)\">\n     <use style=\"fill:#fde725;stroke:#fde725;\" x=\"60.080494\" xlink:href=\"#C0_0_e54178071d\" y=\"211.611108\"/>\n    </g>\n    <g clip-path=\"url(#pf03980fc57)\">\n     <use style=\"fill:#21918c;stroke:#21918c;\" x=\"331.768248\" xlink:href=\"#C0_0_e54178071d\" y=\"48.151752\"/>\n    </g>\n    <g clip-path=\"url(#pf03980fc57)\">\n     <use style=\"fill:#21918c;stroke:#21918c;\" x=\"294.988623\" xlink:href=\"#C0_0_e54178071d\" y=\"36.471237\"/>\n    </g>\n    <g clip-path=\"url(#pf03980fc57)\">\n     <use style=\"fill:#fde725;stroke:#fde725;\" x=\"65.632387\" xlink:href=\"#C0_0_e54178071d\" y=\"215.277176\"/>\n    </g>\n    <g clip-path=\"url(#pf03980fc57)\">\n     <use style=\"fill:#440154;stroke:#440154;\" x=\"149.573247\" xlink:href=\"#C0_0_e54178071d\" y=\"65.202844\"/>\n    </g>\n    <g clip-path=\"url(#pf03980fc57)\">\n     <use style=\"fill:#440154;stroke:#440154;\" x=\"118.256684\" xlink:href=\"#C0_0_e54178071d\" y=\"175.904164\"/>\n    </g>\n    <g clip-path=\"url(#pf03980fc57)\">\n     <use style=\"fill:#440154;stroke:#440154;\" x=\"144.385126\" xlink:href=\"#C0_0_e54178071d\" y=\"143.382471\"/>\n    </g>\n    <g clip-path=\"url(#pf03980fc57)\">\n     <use style=\"fill:#21918c;stroke:#21918c;\" x=\"278.11819\" xlink:href=\"#C0_0_e54178071d\" y=\"42.662307\"/>\n    </g>\n    <g clip-path=\"url(#pf03980fc57)\">\n     <use style=\"fill:#440154;stroke:#440154;\" x=\"200.897577\" xlink:href=\"#C0_0_e54178071d\" y=\"122.837575\"/>\n    </g>\n    <g clip-path=\"url(#pf03980fc57)\">\n     <use style=\"fill:#21918c;stroke:#21918c;\" x=\"161.381643\" xlink:href=\"#C0_0_e54178071d\" y=\"62.9018\"/>\n    </g>\n    <g clip-path=\"url(#pf03980fc57)\">\n     <use style=\"fill:#21918c;stroke:#21918c;\" x=\"343.65072\" xlink:href=\"#C0_0_e54178071d\" y=\"56.869602\"/>\n    </g>\n    <g clip-path=\"url(#pf03980fc57)\">\n     <use style=\"fill:#fde725;stroke:#fde725;\" x=\"93.498084\" xlink:href=\"#C0_0_e54178071d\" y=\"222.599255\"/>\n    </g>\n    <g clip-path=\"url(#pf03980fc57)\">\n     <use style=\"fill:#fde725;stroke:#fde725;\" x=\"81.747117\" xlink:href=\"#C0_0_e54178071d\" y=\"189.486525\"/>\n    </g>\n    <g clip-path=\"url(#pf03980fc57)\">\n     <use style=\"fill:#21918c;stroke:#21918c;\" x=\"324.458759\" xlink:href=\"#C0_0_e54178071d\" y=\"42.75117\"/>\n    </g>\n    <g clip-path=\"url(#pf03980fc57)\">\n     <use style=\"fill:#21918c;stroke:#21918c;\" x=\"279.770403\" xlink:href=\"#C0_0_e54178071d\" y=\"71.650313\"/>\n    </g>\n    <g clip-path=\"url(#pf03980fc57)\">\n     <use style=\"fill:#21918c;stroke:#21918c;\" x=\"249.289772\" xlink:href=\"#C0_0_e54178071d\" y=\"79.349331\"/>\n    </g>\n    <g clip-path=\"url(#pf03980fc57)\">\n     <use style=\"fill:#440154;stroke:#440154;\" x=\"79.683937\" xlink:href=\"#C0_0_e54178071d\" y=\"129.84952\"/>\n    </g>\n    <g clip-path=\"url(#pf03980fc57)\">\n     <use style=\"fill:#440154;stroke:#440154;\" x=\"77.470394\" xlink:href=\"#C0_0_e54178071d\" y=\"133.838676\"/>\n    </g>\n    <g clip-path=\"url(#pf03980fc57)\">\n     <use style=\"fill:#21918c;stroke:#21918c;\" x=\"248.003311\" xlink:href=\"#C0_0_e54178071d\" y=\"83.790866\"/>\n    </g>\n    <g clip-path=\"url(#pf03980fc57)\">\n     <use style=\"fill:#21918c;stroke:#21918c;\" x=\"354.886506\" xlink:href=\"#C0_0_e54178071d\" y=\"66.368979\"/>\n    </g>\n    <g clip-path=\"url(#pf03980fc57)\">\n     <use style=\"fill:#440154;stroke:#440154;\" x=\"139.975598\" xlink:href=\"#C0_0_e54178071d\" y=\"110.854317\"/>\n    </g>\n    <g clip-path=\"url(#pf03980fc57)\">\n     <use style=\"fill:#440154;stroke:#440154;\" x=\"139.473065\" xlink:href=\"#C0_0_e54178071d\" y=\"157.665208\"/>\n    </g>\n    <g clip-path=\"url(#pf03980fc57)\">\n     <use style=\"fill:#440154;stroke:#440154;\" x=\"116.038956\" xlink:href=\"#C0_0_e54178071d\" y=\"116.232599\"/>\n    </g>\n    <g clip-path=\"url(#pf03980fc57)\">\n     <use style=\"fill:#440154;stroke:#440154;\" x=\"66.10688\" xlink:href=\"#C0_0_e54178071d\" y=\"150.205052\"/>\n    </g>\n    <g clip-path=\"url(#pf03980fc57)\">\n     <use style=\"fill:#440154;stroke:#440154;\" x=\"100.526056\" xlink:href=\"#C0_0_e54178071d\" y=\"152.700673\"/>\n    </g>\n    <g clip-path=\"url(#pf03980fc57)\">\n     <use style=\"fill:#21918c;stroke:#21918c;\" x=\"283.256349\" xlink:href=\"#C0_0_e54178071d\" y=\"72.342115\"/>\n    </g>\n    <g clip-path=\"url(#pf03980fc57)\">\n     <use style=\"fill:#21918c;stroke:#21918c;\" x=\"345.139772\" xlink:href=\"#C0_0_e54178071d\" y=\"59.819601\"/>\n    </g>\n    <g clip-path=\"url(#pf03980fc57)\">\n     <use style=\"fill:#440154;stroke:#440154;\" x=\"155.125137\" xlink:href=\"#C0_0_e54178071d\" y=\"164.475581\"/>\n    </g>\n    <g clip-path=\"url(#pf03980fc57)\">\n     <use style=\"fill:#440154;stroke:#440154;\" x=\"141.051018\" xlink:href=\"#C0_0_e54178071d\" y=\"126.914951\"/>\n    </g>\n    <g clip-path=\"url(#pf03980fc57)\">\n     <use style=\"fill:#440154;stroke:#440154;\" x=\"168.182016\" xlink:href=\"#C0_0_e54178071d\" y=\"105.260273\"/>\n    </g>\n    <g clip-path=\"url(#pf03980fc57)\">\n     <use style=\"fill:#21918c;stroke:#21918c;\" x=\"161.793622\" xlink:href=\"#C0_0_e54178071d\" y=\"65.724208\"/>\n    </g>\n    <g clip-path=\"url(#pf03980fc57)\">\n     <use style=\"fill:#fde725;stroke:#fde725;\" x=\"79.038854\" xlink:href=\"#C0_0_e54178071d\" y=\"229.874489\"/>\n    </g>\n    <g clip-path=\"url(#pf03980fc57)\">\n     <use style=\"fill:#440154;stroke:#440154;\" x=\"176.32197\" xlink:href=\"#C0_0_e54178071d\" y=\"151.964132\"/>\n    </g>\n    <g clip-path=\"url(#pf03980fc57)\">\n     <use style=\"fill:#440154;stroke:#440154;\" x=\"156.336572\" xlink:href=\"#C0_0_e54178071d\" y=\"165.189394\"/>\n    </g>\n    <g clip-path=\"url(#pf03980fc57)\">\n     <use style=\"fill:#440154;stroke:#440154;\" x=\"137.993074\" xlink:href=\"#C0_0_e54178071d\" y=\"111.133732\"/>\n    </g>\n    <g clip-path=\"url(#pf03980fc57)\">\n     <use style=\"fill:#440154;stroke:#440154;\" x=\"148.089615\" xlink:href=\"#C0_0_e54178071d\" y=\"65.653059\"/>\n    </g>\n    <g clip-path=\"url(#pf03980fc57)\">\n     <use style=\"fill:#fde725;stroke:#fde725;\" x=\"61.712851\" xlink:href=\"#C0_0_e54178071d\" y=\"214.502866\"/>\n    </g>\n    <g clip-path=\"url(#pf03980fc57)\">\n     <use style=\"fill:#440154;stroke:#440154;\" x=\"156.953612\" xlink:href=\"#C0_0_e54178071d\" y=\"162.720087\"/>\n    </g>\n    <g clip-path=\"url(#pf03980fc57)\">\n     <use style=\"fill:#21918c;stroke:#21918c;\" x=\"310.109192\" xlink:href=\"#C0_0_e54178071d\" y=\"36.502963\"/>\n    </g>\n    <g clip-path=\"url(#pf03980fc57)\">\n     <use style=\"fill:#440154;stroke:#440154;\" x=\"110.311465\" xlink:href=\"#C0_0_e54178071d\" y=\"144.556549\"/>\n    </g>\n    <g clip-path=\"url(#pf03980fc57)\">\n     <use style=\"fill:#21918c;stroke:#21918c;\" x=\"160.932538\" xlink:href=\"#C0_0_e54178071d\" y=\"63.979111\"/>\n    </g>\n    <g clip-path=\"url(#pf03980fc57)\">\n     <use style=\"fill:#fde725;stroke:#fde725;\" x=\"82.078055\" xlink:href=\"#C0_0_e54178071d\" y=\"210.671013\"/>\n    </g>\n    <g clip-path=\"url(#pf03980fc57)\">\n     <use style=\"fill:#21918c;stroke:#21918c;\" x=\"352.008759\" xlink:href=\"#C0_0_e54178071d\" y=\"67.948517\"/>\n    </g>\n    <g clip-path=\"url(#pf03980fc57)\">\n     <use style=\"fill:#440154;stroke:#440154;\" x=\"126.953506\" xlink:href=\"#C0_0_e54178071d\" y=\"96.034492\"/>\n    </g>\n    <g clip-path=\"url(#pf03980fc57)\">\n     <use style=\"fill:#21918c;stroke:#21918c;\" x=\"305.740536\" xlink:href=\"#C0_0_e54178071d\" y=\"32.201761\"/>\n    </g>\n    <g clip-path=\"url(#pf03980fc57)\">\n     <use style=\"fill:#21918c;stroke:#21918c;\" x=\"279.777249\" xlink:href=\"#C0_0_e54178071d\" y=\"49.22703\"/>\n    </g>\n    <g clip-path=\"url(#pf03980fc57)\">\n     <use style=\"fill:#21918c;stroke:#21918c;\" x=\"161.198871\" xlink:href=\"#C0_0_e54178071d\" y=\"66.388298\"/>\n    </g>\n    <g clip-path=\"url(#pf03980fc57)\">\n     <use style=\"fill:#21918c;stroke:#21918c;\" x=\"318.830834\" xlink:href=\"#C0_0_e54178071d\" y=\"53.051639\"/>\n    </g>\n    <g clip-path=\"url(#pf03980fc57)\">\n     <use style=\"fill:#440154;stroke:#440154;\" x=\"90.894652\" xlink:href=\"#C0_0_e54178071d\" y=\"140.706816\"/>\n    </g>\n    <g clip-path=\"url(#pf03980fc57)\">\n     <use style=\"fill:#440154;stroke:#440154;\" x=\"117.398436\" xlink:href=\"#C0_0_e54178071d\" y=\"113.814137\"/>\n    </g>\n    <g clip-path=\"url(#pf03980fc57)\">\n     <use style=\"fill:#fde725;stroke:#fde725;\" x=\"76.943423\" xlink:href=\"#C0_0_e54178071d\" y=\"216.248205\"/>\n    </g>\n    <g clip-path=\"url(#pf03980fc57)\">\n     <use style=\"fill:#fde725;stroke:#fde725;\" x=\"52.225639\" xlink:href=\"#C0_0_e54178071d\" y=\"192.341536\"/>\n    </g>\n    <g clip-path=\"url(#pf03980fc57)\">\n     <use style=\"fill:#440154;stroke:#440154;\" x=\"126.882096\" xlink:href=\"#C0_0_e54178071d\" y=\"154.649522\"/>\n    </g>\n    <g clip-path=\"url(#pf03980fc57)\">\n     <use style=\"fill:#fde725;stroke:#fde725;\" x=\"94.207357\" xlink:href=\"#C0_0_e54178071d\" y=\"186.445443\"/>\n    </g>\n    <g clip-path=\"url(#pf03980fc57)\">\n     <use style=\"fill:#440154;stroke:#440154;\" x=\"146.37463\" xlink:href=\"#C0_0_e54178071d\" y=\"165.178904\"/>\n    </g>\n    <g clip-path=\"url(#pf03980fc57)\">\n     <use style=\"fill:#21918c;stroke:#21918c;\" x=\"350.998715\" xlink:href=\"#C0_0_e54178071d\" y=\"62.234371\"/>\n    </g>\n    <g clip-path=\"url(#pf03980fc57)\">\n     <use style=\"fill:#440154;stroke:#440154;\" x=\"178.34743\" xlink:href=\"#C0_0_e54178071d\" y=\"97.434486\"/>\n    </g>\n    <g clip-path=\"url(#pf03980fc57)\">\n     <use style=\"fill:#440154;stroke:#440154;\" x=\"80.297538\" xlink:href=\"#C0_0_e54178071d\" y=\"125.484495\"/>\n    </g>\n    <g clip-path=\"url(#pf03980fc57)\">\n     <use style=\"fill:#440154;stroke:#440154;\" x=\"122.601951\" xlink:href=\"#C0_0_e54178071d\" y=\"133.610769\"/>\n    </g>\n    <g clip-path=\"url(#pf03980fc57)\">\n     <use style=\"fill:#440154;stroke:#440154;\" x=\"123.225999\" xlink:href=\"#C0_0_e54178071d\" y=\"86.490843\"/>\n    </g>\n    <g clip-path=\"url(#pf03980fc57)\">\n     <use style=\"fill:#440154;stroke:#440154;\" x=\"172.693993\" xlink:href=\"#C0_0_e54178071d\" y=\"104.297898\"/>\n    </g>\n    <g clip-path=\"url(#pf03980fc57)\">\n     <use style=\"fill:#21918c;stroke:#21918c;\" x=\"205.994057\" xlink:href=\"#C0_0_e54178071d\" y=\"107.547372\"/>\n    </g>\n    <g clip-path=\"url(#pf03980fc57)\">\n     <use style=\"fill:#21918c;stroke:#21918c;\" x=\"288.71554\" xlink:href=\"#C0_0_e54178071d\" y=\"52.694657\"/>\n    </g>\n    <g clip-path=\"url(#pf03980fc57)\">\n     <use style=\"fill:#fde725;stroke:#fde725;\" x=\"74.628259\" xlink:href=\"#C0_0_e54178071d\" y=\"181.299676\"/>\n    </g>\n    <g clip-path=\"url(#pf03980fc57)\">\n     <use style=\"fill:#440154;stroke:#440154;\" x=\"194.994131\" xlink:href=\"#C0_0_e54178071d\" y=\"124.189201\"/>\n    </g>\n    <g clip-path=\"url(#pf03980fc57)\">\n     <use style=\"fill:#440154;stroke:#440154;\" x=\"132.423328\" xlink:href=\"#C0_0_e54178071d\" y=\"153.810248\"/>\n    </g>\n    <g clip-path=\"url(#pf03980fc57)\">\n     <use style=\"fill:#fde725;stroke:#fde725;\" x=\"94.07449\" xlink:href=\"#C0_0_e54178071d\" y=\"182.403418\"/>\n    </g>\n    <g clip-path=\"url(#pf03980fc57)\">\n     <use style=\"fill:#fde725;stroke:#fde725;\" x=\"97.27986\" xlink:href=\"#C0_0_e54178071d\" y=\"189.931303\"/>\n    </g>\n    <g clip-path=\"url(#pf03980fc57)\">\n     <use style=\"fill:#21918c;stroke:#21918c;\" x=\"296.770262\" xlink:href=\"#C0_0_e54178071d\" y=\"53.140434\"/>\n    </g>\n    <g clip-path=\"url(#pf03980fc57)\">\n     <use style=\"fill:#21918c;stroke:#21918c;\" x=\"293.919576\" xlink:href=\"#C0_0_e54178071d\" y=\"41.633413\"/>\n    </g>\n    <g clip-path=\"url(#pf03980fc57)\">\n     <use style=\"fill:#440154;stroke:#440154;\" x=\"145.961662\" xlink:href=\"#C0_0_e54178071d\" y=\"148.653539\"/>\n    </g>\n    <g clip-path=\"url(#pf03980fc57)\">\n     <use style=\"fill:#fde725;stroke:#fde725;\" x=\"83.889573\" xlink:href=\"#C0_0_e54178071d\" y=\"153.670444\"/>\n    </g>\n    <g clip-path=\"url(#pf03980fc57)\">\n     <use style=\"fill:#21918c;stroke:#21918c;\" x=\"302.978525\" xlink:href=\"#C0_0_e54178071d\" y=\"45.644465\"/>\n    </g>\n    <g clip-path=\"url(#pf03980fc57)\">\n     <use style=\"fill:#21918c;stroke:#21918c;\" x=\"281.677301\" xlink:href=\"#C0_0_e54178071d\" y=\"56.746434\"/>\n    </g>\n    <g clip-path=\"url(#pf03980fc57)\">\n     <use style=\"fill:#440154;stroke:#440154;\" x=\"105.987269\" xlink:href=\"#C0_0_e54178071d\" y=\"133.824249\"/>\n    </g>\n    <g clip-path=\"url(#pf03980fc57)\">\n     <use style=\"fill:#fde725;stroke:#fde725;\" x=\"50.522869\" xlink:href=\"#C0_0_e54178071d\" y=\"187.308633\"/>\n    </g>\n    <g clip-path=\"url(#pf03980fc57)\">\n     <use style=\"fill:#fde725;stroke:#fde725;\" x=\"69.19394\" xlink:href=\"#C0_0_e54178071d\" y=\"216.300564\"/>\n    </g>\n    <g clip-path=\"url(#pf03980fc57)\">\n     <use style=\"fill:#21918c;stroke:#21918c;\" x=\"348.567581\" xlink:href=\"#C0_0_e54178071d\" y=\"68.805978\"/>\n    </g>\n    <g clip-path=\"url(#pf03980fc57)\">\n     <use style=\"fill:#440154;stroke:#440154;\" x=\"123.807111\" xlink:href=\"#C0_0_e54178071d\" y=\"161.359441\"/>\n    </g>\n    <g clip-path=\"url(#pf03980fc57)\">\n     <use style=\"fill:#fde725;stroke:#fde725;\" x=\"84.248985\" xlink:href=\"#C0_0_e54178071d\" y=\"224.766661\"/>\n    </g>\n    <g clip-path=\"url(#pf03980fc57)\">\n     <use style=\"fill:#21918c;stroke:#21918c;\" x=\"268.211491\" xlink:href=\"#C0_0_e54178071d\" y=\"53.021554\"/>\n    </g>\n    <g clip-path=\"url(#pf03980fc57)\">\n     <use style=\"fill:#440154;stroke:#440154;\" x=\"131.077027\" xlink:href=\"#C0_0_e54178071d\" y=\"89.301362\"/>\n    </g>\n    <g clip-path=\"url(#pf03980fc57)\">\n     <use style=\"fill:#440154;stroke:#440154;\" x=\"155.900976\" xlink:href=\"#C0_0_e54178071d\" y=\"161.168374\"/>\n    </g>\n    <g clip-path=\"url(#pf03980fc57)\">\n     <use style=\"fill:#21918c;stroke:#21918c;\" x=\"339.418825\" xlink:href=\"#C0_0_e54178071d\" y=\"68.53051\"/>\n    </g>\n    <g clip-path=\"url(#pf03980fc57)\">\n     <use style=\"fill:#440154;stroke:#440154;\" x=\"100.067851\" xlink:href=\"#C0_0_e54178071d\" y=\"135.864589\"/>\n    </g>\n    <g clip-path=\"url(#pf03980fc57)\">\n     <use style=\"fill:#21918c;stroke:#21918c;\" x=\"340.417931\" xlink:href=\"#C0_0_e54178071d\" y=\"57.330364\"/>\n    </g>\n    <g clip-path=\"url(#pf03980fc57)\">\n     <use style=\"fill:#440154;stroke:#440154;\" x=\"170.061851\" xlink:href=\"#C0_0_e54178071d\" y=\"105.081474\"/>\n    </g>\n    <g clip-path=\"url(#pf03980fc57)\">\n     <use style=\"fill:#440154;stroke:#440154;\" x=\"143.592793\" xlink:href=\"#C0_0_e54178071d\" y=\"167.260442\"/>\n    </g>\n    <g clip-path=\"url(#pf03980fc57)\">\n     <use style=\"fill:#fde725;stroke:#fde725;\" x=\"93.665262\" xlink:href=\"#C0_0_e54178071d\" y=\"222.252913\"/>\n    </g>\n    <g clip-path=\"url(#pf03980fc57)\">\n     <use style=\"fill:#440154;stroke:#440154;\" x=\"102.692988\" xlink:href=\"#C0_0_e54178071d\" y=\"135.312888\"/>\n    </g>\n    <g clip-path=\"url(#pf03980fc57)\">\n     <use style=\"fill:#440154;stroke:#440154;\" x=\"96.605897\" xlink:href=\"#C0_0_e54178071d\" y=\"168.562742\"/>\n    </g>\n    <g clip-path=\"url(#pf03980fc57)\">\n     <use style=\"fill:#440154;stroke:#440154;\" x=\"96.556845\" xlink:href=\"#C0_0_e54178071d\" y=\"119.991735\"/>\n    </g>\n    <g clip-path=\"url(#pf03980fc57)\">\n     <use style=\"fill:#440154;stroke:#440154;\" x=\"104.483513\" xlink:href=\"#C0_0_e54178071d\" y=\"85.722126\"/>\n    </g>\n    <g clip-path=\"url(#pf03980fc57)\">\n     <use style=\"fill:#440154;stroke:#440154;\" x=\"171.818563\" xlink:href=\"#C0_0_e54178071d\" y=\"157.391495\"/>\n    </g>\n    <g clip-path=\"url(#pf03980fc57)\">\n     <use style=\"fill:#440154;stroke:#440154;\" x=\"103.018664\" xlink:href=\"#C0_0_e54178071d\" y=\"142.92788\"/>\n    </g>\n    <g clip-path=\"url(#pf03980fc57)\">\n     <use style=\"fill:#fde725;stroke:#fde725;\" x=\"75.787802\" xlink:href=\"#C0_0_e54178071d\" y=\"223.334498\"/>\n    </g>\n    <g clip-path=\"url(#pf03980fc57)\">\n     <use style=\"fill:#21918c;stroke:#21918c;\" x=\"278.366529\" xlink:href=\"#C0_0_e54178071d\" y=\"53.765303\"/>\n    </g>\n    <g clip-path=\"url(#pf03980fc57)\">\n     <use style=\"fill:#440154;stroke:#440154;\" x=\"110.986706\" xlink:href=\"#C0_0_e54178071d\" y=\"86.28699\"/>\n    </g>\n    <g clip-path=\"url(#pf03980fc57)\">\n     <use style=\"fill:#21918c;stroke:#21918c;\" x=\"283.418086\" xlink:href=\"#C0_0_e54178071d\" y=\"56.892831\"/>\n    </g>\n    <g clip-path=\"url(#pf03980fc57)\">\n     <use style=\"fill:#440154;stroke:#440154;\" x=\"130.902723\" xlink:href=\"#C0_0_e54178071d\" y=\"133.787552\"/>\n    </g>\n    <g clip-path=\"url(#pf03980fc57)\">\n     <use style=\"fill:#440154;stroke:#440154;\" x=\"174.635642\" xlink:href=\"#C0_0_e54178071d\" y=\"150.102826\"/>\n    </g>\n    <g clip-path=\"url(#pf03980fc57)\">\n     <use style=\"fill:#fde725;stroke:#fde725;\" x=\"81.120434\" xlink:href=\"#C0_0_e54178071d\" y=\"204.277637\"/>\n    </g>\n    <g clip-path=\"url(#pf03980fc57)\">\n     <use style=\"fill:#440154;stroke:#440154;\" x=\"209.130721\" xlink:href=\"#C0_0_e54178071d\" y=\"121.645011\"/>\n    </g>\n    <g clip-path=\"url(#pf03980fc57)\">\n     <use style=\"fill:#21918c;stroke:#21918c;\" x=\"346.230807\" xlink:href=\"#C0_0_e54178071d\" y=\"66.187213\"/>\n    </g>\n    <g clip-path=\"url(#pf03980fc57)\">\n     <use style=\"fill:#21918c;stroke:#21918c;\" x=\"162.589918\" xlink:href=\"#C0_0_e54178071d\" y=\"61.94802\"/>\n    </g>\n    <g clip-path=\"url(#pf03980fc57)\">\n     <use style=\"fill:#fde725;stroke:#fde725;\" x=\"92.246311\" xlink:href=\"#C0_0_e54178071d\" y=\"174.150804\"/>\n    </g>\n    <g clip-path=\"url(#pf03980fc57)\">\n     <use style=\"fill:#21918c;stroke:#21918c;\" x=\"165.130636\" xlink:href=\"#C0_0_e54178071d\" y=\"66.490688\"/>\n    </g>\n    <g clip-path=\"url(#pf03980fc57)\">\n     <use style=\"fill:#440154;stroke:#440154;\" x=\"165.308901\" xlink:href=\"#C0_0_e54178071d\" y=\"67.750076\"/>\n    </g>\n    <g clip-path=\"url(#pf03980fc57)\">\n     <use style=\"fill:#21918c;stroke:#21918c;\" x=\"274.696925\" xlink:href=\"#C0_0_e54178071d\" y=\"70.874551\"/>\n    </g>\n    <g clip-path=\"url(#pf03980fc57)\">\n     <use style=\"fill:#440154;stroke:#440154;\" x=\"89.750275\" xlink:href=\"#C0_0_e54178071d\" y=\"112.88969\"/>\n    </g>\n    <g clip-path=\"url(#pf03980fc57)\">\n     <use style=\"fill:#440154;stroke:#440154;\" x=\"95.272223\" xlink:href=\"#C0_0_e54178071d\" y=\"149.451027\"/>\n    </g>\n    <g clip-path=\"url(#pf03980fc57)\">\n     <use style=\"fill:#21918c;stroke:#21918c;\" x=\"288.528675\" xlink:href=\"#C0_0_e54178071d\" y=\"69.508298\"/>\n    </g>\n    <g clip-path=\"url(#pf03980fc57)\">\n     <use style=\"fill:#fde725;stroke:#fde725;\" x=\"81.181833\" xlink:href=\"#C0_0_e54178071d\" y=\"179.899676\"/>\n    </g>\n    <g clip-path=\"url(#pf03980fc57)\">\n     <use style=\"fill:#fde725;stroke:#fde725;\" x=\"80.270959\" xlink:href=\"#C0_0_e54178071d\" y=\"219.630745\"/>\n    </g>\n    <g clip-path=\"url(#pf03980fc57)\">\n     <use style=\"fill:#440154;stroke:#440154;\" x=\"121.207905\" xlink:href=\"#C0_0_e54178071d\" y=\"88.592242\"/>\n    </g>\n    <g clip-path=\"url(#pf03980fc57)\">\n     <use style=\"fill:#21918c;stroke:#21918c;\" x=\"189.040336\" xlink:href=\"#C0_0_e54178071d\" y=\"98.363773\"/>\n    </g>\n    <g clip-path=\"url(#pf03980fc57)\">\n     <use style=\"fill:#fde725;stroke:#fde725;\" x=\"92.195472\" xlink:href=\"#C0_0_e54178071d\" y=\"221.722967\"/>\n    </g>\n    <g clip-path=\"url(#pf03980fc57)\">\n     <use style=\"fill:#21918c;stroke:#21918c;\" x=\"298.219092\" xlink:href=\"#C0_0_e54178071d\" y=\"49.668032\"/>\n    </g>\n    <g clip-path=\"url(#pf03980fc57)\">\n     <use style=\"fill:#21918c;stroke:#21918c;\" x=\"286.467376\" xlink:href=\"#C0_0_e54178071d\" y=\"73.891479\"/>\n    </g>\n    <g clip-path=\"url(#pf03980fc57)\">\n     <use style=\"fill:#21918c;stroke:#21918c;\" x=\"278.022707\" xlink:href=\"#C0_0_e54178071d\" y=\"41.889751\"/>\n    </g>\n    <g clip-path=\"url(#pf03980fc57)\">\n     <use style=\"fill:#440154;stroke:#440154;\" x=\"197.904038\" xlink:href=\"#C0_0_e54178071d\" y=\"122.041735\"/>\n    </g>\n    <g clip-path=\"url(#pf03980fc57)\">\n     <use style=\"fill:#fde725;stroke:#fde725;\" x=\"104.571623\" xlink:href=\"#C0_0_e54178071d\" y=\"196.701541\"/>\n    </g>\n    <g clip-path=\"url(#pf03980fc57)\">\n     <use style=\"fill:#21918c;stroke:#21918c;\" x=\"292.968385\" xlink:href=\"#C0_0_e54178071d\" y=\"43.201349\"/>\n    </g>\n    <g clip-path=\"url(#pf03980fc57)\">\n     <use style=\"fill:#440154;stroke:#440154;\" x=\"138.152742\" xlink:href=\"#C0_0_e54178071d\" y=\"88.408953\"/>\n    </g>\n    <g clip-path=\"url(#pf03980fc57)\">\n     <use style=\"fill:#440154;stroke:#440154;\" x=\"109.569579\" xlink:href=\"#C0_0_e54178071d\" y=\"146.451519\"/>\n    </g>\n    <g clip-path=\"url(#pf03980fc57)\">\n     <use style=\"fill:#440154;stroke:#440154;\" x=\"199.039934\" xlink:href=\"#C0_0_e54178071d\" y=\"126.774567\"/>\n    </g>\n    <g clip-path=\"url(#pf03980fc57)\">\n     <use style=\"fill:#440154;stroke:#440154;\" x=\"117.91158\" xlink:href=\"#C0_0_e54178071d\" y=\"122.093756\"/>\n    </g>\n    <g clip-path=\"url(#pf03980fc57)\">\n     <use style=\"fill:#440154;stroke:#440154;\" x=\"108.286569\" xlink:href=\"#C0_0_e54178071d\" y=\"107.920129\"/>\n    </g>\n    <g clip-path=\"url(#pf03980fc57)\">\n     <use style=\"fill:#440154;stroke:#440154;\" x=\"74.640139\" xlink:href=\"#C0_0_e54178071d\" y=\"136.695291\"/>\n    </g>\n    <g clip-path=\"url(#pf03980fc57)\">\n     <use style=\"fill:#21918c;stroke:#21918c;\" x=\"278.194712\" xlink:href=\"#C0_0_e54178071d\" y=\"60.800134\"/>\n    </g>\n    <g clip-path=\"url(#pf03980fc57)\">\n     <use style=\"fill:#fde725;stroke:#fde725;\" x=\"74.298486\" xlink:href=\"#C0_0_e54178071d\" y=\"171.846583\"/>\n    </g>\n    <g clip-path=\"url(#pf03980fc57)\">\n     <use style=\"fill:#440154;stroke:#440154;\" x=\"121.931592\" xlink:href=\"#C0_0_e54178071d\" y=\"112.987238\"/>\n    </g>\n    <g clip-path=\"url(#pf03980fc57)\">\n     <use style=\"fill:#21918c;stroke:#21918c;\" x=\"281.284686\" xlink:href=\"#C0_0_e54178071d\" y=\"65.961861\"/>\n    </g>\n    <g clip-path=\"url(#pf03980fc57)\">\n     <use style=\"fill:#fde725;stroke:#fde725;\" x=\"95.097356\" xlink:href=\"#C0_0_e54178071d\" y=\"199.773508\"/>\n    </g>\n    <g clip-path=\"url(#pf03980fc57)\">\n     <use style=\"fill:#fde725;stroke:#fde725;\" x=\"75.165008\" xlink:href=\"#C0_0_e54178071d\" y=\"181.56262\"/>\n    </g>\n    <g clip-path=\"url(#pf03980fc57)\">\n     <use style=\"fill:#440154;stroke:#440154;\" x=\"194.398593\" xlink:href=\"#C0_0_e54178071d\" y=\"127.308313\"/>\n    </g>\n    <g clip-path=\"url(#pf03980fc57)\">\n     <use style=\"fill:#fde725;stroke:#fde725;\" x=\"76.203092\" xlink:href=\"#C0_0_e54178071d\" y=\"214.102241\"/>\n    </g>\n    <g clip-path=\"url(#pf03980fc57)\">\n     <use style=\"fill:#440154;stroke:#440154;\" x=\"169.116077\" xlink:href=\"#C0_0_e54178071d\" y=\"117.30988\"/>\n    </g>\n    <g clip-path=\"url(#pf03980fc57)\">\n     <use style=\"fill:#fde725;stroke:#fde725;\" x=\"83.922215\" xlink:href=\"#C0_0_e54178071d\" y=\"151.26604\"/>\n    </g>\n    <g clip-path=\"url(#pf03980fc57)\">\n     <use style=\"fill:#440154;stroke:#440154;\" x=\"147.153054\" xlink:href=\"#C0_0_e54178071d\" y=\"126.035341\"/>\n    </g>\n    <g clip-path=\"url(#pf03980fc57)\">\n     <use style=\"fill:#21918c;stroke:#21918c;\" x=\"293.223098\" xlink:href=\"#C0_0_e54178071d\" y=\"51.296772\"/>\n    </g>\n    <g clip-path=\"url(#pf03980fc57)\">\n     <use style=\"fill:#fde725;stroke:#fde725;\" x=\"93.880624\" xlink:href=\"#C0_0_e54178071d\" y=\"207.940593\"/>\n    </g>\n    <g clip-path=\"url(#pf03980fc57)\">\n     <use style=\"fill:#440154;stroke:#440154;\" x=\"131.792581\" xlink:href=\"#C0_0_e54178071d\" y=\"123.576669\"/>\n    </g>\n    <g clip-path=\"url(#pf03980fc57)\">\n     <use style=\"fill:#440154;stroke:#440154;\" x=\"173.284078\" xlink:href=\"#C0_0_e54178071d\" y=\"148.447193\"/>\n    </g>\n    <g clip-path=\"url(#pf03980fc57)\">\n     <use style=\"fill:#440154;stroke:#440154;\" x=\"123.225308\" xlink:href=\"#C0_0_e54178071d\" y=\"96.731161\"/>\n    </g>\n    <g clip-path=\"url(#pf03980fc57)\">\n     <use style=\"fill:#fde725;stroke:#fde725;\" x=\"85.276047\" xlink:href=\"#C0_0_e54178071d\" y=\"189.285942\"/>\n    </g>\n    <g clip-path=\"url(#pf03980fc57)\">\n     <use style=\"fill:#21918c;stroke:#21918c;\" x=\"290.378483\" xlink:href=\"#C0_0_e54178071d\" y=\"41.323907\"/>\n    </g>\n    <g clip-path=\"url(#pf03980fc57)\">\n     <use style=\"fill:#440154;stroke:#440154;\" x=\"129.154671\" xlink:href=\"#C0_0_e54178071d\" y=\"148.154598\"/>\n    </g>\n    <g clip-path=\"url(#pf03980fc57)\">\n     <use style=\"fill:#21918c;stroke:#21918c;\" x=\"277.174391\" xlink:href=\"#C0_0_e54178071d\" y=\"51.408326\"/>\n    </g>\n    <g clip-path=\"url(#pf03980fc57)\">\n     <use style=\"fill:#21918c;stroke:#21918c;\" x=\"170.275121\" xlink:href=\"#C0_0_e54178071d\" y=\"59.073463\"/>\n    </g>\n    <g clip-path=\"url(#pf03980fc57)\">\n     <use style=\"fill:#440154;stroke:#440154;\" x=\"96.283596\" xlink:href=\"#C0_0_e54178071d\" y=\"122.683992\"/>\n    </g>\n    <g clip-path=\"url(#pf03980fc57)\">\n     <use style=\"fill:#21918c;stroke:#21918c;\" x=\"345.663566\" xlink:href=\"#C0_0_e54178071d\" y=\"68.953753\"/>\n    </g>\n    <g clip-path=\"url(#pf03980fc57)\">\n     <use style=\"fill:#fde725;stroke:#fde725;\" x=\"106.348006\" xlink:href=\"#C0_0_e54178071d\" y=\"178.289883\"/>\n    </g>\n    <g clip-path=\"url(#pf03980fc57)\">\n     <use style=\"fill:#440154;stroke:#440154;\" x=\"96.297131\" xlink:href=\"#C0_0_e54178071d\" y=\"138.317405\"/>\n    </g>\n    <g clip-path=\"url(#pf03980fc57)\">\n     <use style=\"fill:#440154;stroke:#440154;\" x=\"106.933284\" xlink:href=\"#C0_0_e54178071d\" y=\"84.259666\"/>\n    </g>\n    <g clip-path=\"url(#pf03980fc57)\">\n     <use style=\"fill:#21918c;stroke:#21918c;\" x=\"339.083659\" xlink:href=\"#C0_0_e54178071d\" y=\"62.465863\"/>\n    </g>\n    <g clip-path=\"url(#pf03980fc57)\">\n     <use style=\"fill:#440154;stroke:#440154;\" x=\"176.910935\" xlink:href=\"#C0_0_e54178071d\" y=\"150.744052\"/>\n    </g>\n    <g clip-path=\"url(#pf03980fc57)\">\n     <use style=\"fill:#21918c;stroke:#21918c;\" x=\"333.686752\" xlink:href=\"#C0_0_e54178071d\" y=\"49.892984\"/>\n    </g>\n    <g clip-path=\"url(#pf03980fc57)\">\n     <use style=\"fill:#21918c;stroke:#21918c;\" x=\"279.004295\" xlink:href=\"#C0_0_e54178071d\" y=\"37.78391\"/>\n    </g>\n    <g clip-path=\"url(#pf03980fc57)\">\n     <use style=\"fill:#440154;stroke:#440154;\" x=\"135.443132\" xlink:href=\"#C0_0_e54178071d\" y=\"145.587384\"/>\n    </g>\n    <g clip-path=\"url(#pf03980fc57)\">\n     <use style=\"fill:#440154;stroke:#440154;\" x=\"106.046881\" xlink:href=\"#C0_0_e54178071d\" y=\"145.249976\"/>\n    </g>\n    <g clip-path=\"url(#pf03980fc57)\">\n     <use style=\"fill:#21918c;stroke:#21918c;\" x=\"289.915135\" xlink:href=\"#C0_0_e54178071d\" y=\"62.023479\"/>\n    </g>\n    <g clip-path=\"url(#pf03980fc57)\">\n     <use style=\"fill:#fde725;stroke:#fde725;\" x=\"87.809958\" xlink:href=\"#C0_0_e54178071d\" y=\"191.930845\"/>\n    </g>\n    <g clip-path=\"url(#pf03980fc57)\">\n     <use style=\"fill:#440154;stroke:#440154;\" x=\"85.678439\" xlink:href=\"#C0_0_e54178071d\" y=\"166.438349\"/>\n    </g>\n    <g clip-path=\"url(#pf03980fc57)\">\n     <use style=\"fill:#440154;stroke:#440154;\" x=\"173.650297\" xlink:href=\"#C0_0_e54178071d\" y=\"150.76446\"/>\n    </g>\n    <g clip-path=\"url(#pf03980fc57)\">\n     <use style=\"fill:#fde725;stroke:#fde725;\" x=\"94.915456\" xlink:href=\"#C0_0_e54178071d\" y=\"183.67894\"/>\n    </g>\n    <g clip-path=\"url(#pf03980fc57)\">\n     <use style=\"fill:#440154;stroke:#440154;\" x=\"112.670457\" xlink:href=\"#C0_0_e54178071d\" y=\"137.072607\"/>\n    </g>\n    <g clip-path=\"url(#pf03980fc57)\">\n     <use style=\"fill:#440154;stroke:#440154;\" x=\"126.938651\" xlink:href=\"#C0_0_e54178071d\" y=\"122.250191\"/>\n    </g>\n    <g clip-path=\"url(#pf03980fc57)\">\n     <use style=\"fill:#440154;stroke:#440154;\" x=\"144.417329\" xlink:href=\"#C0_0_e54178071d\" y=\"152.736983\"/>\n    </g>\n    <g clip-path=\"url(#pf03980fc57)\">\n     <use style=\"fill:#21918c;stroke:#21918c;\" x=\"305.300797\" xlink:href=\"#C0_0_e54178071d\" y=\"36.650055\"/>\n    </g>\n    <g clip-path=\"url(#pf03980fc57)\">\n     <use style=\"fill:#440154;stroke:#440154;\" x=\"51.153442\" xlink:href=\"#C0_0_e54178071d\" y=\"184.520829\"/>\n    </g>\n    <g clip-path=\"url(#pf03980fc57)\">\n     <use style=\"fill:#440154;stroke:#440154;\" x=\"169.092168\" xlink:href=\"#C0_0_e54178071d\" y=\"118.175575\"/>\n    </g>\n    <g clip-path=\"url(#pf03980fc57)\">\n     <use style=\"fill:#440154;stroke:#440154;\" x=\"71.742093\" xlink:href=\"#C0_0_e54178071d\" y=\"151.518315\"/>\n    </g>\n    <g clip-path=\"url(#pf03980fc57)\">\n     <use style=\"fill:#440154;stroke:#440154;\" x=\"127.809034\" xlink:href=\"#C0_0_e54178071d\" y=\"112.759222\"/>\n    </g>\n    <g clip-path=\"url(#pf03980fc57)\">\n     <use style=\"fill:#21918c;stroke:#21918c;\" x=\"158.785013\" xlink:href=\"#C0_0_e54178071d\" y=\"68.651767\"/>\n    </g>\n    <g clip-path=\"url(#pf03980fc57)\">\n     <use style=\"fill:#440154;stroke:#440154;\" x=\"123.687588\" xlink:href=\"#C0_0_e54178071d\" y=\"176.747743\"/>\n    </g>\n    <g clip-path=\"url(#pf03980fc57)\">\n     <use style=\"fill:#21918c;stroke:#21918c;\" x=\"282.782007\" xlink:href=\"#C0_0_e54178071d\" y=\"67.563989\"/>\n    </g>\n    <g clip-path=\"url(#pf03980fc57)\">\n     <use style=\"fill:#440154;stroke:#440154;\" x=\"123.52643\" xlink:href=\"#C0_0_e54178071d\" y=\"125.919928\"/>\n    </g>\n    <g clip-path=\"url(#pf03980fc57)\">\n     <use style=\"fill:#fde725;stroke:#fde725;\" x=\"86.176371\" xlink:href=\"#C0_0_e54178071d\" y=\"195.123208\"/>\n    </g>\n    <g clip-path=\"url(#pf03980fc57)\">\n     <use style=\"fill:#fde725;stroke:#fde725;\" x=\"61.262666\" xlink:href=\"#C0_0_e54178071d\" y=\"208.576704\"/>\n    </g>\n    <g clip-path=\"url(#pf03980fc57)\">\n     <use style=\"fill:#21918c;stroke:#21918c;\" x=\"250.796267\" xlink:href=\"#C0_0_e54178071d\" y=\"78.602304\"/>\n    </g>\n    <g clip-path=\"url(#pf03980fc57)\">\n     <use style=\"fill:#fde725;stroke:#fde725;\" x=\"90.870251\" xlink:href=\"#C0_0_e54178071d\" y=\"183.409617\"/>\n    </g>\n    <g clip-path=\"url(#pf03980fc57)\">\n     <use style=\"fill:#21918c;stroke:#21918c;\" x=\"277.132614\" xlink:href=\"#C0_0_e54178071d\" y=\"58.504677\"/>\n    </g>\n    <g clip-path=\"url(#pf03980fc57)\">\n     <use style=\"fill:#440154;stroke:#440154;\" x=\"135.001612\" xlink:href=\"#C0_0_e54178071d\" y=\"137.707229\"/>\n    </g>\n    <g clip-path=\"url(#pf03980fc57)\">\n     <use style=\"fill:#21918c;stroke:#21918c;\" x=\"348.136564\" xlink:href=\"#C0_0_e54178071d\" y=\"65.779429\"/>\n    </g>\n    <g clip-path=\"url(#pf03980fc57)\">\n     <use style=\"fill:#fde725;stroke:#fde725;\" x=\"100.295282\" xlink:href=\"#C0_0_e54178071d\" y=\"204.426929\"/>\n    </g>\n    <g clip-path=\"url(#pf03980fc57)\">\n     <use style=\"fill:#440154;stroke:#440154;\" x=\"137.075501\" xlink:href=\"#C0_0_e54178071d\" y=\"93.459365\"/>\n    </g>\n    <g clip-path=\"url(#pf03980fc57)\">\n     <use style=\"fill:#21918c;stroke:#21918c;\" x=\"273.802051\" xlink:href=\"#C0_0_e54178071d\" y=\"62.053297\"/>\n    </g>\n    <g clip-path=\"url(#pf03980fc57)\">\n     <use style=\"fill:#fde725;stroke:#fde725;\" x=\"101.097751\" xlink:href=\"#C0_0_e54178071d\" y=\"202.367815\"/>\n    </g>\n    <g clip-path=\"url(#pf03980fc57)\">\n     <use style=\"fill:#440154;stroke:#440154;\" x=\"171.152287\" xlink:href=\"#C0_0_e54178071d\" y=\"108.208674\"/>\n    </g>\n    <g clip-path=\"url(#pf03980fc57)\">\n     <use style=\"fill:#fde725;stroke:#fde725;\" x=\"80.964363\" xlink:href=\"#C0_0_e54178071d\" y=\"172.191626\"/>\n    </g>\n    <g clip-path=\"url(#pf03980fc57)\">\n     <use style=\"fill:#440154;stroke:#440154;\" x=\"92.097392\" xlink:href=\"#C0_0_e54178071d\" y=\"111.708479\"/>\n    </g>\n    <g clip-path=\"url(#pf03980fc57)\">\n     <use style=\"fill:#fde725;stroke:#fde725;\" x=\"89.161848\" xlink:href=\"#C0_0_e54178071d\" y=\"206.25548\"/>\n    </g>\n    <g clip-path=\"url(#pf03980fc57)\">\n     <use style=\"fill:#440154;stroke:#440154;\" x=\"130.826102\" xlink:href=\"#C0_0_e54178071d\" y=\"134.016114\"/>\n    </g>\n    <g clip-path=\"url(#pf03980fc57)\">\n     <use style=\"fill:#fde725;stroke:#fde725;\" x=\"71.061577\" xlink:href=\"#C0_0_e54178071d\" y=\"174.611425\"/>\n    </g>\n    <g clip-path=\"url(#pf03980fc57)\">\n     <use style=\"fill:#440154;stroke:#440154;\" x=\"118.96756\" xlink:href=\"#C0_0_e54178071d\" y=\"90.993214\"/>\n    </g>\n    <g clip-path=\"url(#pf03980fc57)\">\n     <use style=\"fill:#440154;stroke:#440154;\" x=\"138.136878\" xlink:href=\"#C0_0_e54178071d\" y=\"126.213714\"/>\n    </g>\n    <g clip-path=\"url(#pf03980fc57)\">\n     <use style=\"fill:#21918c;stroke:#21918c;\" x=\"279.850631\" xlink:href=\"#C0_0_e54178071d\" y=\"59.842159\"/>\n    </g>\n    <g clip-path=\"url(#pf03980fc57)\">\n     <use style=\"fill:#440154;stroke:#440154;\" x=\"204.250759\" xlink:href=\"#C0_0_e54178071d\" y=\"118.983652\"/>\n    </g>\n    <g clip-path=\"url(#pf03980fc57)\">\n     <use style=\"fill:#fde725;stroke:#fde725;\" x=\"195.788916\" xlink:href=\"#C0_0_e54178071d\" y=\"133.823787\"/>\n    </g>\n    <g clip-path=\"url(#pf03980fc57)\">\n     <use style=\"fill:#21918c;stroke:#21918c;\" x=\"284.961965\" xlink:href=\"#C0_0_e54178071d\" y=\"51.664264\"/>\n    </g>\n    <g clip-path=\"url(#pf03980fc57)\">\n     <use style=\"fill:#fde725;stroke:#fde725;\" x=\"93.899882\" xlink:href=\"#C0_0_e54178071d\" y=\"206.493893\"/>\n    </g>\n    <g clip-path=\"url(#pf03980fc57)\">\n     <use style=\"fill:#21918c;stroke:#21918c;\" x=\"301.90366\" xlink:href=\"#C0_0_e54178071d\" y=\"37.0294\"/>\n    </g>\n    <g clip-path=\"url(#pf03980fc57)\">\n     <use style=\"fill:#440154;stroke:#440154;\" x=\"77.23583\" xlink:href=\"#C0_0_e54178071d\" y=\"137.561074\"/>\n    </g>\n    <g clip-path=\"url(#pf03980fc57)\">\n     <use style=\"fill:#21918c;stroke:#21918c;\" x=\"314.660055\" xlink:href=\"#C0_0_e54178071d\" y=\"46.36057\"/>\n    </g>\n    <g clip-path=\"url(#pf03980fc57)\">\n     <use style=\"fill:#fde725;stroke:#fde725;\" x=\"88.830585\" xlink:href=\"#C0_0_e54178071d\" y=\"203.23128\"/>\n    </g>\n    <g clip-path=\"url(#pf03980fc57)\">\n     <use style=\"fill:#440154;stroke:#440154;\" x=\"173.909428\" xlink:href=\"#C0_0_e54178071d\" y=\"158.397957\"/>\n    </g>\n    <g clip-path=\"url(#pf03980fc57)\">\n     <use style=\"fill:#440154;stroke:#440154;\" x=\"142.527659\" xlink:href=\"#C0_0_e54178071d\" y=\"129.470708\"/>\n    </g>\n    <g clip-path=\"url(#pf03980fc57)\">\n     <use style=\"fill:#21918c;stroke:#21918c;\" x=\"184.209051\" xlink:href=\"#C0_0_e54178071d\" y=\"92.443405\"/>\n    </g>\n    <g clip-path=\"url(#pf03980fc57)\">\n     <use style=\"fill:#440154;stroke:#440154;\" x=\"164.742453\" xlink:href=\"#C0_0_e54178071d\" y=\"69.174554\"/>\n    </g>\n    <g clip-path=\"url(#pf03980fc57)\">\n     <use style=\"fill:#21918c;stroke:#21918c;\" x=\"182.09915\" xlink:href=\"#C0_0_e54178071d\" y=\"94.984649\"/>\n    </g>\n    <g clip-path=\"url(#pf03980fc57)\">\n     <use style=\"fill:#21918c;stroke:#21918c;\" x=\"273.524163\" xlink:href=\"#C0_0_e54178071d\" y=\"58.930883\"/>\n    </g>\n    <g clip-path=\"url(#pf03980fc57)\">\n     <use style=\"fill:#440154;stroke:#440154;\" x=\"143.937359\" xlink:href=\"#C0_0_e54178071d\" y=\"161.02971\"/>\n    </g>\n    <g clip-path=\"url(#pf03980fc57)\">\n     <use style=\"fill:#21918c;stroke:#21918c;\" x=\"250.975673\" xlink:href=\"#C0_0_e54178071d\" y=\"81.140949\"/>\n    </g>\n    <g clip-path=\"url(#pf03980fc57)\">\n     <use style=\"fill:#440154;stroke:#440154;\" x=\"123.88081\" xlink:href=\"#C0_0_e54178071d\" y=\"144.681133\"/>\n    </g>\n    <g clip-path=\"url(#pf03980fc57)\">\n     <use style=\"fill:#21918c;stroke:#21918c;\" x=\"274.165767\" xlink:href=\"#C0_0_e54178071d\" y=\"49.422778\"/>\n    </g>\n    <g clip-path=\"url(#pf03980fc57)\">\n     <use style=\"fill:#440154;stroke:#440154;\" x=\"70.760127\" xlink:href=\"#C0_0_e54178071d\" y=\"151.530558\"/>\n    </g>\n    <g clip-path=\"url(#pf03980fc57)\">\n     <use style=\"fill:#440154;stroke:#440154;\" x=\"110.191774\" xlink:href=\"#C0_0_e54178071d\" y=\"116.569553\"/>\n    </g>\n    <g clip-path=\"url(#pf03980fc57)\">\n     <use style=\"fill:#21918c;stroke:#21918c;\" x=\"342.583407\" xlink:href=\"#C0_0_e54178071d\" y=\"60.315153\"/>\n    </g>\n    <g clip-path=\"url(#pf03980fc57)\">\n     <use style=\"fill:#440154;stroke:#440154;\" x=\"149.115305\" xlink:href=\"#C0_0_e54178071d\" y=\"65.487084\"/>\n    </g>\n    <g clip-path=\"url(#pf03980fc57)\">\n     <use style=\"fill:#440154;stroke:#440154;\" x=\"137.188721\" xlink:href=\"#C0_0_e54178071d\" y=\"93.466427\"/>\n    </g>\n    <g clip-path=\"url(#pf03980fc57)\">\n     <use style=\"fill:#440154;stroke:#440154;\" x=\"110.190601\" xlink:href=\"#C0_0_e54178071d\" y=\"92.74904\"/>\n    </g>\n    <g clip-path=\"url(#pf03980fc57)\">\n     <use style=\"fill:#fde725;stroke:#fde725;\" x=\"97.860202\" xlink:href=\"#C0_0_e54178071d\" y=\"203.096291\"/>\n    </g>\n    <g clip-path=\"url(#pf03980fc57)\">\n     <use style=\"fill:#440154;stroke:#440154;\" x=\"87.391056\" xlink:href=\"#C0_0_e54178071d\" y=\"145.287234\"/>\n    </g>\n    <g clip-path=\"url(#pf03980fc57)\">\n     <use style=\"fill:#440154;stroke:#440154;\" x=\"121.61495\" xlink:href=\"#C0_0_e54178071d\" y=\"96.83746\"/>\n    </g>\n    <g clip-path=\"url(#pf03980fc57)\">\n     <use style=\"fill:#440154;stroke:#440154;\" x=\"93.634129\" xlink:href=\"#C0_0_e54178071d\" y=\"135.071552\"/>\n    </g>\n    <g clip-path=\"url(#pf03980fc57)\">\n     <use style=\"fill:#fde725;stroke:#fde725;\" x=\"72.180832\" xlink:href=\"#C0_0_e54178071d\" y=\"219.243525\"/>\n    </g>\n    <g clip-path=\"url(#pf03980fc57)\">\n     <use style=\"fill:#21918c;stroke:#21918c;\" x=\"343.782776\" xlink:href=\"#C0_0_e54178071d\" y=\"69.743619\"/>\n    </g>\n    <g clip-path=\"url(#pf03980fc57)\">\n     <use style=\"fill:#440154;stroke:#440154;\" x=\"106.158143\" xlink:href=\"#C0_0_e54178071d\" y=\"80.483275\"/>\n    </g>\n   </g>\n   <g id=\"matplotlib.axis_1\">\n    <g id=\"xtick_1\">\n     <g id=\"line2d_1\">\n      <defs>\n       <path d=\"M 0 0 \nL 0 3.5 \n\" id=\"mad9835f0a8\" style=\"stroke:#000000;stroke-width:0.8;\"/>\n      </defs>\n      <g>\n       <use style=\"stroke:#000000;stroke-width:0.8;\" x=\"61.660098\" xlink:href=\"#mad9835f0a8\" y=\"239.758125\"/>\n      </g>\n     </g>\n     <g id=\"text_1\">\n      <!-- −20 -->\n      <defs>\n       <path d=\"M 10.59375 35.5 \nL 73.1875 35.5 \nL 73.1875 27.203125 \nL 10.59375 27.203125 \nz\n\" id=\"DejaVuSans-8722\"/>\n       <path d=\"M 19.1875 8.296875 \nL 53.609375 8.296875 \nL 53.609375 0 \nL 7.328125 0 \nL 7.328125 8.296875 \nQ 12.9375 14.109375 22.625 23.890625 \nQ 32.328125 33.6875 34.8125 36.53125 \nQ 39.546875 41.84375 41.421875 45.53125 \nQ 43.3125 49.21875 43.3125 52.78125 \nQ 43.3125 58.59375 39.234375 62.25 \nQ 35.15625 65.921875 28.609375 65.921875 \nQ 23.96875 65.921875 18.8125 64.3125 \nQ 13.671875 62.703125 7.8125 59.421875 \nL 7.8125 69.390625 \nQ 13.765625 71.78125 18.9375 73 \nQ 24.125 74.21875 28.421875 74.21875 \nQ 39.75 74.21875 46.484375 68.546875 \nQ 53.21875 62.890625 53.21875 53.421875 \nQ 53.21875 48.921875 51.53125 44.890625 \nQ 49.859375 40.875 45.40625 35.40625 \nQ 44.1875 33.984375 37.640625 27.21875 \nQ 31.109375 20.453125 19.1875 8.296875 \nz\n\" id=\"DejaVuSans-50\"/>\n       <path d=\"M 31.78125 66.40625 \nQ 24.171875 66.40625 20.328125 58.90625 \nQ 16.5 51.421875 16.5 36.375 \nQ 16.5 21.390625 20.328125 13.890625 \nQ 24.171875 6.390625 31.78125 6.390625 \nQ 39.453125 6.390625 43.28125 13.890625 \nQ 47.125 21.390625 47.125 36.375 \nQ 47.125 51.421875 43.28125 58.90625 \nQ 39.453125 66.40625 31.78125 66.40625 \nz\nM 31.78125 74.21875 \nQ 44.046875 74.21875 50.515625 64.515625 \nQ 56.984375 54.828125 56.984375 36.375 \nQ 56.984375 17.96875 50.515625 8.265625 \nQ 44.046875 -1.421875 31.78125 -1.421875 \nQ 19.53125 -1.421875 13.0625 8.265625 \nQ 6.59375 17.96875 6.59375 36.375 \nQ 6.59375 54.828125 13.0625 64.515625 \nQ 19.53125 74.21875 31.78125 74.21875 \nz\n\" id=\"DejaVuSans-48\"/>\n      </defs>\n      <g transform=\"translate(51.107755 254.356563)scale(0.1 -0.1)\">\n       <use xlink:href=\"#DejaVuSans-8722\"/>\n       <use x=\"83.789062\" xlink:href=\"#DejaVuSans-50\"/>\n       <use x=\"147.412109\" xlink:href=\"#DejaVuSans-48\"/>\n      </g>\n     </g>\n    </g>\n    <g id=\"xtick_2\">\n     <g id=\"line2d_2\">\n      <g>\n       <use style=\"stroke:#000000;stroke-width:0.8;\" x=\"111.092895\" xlink:href=\"#mad9835f0a8\" y=\"239.758125\"/>\n      </g>\n     </g>\n     <g id=\"text_2\">\n      <!-- −10 -->\n      <defs>\n       <path d=\"M 12.40625 8.296875 \nL 28.515625 8.296875 \nL 28.515625 63.921875 \nL 10.984375 60.40625 \nL 10.984375 69.390625 \nL 28.421875 72.90625 \nL 38.28125 72.90625 \nL 38.28125 8.296875 \nL 54.390625 8.296875 \nL 54.390625 0 \nL 12.40625 0 \nz\n\" id=\"DejaVuSans-49\"/>\n      </defs>\n      <g transform=\"translate(100.540551 254.356563)scale(0.1 -0.1)\">\n       <use xlink:href=\"#DejaVuSans-8722\"/>\n       <use x=\"83.789062\" xlink:href=\"#DejaVuSans-49\"/>\n       <use x=\"147.412109\" xlink:href=\"#DejaVuSans-48\"/>\n      </g>\n     </g>\n    </g>\n    <g id=\"xtick_3\">\n     <g id=\"line2d_3\">\n      <g>\n       <use style=\"stroke:#000000;stroke-width:0.8;\" x=\"160.525691\" xlink:href=\"#mad9835f0a8\" y=\"239.758125\"/>\n      </g>\n     </g>\n     <g id=\"text_3\">\n      <!-- 0 -->\n      <g transform=\"translate(157.344441 254.356563)scale(0.1 -0.1)\">\n       <use xlink:href=\"#DejaVuSans-48\"/>\n      </g>\n     </g>\n    </g>\n    <g id=\"xtick_4\">\n     <g id=\"line2d_4\">\n      <g>\n       <use style=\"stroke:#000000;stroke-width:0.8;\" x=\"209.958487\" xlink:href=\"#mad9835f0a8\" y=\"239.758125\"/>\n      </g>\n     </g>\n     <g id=\"text_4\">\n      <!-- 10 -->\n      <g transform=\"translate(203.595987 254.356563)scale(0.1 -0.1)\">\n       <use xlink:href=\"#DejaVuSans-49\"/>\n       <use x=\"63.623047\" xlink:href=\"#DejaVuSans-48\"/>\n      </g>\n     </g>\n    </g>\n    <g id=\"xtick_5\">\n     <g id=\"line2d_5\">\n      <g>\n       <use style=\"stroke:#000000;stroke-width:0.8;\" x=\"259.391283\" xlink:href=\"#mad9835f0a8\" y=\"239.758125\"/>\n      </g>\n     </g>\n     <g id=\"text_5\">\n      <!-- 20 -->\n      <g transform=\"translate(253.028783 254.356563)scale(0.1 -0.1)\">\n       <use xlink:href=\"#DejaVuSans-50\"/>\n       <use x=\"63.623047\" xlink:href=\"#DejaVuSans-48\"/>\n      </g>\n     </g>\n    </g>\n    <g id=\"xtick_6\">\n     <g id=\"line2d_6\">\n      <g>\n       <use style=\"stroke:#000000;stroke-width:0.8;\" x=\"308.824079\" xlink:href=\"#mad9835f0a8\" y=\"239.758125\"/>\n      </g>\n     </g>\n     <g id=\"text_6\">\n      <!-- 30 -->\n      <defs>\n       <path d=\"M 40.578125 39.3125 \nQ 47.65625 37.796875 51.625 33 \nQ 55.609375 28.21875 55.609375 21.1875 \nQ 55.609375 10.40625 48.1875 4.484375 \nQ 40.765625 -1.421875 27.09375 -1.421875 \nQ 22.515625 -1.421875 17.65625 -0.515625 \nQ 12.796875 0.390625 7.625 2.203125 \nL 7.625 11.71875 \nQ 11.71875 9.328125 16.59375 8.109375 \nQ 21.484375 6.890625 26.8125 6.890625 \nQ 36.078125 6.890625 40.9375 10.546875 \nQ 45.796875 14.203125 45.796875 21.1875 \nQ 45.796875 27.640625 41.28125 31.265625 \nQ 36.765625 34.90625 28.71875 34.90625 \nL 20.21875 34.90625 \nL 20.21875 43.015625 \nL 29.109375 43.015625 \nQ 36.375 43.015625 40.234375 45.921875 \nQ 44.09375 48.828125 44.09375 54.296875 \nQ 44.09375 59.90625 40.109375 62.90625 \nQ 36.140625 65.921875 28.71875 65.921875 \nQ 24.65625 65.921875 20.015625 65.03125 \nQ 15.375 64.15625 9.8125 62.3125 \nL 9.8125 71.09375 \nQ 15.4375 72.65625 20.34375 73.4375 \nQ 25.25 74.21875 29.59375 74.21875 \nQ 40.828125 74.21875 47.359375 69.109375 \nQ 53.90625 64.015625 53.90625 55.328125 \nQ 53.90625 49.265625 50.4375 45.09375 \nQ 46.96875 40.921875 40.578125 39.3125 \nz\n\" id=\"DejaVuSans-51\"/>\n      </defs>\n      <g transform=\"translate(302.461579 254.356563)scale(0.1 -0.1)\">\n       <use xlink:href=\"#DejaVuSans-51\"/>\n       <use x=\"63.623047\" xlink:href=\"#DejaVuSans-48\"/>\n      </g>\n     </g>\n    </g>\n    <g id=\"xtick_7\">\n     <g id=\"line2d_7\">\n      <g>\n       <use style=\"stroke:#000000;stroke-width:0.8;\" x=\"358.256876\" xlink:href=\"#mad9835f0a8\" y=\"239.758125\"/>\n      </g>\n     </g>\n     <g id=\"text_7\">\n      <!-- 40 -->\n      <defs>\n       <path d=\"M 37.796875 64.3125 \nL 12.890625 25.390625 \nL 37.796875 25.390625 \nz\nM 35.203125 72.90625 \nL 47.609375 72.90625 \nL 47.609375 25.390625 \nL 58.015625 25.390625 \nL 58.015625 17.1875 \nL 47.609375 17.1875 \nL 47.609375 0 \nL 37.796875 0 \nL 37.796875 17.1875 \nL 4.890625 17.1875 \nL 4.890625 26.703125 \nz\n\" id=\"DejaVuSans-52\"/>\n      </defs>\n      <g transform=\"translate(351.894376 254.356563)scale(0.1 -0.1)\">\n       <use xlink:href=\"#DejaVuSans-52\"/>\n       <use x=\"63.623047\" xlink:href=\"#DejaVuSans-48\"/>\n      </g>\n     </g>\n    </g>\n   </g>\n   <g id=\"matplotlib.axis_2\">\n    <g id=\"ytick_1\">\n     <g id=\"line2d_8\">\n      <defs>\n       <path d=\"M 0 0 \nL -3.5 0 \n\" id=\"m5bf734fe9f\" style=\"stroke:#000000;stroke-width:0.8;\"/>\n      </defs>\n      <g>\n       <use style=\"stroke:#000000;stroke-width:0.8;\" x=\"35.304688\" xlink:href=\"#m5bf734fe9f\" y=\"202.749941\"/>\n      </g>\n     </g>\n     <g id=\"text_8\">\n      <!-- −20 -->\n      <g transform=\"translate(7.2 206.54916)scale(0.1 -0.1)\">\n       <use xlink:href=\"#DejaVuSans-8722\"/>\n       <use x=\"83.789062\" xlink:href=\"#DejaVuSans-50\"/>\n       <use x=\"147.412109\" xlink:href=\"#DejaVuSans-48\"/>\n      </g>\n     </g>\n    </g>\n    <g id=\"ytick_2\">\n     <g id=\"line2d_9\">\n      <g>\n       <use style=\"stroke:#000000;stroke-width:0.8;\" x=\"35.304688\" xlink:href=\"#m5bf734fe9f\" y=\"160.360721\"/>\n      </g>\n     </g>\n     <g id=\"text_9\">\n      <!-- −10 -->\n      <g transform=\"translate(7.2 164.159939)scale(0.1 -0.1)\">\n       <use xlink:href=\"#DejaVuSans-8722\"/>\n       <use x=\"83.789062\" xlink:href=\"#DejaVuSans-49\"/>\n       <use x=\"147.412109\" xlink:href=\"#DejaVuSans-48\"/>\n      </g>\n     </g>\n    </g>\n    <g id=\"ytick_3\">\n     <g id=\"line2d_10\">\n      <g>\n       <use style=\"stroke:#000000;stroke-width:0.8;\" x=\"35.304688\" xlink:href=\"#m5bf734fe9f\" y=\"117.9715\"/>\n      </g>\n     </g>\n     <g id=\"text_10\">\n      <!-- 0 -->\n      <g transform=\"translate(21.942188 121.770719)scale(0.1 -0.1)\">\n       <use xlink:href=\"#DejaVuSans-48\"/>\n      </g>\n     </g>\n    </g>\n    <g id=\"ytick_4\">\n     <g id=\"line2d_11\">\n      <g>\n       <use style=\"stroke:#000000;stroke-width:0.8;\" x=\"35.304688\" xlink:href=\"#m5bf734fe9f\" y=\"75.58228\"/>\n      </g>\n     </g>\n     <g id=\"text_11\">\n      <!-- 10 -->\n      <g transform=\"translate(15.579688 79.381499)scale(0.1 -0.1)\">\n       <use xlink:href=\"#DejaVuSans-49\"/>\n       <use x=\"63.623047\" xlink:href=\"#DejaVuSans-48\"/>\n      </g>\n     </g>\n    </g>\n    <g id=\"ytick_5\">\n     <g id=\"line2d_12\">\n      <g>\n       <use style=\"stroke:#000000;stroke-width:0.8;\" x=\"35.304688\" xlink:href=\"#m5bf734fe9f\" y=\"33.19306\"/>\n      </g>\n     </g>\n     <g id=\"text_12\">\n      <!-- 20 -->\n      <g transform=\"translate(15.579688 36.992278)scale(0.1 -0.1)\">\n       <use xlink:href=\"#DejaVuSans-50\"/>\n       <use x=\"63.623047\" xlink:href=\"#DejaVuSans-48\"/>\n      </g>\n     </g>\n    </g>\n   </g>\n   <g id=\"patch_3\">\n    <path d=\"M 35.304688 239.758125 \nL 35.304688 22.318125 \n\" style=\"fill:none;stroke:#000000;stroke-linecap:square;stroke-linejoin:miter;stroke-width:0.8;\"/>\n   </g>\n   <g id=\"patch_4\">\n    <path d=\"M 370.104688 239.758125 \nL 370.104688 22.318125 \n\" style=\"fill:none;stroke:#000000;stroke-linecap:square;stroke-linejoin:miter;stroke-width:0.8;\"/>\n   </g>\n   <g id=\"patch_5\">\n    <path d=\"M 35.304687 239.758125 \nL 370.104688 239.758125 \n\" style=\"fill:none;stroke:#000000;stroke-linecap:square;stroke-linejoin:miter;stroke-width:0.8;\"/>\n   </g>\n   <g id=\"patch_6\">\n    <path d=\"M 35.304687 22.318125 \nL 370.104688 22.318125 \n\" style=\"fill:none;stroke:#000000;stroke-linecap:square;stroke-linejoin:miter;stroke-width:0.8;\"/>\n   </g>\n   <g id=\"text_13\">\n    <!-- Test data -->\n    <defs>\n     <path d=\"M -0.296875 72.90625 \nL 61.375 72.90625 \nL 61.375 64.59375 \nL 35.5 64.59375 \nL 35.5 0 \nL 25.59375 0 \nL 25.59375 64.59375 \nL -0.296875 64.59375 \nz\n\" id=\"DejaVuSans-84\"/>\n     <path d=\"M 56.203125 29.59375 \nL 56.203125 25.203125 \nL 14.890625 25.203125 \nQ 15.484375 15.921875 20.484375 11.0625 \nQ 25.484375 6.203125 34.421875 6.203125 \nQ 39.59375 6.203125 44.453125 7.46875 \nQ 49.3125 8.734375 54.109375 11.28125 \nL 54.109375 2.78125 \nQ 49.265625 0.734375 44.1875 -0.34375 \nQ 39.109375 -1.421875 33.890625 -1.421875 \nQ 20.796875 -1.421875 13.15625 6.1875 \nQ 5.515625 13.8125 5.515625 26.8125 \nQ 5.515625 40.234375 12.765625 48.109375 \nQ 20.015625 56 32.328125 56 \nQ 43.359375 56 49.78125 48.890625 \nQ 56.203125 41.796875 56.203125 29.59375 \nz\nM 47.21875 32.234375 \nQ 47.125 39.59375 43.09375 43.984375 \nQ 39.0625 48.390625 32.421875 48.390625 \nQ 24.90625 48.390625 20.390625 44.140625 \nQ 15.875 39.890625 15.1875 32.171875 \nz\n\" id=\"DejaVuSans-101\"/>\n     <path d=\"M 44.28125 53.078125 \nL 44.28125 44.578125 \nQ 40.484375 46.53125 36.375 47.5 \nQ 32.28125 48.484375 27.875 48.484375 \nQ 21.1875 48.484375 17.84375 46.4375 \nQ 14.5 44.390625 14.5 40.28125 \nQ 14.5 37.15625 16.890625 35.375 \nQ 19.28125 33.59375 26.515625 31.984375 \nL 29.59375 31.296875 \nQ 39.15625 29.25 43.1875 25.515625 \nQ 47.21875 21.78125 47.21875 15.09375 \nQ 47.21875 7.46875 41.1875 3.015625 \nQ 35.15625 -1.421875 24.609375 -1.421875 \nQ 20.21875 -1.421875 15.453125 -0.5625 \nQ 10.6875 0.296875 5.421875 2 \nL 5.421875 11.28125 \nQ 10.40625 8.6875 15.234375 7.390625 \nQ 20.0625 6.109375 24.8125 6.109375 \nQ 31.15625 6.109375 34.5625 8.28125 \nQ 37.984375 10.453125 37.984375 14.40625 \nQ 37.984375 18.0625 35.515625 20.015625 \nQ 33.0625 21.96875 24.703125 23.78125 \nL 21.578125 24.515625 \nQ 13.234375 26.265625 9.515625 29.90625 \nQ 5.8125 33.546875 5.8125 39.890625 \nQ 5.8125 47.609375 11.28125 51.796875 \nQ 16.75 56 26.8125 56 \nQ 31.78125 56 36.171875 55.265625 \nQ 40.578125 54.546875 44.28125 53.078125 \nz\n\" id=\"DejaVuSans-115\"/>\n     <path d=\"M 18.3125 70.21875 \nL 18.3125 54.6875 \nL 36.8125 54.6875 \nL 36.8125 47.703125 \nL 18.3125 47.703125 \nL 18.3125 18.015625 \nQ 18.3125 11.328125 20.140625 9.421875 \nQ 21.96875 7.515625 27.59375 7.515625 \nL 36.8125 7.515625 \nL 36.8125 0 \nL 27.59375 0 \nQ 17.1875 0 13.234375 3.875 \nQ 9.28125 7.765625 9.28125 18.015625 \nL 9.28125 47.703125 \nL 2.6875 47.703125 \nL 2.6875 54.6875 \nL 9.28125 54.6875 \nL 9.28125 70.21875 \nz\n\" id=\"DejaVuSans-116\"/>\n     <path id=\"DejaVuSans-32\"/>\n     <path d=\"M 45.40625 46.390625 \nL 45.40625 75.984375 \nL 54.390625 75.984375 \nL 54.390625 0 \nL 45.40625 0 \nL 45.40625 8.203125 \nQ 42.578125 3.328125 38.25 0.953125 \nQ 33.9375 -1.421875 27.875 -1.421875 \nQ 17.96875 -1.421875 11.734375 6.484375 \nQ 5.515625 14.40625 5.515625 27.296875 \nQ 5.515625 40.1875 11.734375 48.09375 \nQ 17.96875 56 27.875 56 \nQ 33.9375 56 38.25 53.625 \nQ 42.578125 51.265625 45.40625 46.390625 \nz\nM 14.796875 27.296875 \nQ 14.796875 17.390625 18.875 11.75 \nQ 22.953125 6.109375 30.078125 6.109375 \nQ 37.203125 6.109375 41.296875 11.75 \nQ 45.40625 17.390625 45.40625 27.296875 \nQ 45.40625 37.203125 41.296875 42.84375 \nQ 37.203125 48.484375 30.078125 48.484375 \nQ 22.953125 48.484375 18.875 42.84375 \nQ 14.796875 37.203125 14.796875 27.296875 \nz\n\" id=\"DejaVuSans-100\"/>\n     <path d=\"M 34.28125 27.484375 \nQ 23.390625 27.484375 19.1875 25 \nQ 14.984375 22.515625 14.984375 16.5 \nQ 14.984375 11.71875 18.140625 8.90625 \nQ 21.296875 6.109375 26.703125 6.109375 \nQ 34.1875 6.109375 38.703125 11.40625 \nQ 43.21875 16.703125 43.21875 25.484375 \nL 43.21875 27.484375 \nz\nM 52.203125 31.203125 \nL 52.203125 0 \nL 43.21875 0 \nL 43.21875 8.296875 \nQ 40.140625 3.328125 35.546875 0.953125 \nQ 30.953125 -1.421875 24.3125 -1.421875 \nQ 15.921875 -1.421875 10.953125 3.296875 \nQ 6 8.015625 6 15.921875 \nQ 6 25.140625 12.171875 29.828125 \nQ 18.359375 34.515625 30.609375 34.515625 \nL 43.21875 34.515625 \nL 43.21875 35.40625 \nQ 43.21875 41.609375 39.140625 45 \nQ 35.0625 48.390625 27.6875 48.390625 \nQ 23 48.390625 18.546875 47.265625 \nQ 14.109375 46.140625 10.015625 43.890625 \nL 10.015625 52.203125 \nQ 14.9375 54.109375 19.578125 55.046875 \nQ 24.21875 56 28.609375 56 \nQ 40.484375 56 46.34375 49.84375 \nQ 52.203125 43.703125 52.203125 31.203125 \nz\n\" id=\"DejaVuSans-97\"/>\n    </defs>\n    <g transform=\"translate(175.468437 16.318125)scale(0.12 -0.12)\">\n     <use xlink:href=\"#DejaVuSans-84\"/>\n     <use x=\"44.083984\" xlink:href=\"#DejaVuSans-101\"/>\n     <use x=\"105.607422\" xlink:href=\"#DejaVuSans-115\"/>\n     <use x=\"157.707031\" xlink:href=\"#DejaVuSans-116\"/>\n     <use x=\"196.916016\" xlink:href=\"#DejaVuSans-32\"/>\n     <use x=\"228.703125\" xlink:href=\"#DejaVuSans-100\"/>\n     <use x=\"292.179688\" xlink:href=\"#DejaVuSans-97\"/>\n     <use x=\"353.458984\" xlink:href=\"#DejaVuSans-116\"/>\n     <use x=\"392.667969\" xlink:href=\"#DejaVuSans-97\"/>\n    </g>\n   </g>\n  </g>\n </g>\n <defs>\n  <clipPath id=\"pf03980fc57\">\n   <rect height=\"217.44\" width=\"334.8\" x=\"35.304688\" y=\"22.318125\"/>\n  </clipPath>\n </defs>\n</svg>\n"
          },
          "metadata": {
            "tags": [],
            "needs_background": "light"
          }
        }
      ]
    },
    {
      "cell_type": "code",
      "metadata": {
        "colab": {
          "base_uri": "https://localhost:8080/"
        },
        "id": "d4ppZB51mQt0",
        "outputId": "91b693e2-7f4a-4a1b-d129-b7158f3ee343"
      },
      "source": [
        "print('Кластер 0:', y_train[train_labels == 0].mean())"
      ],
      "execution_count": 130,
      "outputs": [
        {
          "output_type": "stream",
          "text": [
            "Кластер 0: Price    24.958115\n",
            "dtype: float64\n"
          ],
          "name": "stdout"
        }
      ]
    },
    {
      "cell_type": "code",
      "metadata": {
        "colab": {
          "base_uri": "https://localhost:8080/"
        },
        "id": "I0Ld_D_ls7Km",
        "outputId": "399c4cba-529c-43c8-d2d7-420f59619a0c"
      },
      "source": [
        "y_train[train_labels == 1].mean()"
      ],
      "execution_count": 131,
      "outputs": [
        {
          "output_type": "execute_result",
          "data": {
            "text/plain": [
              "Price    16.165354\n",
              "dtype: float64"
            ]
          },
          "metadata": {
            "tags": []
          },
          "execution_count": 131
        }
      ]
    },
    {
      "cell_type": "code",
      "metadata": {
        "colab": {
          "base_uri": "https://localhost:8080/"
        },
        "id": "o5Or3Wwfs4rX",
        "outputId": "2c04aa06-3002-48ab-c39f-e71b7dd1e644"
      },
      "source": [
        "y_train[train_labels == 2].mean()"
      ],
      "execution_count": 132,
      "outputs": [
        {
          "output_type": "execute_result",
          "data": {
            "text/plain": [
              "Price    27.788372\n",
              "dtype: float64"
            ]
          },
          "metadata": {
            "tags": []
          },
          "execution_count": 132
        }
      ]
    },
    {
      "cell_type": "code",
      "metadata": {
        "colab": {
          "base_uri": "https://localhost:8080/"
        },
        "id": "8VaBIxqntCkY",
        "outputId": "8963237f-9e54-410b-c969-f477461f6496"
      },
      "source": [
        "print('Кластер 0: {}'.format(X_train.loc[train_labels == 0, 'CRIM'].mean()))\n",
        "print('Кластер 0: {}'.format(X_train.loc[train_labels == 1, 'CRIM'].mean()))\n",
        "print('Кластер 0: {}'.format(X_train.loc[train_labels == 2, 'CRIM'].mean()))"
      ],
      "execution_count": 133,
      "outputs": [
        {
          "output_type": "stream",
          "text": [
            "Кластер 0: 0.42166020942408367\n",
            "Кластер 0: 10.797028425196853\n",
            "Кластер 0: 0.07356558139534886\n"
          ],
          "name": "stdout"
        }
      ]
    }
  ]
}